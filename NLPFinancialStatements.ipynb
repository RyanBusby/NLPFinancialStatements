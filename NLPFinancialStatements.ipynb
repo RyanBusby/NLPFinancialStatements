{
 "cells": [
  {
   "cell_type": "markdown",
   "metadata": {},
   "source": [
    "# NLP Financial Statements"
   ]
  },
  {
   "cell_type": "markdown",
   "metadata": {},
   "source": [
    "\n",
    "\n",
    " >**[Part 1 - Get Raw 10-Ks](#Part-1---Get-Raw-10-Ks)**\n",
    " \n",
    " >>[Get List of 10-Ks](#Get-List-of-10-Ks-for-Each-Company)\n",
    " \n",
    " >>[Download 10-Ks](#Download-10-Ks)\n",
    "\n",
    " >**[Part 2 - Pre-process Text](#Part-2---Pre-process-Text)**\n",
    " \n",
    " >>[Clean Text](#Clean-Text)\n",
    " \n",
    " >>[Lemmatize](#Lemmatize)\n",
    " \n",
    " >>[Remove Stopwords](#Remove-Stopwords)\n",
    " \n",
    " >**[Part 3 - Measure Sentiment](#Part-3---Measure-Sentiment)**\n",
    " \n",
    " >>[Loughran Mcdonald Sentment Word Lists](#Loughran-McDonald-Sentiment-Word-Lists)\n",
    " \n",
    " >>[Bag of Words](#Bag-of-Words)\n",
    " \n",
    " >>[Jaccard Similarity](#Jaccard-Similarity)\n",
    " \n",
    " >>[TFIDF](#TFIDF)\n",
    " \n",
    " >>[Cosine Similarity](#Cosine-Similarity)\n",
    " \n",
    " >**[Part 4 - Evaluate Alpha Factors](#Part-4---Evaluate-Alpha-Factors)**\n",
    " \n",
    " >>[Price Data](#Price-Data)\n",
    " \n",
    " >>[Alphalens Format](#Alphalens-Format)\n",
    " \n",
    " >>[Factor Returns](#Factor-Returns)\n",
    " \n",
    " >>[Basis Points per Day per Quantile](#Basis-Points-per-Day-per-Quantile)\n",
    " \n",
    " >>[Turnover Analysis](#Turnover-Analysis)\n",
    " \n",
    " >>[Sharpe Ratio of the Alphas](#Sharpe-Ratio-of-The-Alphas)\n",
    "\n",
    "\n"
   ]
  },
  {
   "cell_type": "code",
   "execution_count": 1,
   "metadata": {},
   "outputs": [],
   "source": [
    "import nltk\n",
    "import numpy as np\n",
    "import pandas as pd\n",
    "import pickle\n",
    "import pprint\n",
    "import requests\n",
    "import datetime as dt\n",
    "from bs4 import BeautifulSoup\n",
    "from tqdm import tqdm"
   ]
  },
  {
   "cell_type": "code",
   "execution_count": 2,
   "metadata": {},
   "outputs": [
    {
     "name": "stderr",
     "output_type": "stream",
     "text": [
      "[nltk_data] Downloading package stopwords to\n",
      "[nltk_data]     /Users/ryanbusby/nltk_data...\n",
      "[nltk_data]   Package stopwords is already up-to-date!\n",
      "[nltk_data] Downloading package wordnet to\n",
      "[nltk_data]     /Users/ryanbusby/nltk_data...\n",
      "[nltk_data]   Package wordnet is already up-to-date!\n"
     ]
    },
    {
     "data": {
      "text/plain": [
       "True"
      ]
     },
     "execution_count": 2,
     "metadata": {},
     "output_type": "execute_result"
    }
   ],
   "source": [
    "nltk.download('stopwords')\n",
    "nltk.download('wordnet')"
   ]
  },
  {
   "cell_type": "markdown",
   "metadata": {},
   "source": [
    "---\n",
    "## Part 1 - Get Raw 10-Ks"
   ]
  },
  {
   "cell_type": "markdown",
   "metadata": {},
   "source": [
    "### Get List of 10-Ks for Each Company"
   ]
  },
  {
   "cell_type": "code",
   "execution_count": 7,
   "metadata": {},
   "outputs": [],
   "source": [
    "cik_lookup = {\n",
    "    'AEP': '0000004904',\n",
    "    'AMZN': '0001018724',\n",
    "    'AXP': '0000004962',\n",
    "    'BA': '0000012927', \n",
    "    'BK': '0001390777',\n",
    "    'BMY': '0000014272',\n",
    "    'CAT': '0000018230',\n",
    "    'CNP': '0001130310',\n",
    "    'CVX': '0000093410',\n",
    "    'DE': '0000315189',\n",
    "    'DIS': '0001001039', \n",
    "    'DTE': '0000936340',\n",
    "    'ED': '0001047862',\n",
    "    'EMR': '0000032604',\n",
    "    'ETN': '0001551182',\n",
    "    'FL': '0000850209',\n",
    "    'FRT': '0000034903',\n",
    "    'GE': '0000040545',\n",
    "    'HON': '0000773840',\n",
    "    'IBM': '0000051143',\n",
    "    'IP': '0000051434',\n",
    "    'JNJ': '0000200406',\n",
    "    'KO': '0000021344',\n",
    "    'LLY': '0000059478',\n",
    "    'MCD': '0000063908',\n",
    "    'MO': '0000764180',\n",
    "    'MRK': '0000310158',\n",
    "    'MRO': '0000101778',\n",
    "    'PCG': '0001004980',\n",
    "    'PEP': '0000077476',\n",
    "    'PFE': '0000078003',\n",
    "    'PG': '0000080424',\n",
    "    'PNR': '0000077360',\n",
    "    'SYY': '0000096021',\n",
    "    'TXN': '0000097476',\n",
    "    'UTX': '0000101829',\n",
    "    'WFC': '0000072971',\n",
    "    'WMT': '0000104169',\n",
    "    'WY': '0000106535',\n",
    "    'XOM': '0000034088'\n",
    "}"
   ]
  },
  {
   "cell_type": "code",
   "execution_count": 8,
   "metadata": {},
   "outputs": [],
   "source": [
    "def get_sec_data(cik, doc_type, start=0, count=60):\n",
    "    newest_price_data = pd.to_datetime('2021-02-01')\n",
    "    rss_url = 'https://www.sec.gov/cgi-bin/browse-edgar?action=getcompany'\\\n",
    "    '&CIK={}&type={}&start={}&count={}&owner=exclude&output=atom'\\\n",
    "    .format(cik, doc_type, start, count)\n",
    "    sec_data = requests.get(rss_url).text.encode('ascii')\n",
    "    feed = BeautifulSoup(sec_data, 'xml').feed\n",
    "    entries = [\n",
    "        (\n",
    "            entry.content.find('filing-href').getText(),\n",
    "            entry.content.find('filing-type').getText(),\n",
    "            entry.content.find('filing-date').getText(),\n",
    "        )\\\n",
    "        for entry in feed.find_all('entry', recursive=False)\n",
    "        if pd.to_datetime(entry.content.find('filing-date').getText())\\\n",
    "        <= newest_price_data\n",
    "    ]\n",
    "    \n",
    "    return entries"
   ]
  },
  {
   "cell_type": "code",
   "execution_count": 10,
   "metadata": {},
   "outputs": [
    {
     "name": "stdout",
     "output_type": "stream",
     "text": [
      "[('https://www.sec.gov/Archives/edgar/data/1018724/000101872420000004/0001018724-20-000004-index.htm',\n",
      "  '10-K',\n",
      "  '2020-01-31'),\n",
      " ('https://www.sec.gov/Archives/edgar/data/1018724/000101872419000004/0001018724-19-000004-index.htm',\n",
      "  '10-K',\n",
      "  '2019-02-01'),\n",
      " ('https://www.sec.gov/Archives/edgar/data/1018724/000101872418000005/0001018724-18-000005-index.htm',\n",
      "  '10-K',\n",
      "  '2018-02-02'),\n",
      " ('https://www.sec.gov/Archives/edgar/data/1018724/000101872417000011/0001018724-17-000011-index.htm',\n",
      "  '10-K',\n",
      "  '2017-02-10'),\n",
      " ('https://www.sec.gov/Archives/edgar/data/1018724/000101872416000172/0001018724-16-000172-index.htm',\n",
      "  '10-K',\n",
      "  '2016-01-29'),\n",
      " ('https://www.sec.gov/Archives/edgar/data/1018724/000101872415000006/0001018724-15-000006-index.htm',\n",
      "  '10-K',\n",
      "  '2015-01-30'),\n",
      " ('https://www.sec.gov/Archives/edgar/data/1018724/000101872414000006/0001018724-14-000006-index.htm',\n",
      "  '10-K',\n",
      "  '2014-01-31'),\n",
      " ('https://www.sec.gov/Archives/edgar/data/1018724/000119312513028520/0001193125-13-028520-index.htm',\n",
      "  '10-K',\n",
      "  '2013-01-30'),\n",
      " ('https://www.sec.gov/Archives/edgar/data/1018724/000119312512032846/0001193125-12-032846-index.htm',\n",
      "  '10-K',\n",
      "  '2012-02-01'),\n",
      " ('https://www.sec.gov/Archives/edgar/data/1018724/000119312511050136/0001193125-11-050136-index.htm',\n",
      "  '10-K/A',\n",
      "  '2011-02-28')]\n"
     ]
    }
   ],
   "source": [
    "sec_data = {}\n",
    "\n",
    "for ticker, cik in cik_lookup.items():\n",
    "    sec_data[ticker] = get_sec_data(cik, '10-K')\n",
    "    \n",
    "pprint.pprint(sec_data['AMZN'][:10])"
   ]
  },
  {
   "cell_type": "markdown",
   "metadata": {},
   "source": [
    "[&#9650;back to top](#NLP-Financial-Statements)\n",
    "\n",
    "---"
   ]
  },
  {
   "cell_type": "markdown",
   "metadata": {},
   "source": [
    "### Download 10-Ks\n",
    "\n",
    "Iterate over urls in ```sec_data``` and load raw 10-Ks into a dictionary.\n",
    "The urls in ```sec_data``` point to metadata, simply replace part of the url to get the raw text file."
   ]
  },
  {
   "cell_type": "code",
   "execution_count": 11,
   "metadata": {},
   "outputs": [
    {
     "name": "stderr",
     "output_type": "stream",
     "text": [
      "Downloading AEP Filings: 100%|██████████| 29/29 [01:10<00:00,  2.44s/filing]\n",
      "Downloading AMZN Filings: 100%|██████████| 25/25 [00:05<00:00,  4.51filing/s]\n",
      "Downloading AXP Filings: 100%|██████████| 31/31 [00:11<00:00,  2.72filing/s]\n",
      "Downloading BA Filings: 100%|██████████| 30/30 [00:13<00:00,  2.25filing/s]\n",
      "Downloading BK Filings: 100%|██████████| 15/15 [00:12<00:00,  1.18filing/s]\n",
      "Downloading BMY Filings: 100%|██████████| 30/30 [00:11<00:00,  2.62filing/s]\n",
      "Downloading CAT Filings: 100%|██████████| 40/40 [00:25<00:00,  1.57filing/s]\n",
      "Downloading CNP Filings: 100%|██████████| 22/22 [00:08<00:00,  2.56filing/s]\n",
      "Downloading CVX Filings: 100%|██████████| 28/28 [00:14<00:00,  1.90filing/s]\n",
      "Downloading DE Filings: 100%|██████████| 33/33 [00:17<00:00,  1.87filing/s]\n",
      "Downloading DIS Filings: 100%|██████████| 38/38 [00:13<00:00,  2.75filing/s]\n",
      "Downloading DTE Filings: 100%|██████████| 27/27 [00:18<00:00,  1.43filing/s]\n",
      "Downloading ED Filings: 100%|██████████| 23/23 [00:12<00:00,  1.84filing/s]\n",
      "Downloading EMR Filings: 100%|██████████| 28/28 [00:11<00:00,  2.49filing/s]\n",
      "Downloading ETN Filings: 100%|██████████| 8/8 [00:06<00:00,  1.21filing/s]\n",
      "Downloading FL Filings: 100%|██████████| 25/25 [00:05<00:00,  4.25filing/s]\n",
      "Downloading FRT Filings: 100%|██████████| 32/32 [00:06<00:00,  4.82filing/s]\n",
      "Downloading GE Filings: 100%|██████████| 29/29 [00:26<00:00,  1.09filing/s]\n",
      "Downloading HON Filings: 100%|██████████| 28/28 [00:08<00:00,  3.25filing/s]\n",
      "Downloading IBM Filings: 100%|██████████| 27/27 [00:12<00:00,  2.11filing/s]\n",
      "Downloading IP Filings: 100%|██████████| 32/32 [00:11<00:00,  2.70filing/s]\n",
      "Downloading JNJ Filings: 100%|██████████| 37/37 [00:13<00:00,  2.84filing/s]\n",
      "Downloading KO Filings: 100%|██████████| 28/28 [00:12<00:00,  2.21filing/s]\n",
      "Downloading LLY Filings: 100%|██████████| 28/28 [00:09<00:00,  2.85filing/s]\n",
      "Downloading MCD Filings: 100%|██████████| 29/29 [00:13<00:00,  2.22filing/s]\n",
      "Downloading MO Filings: 100%|██████████| 34/34 [00:12<00:00,  2.76filing/s]\n",
      "Downloading MRK Filings: 100%|██████████| 35/35 [00:16<00:00,  2.15filing/s]\n",
      "Downloading MRO Filings: 100%|██████████| 32/32 [00:12<00:00,  2.59filing/s]\n",
      "Downloading PCG Filings: 100%|██████████| 31/31 [00:10<00:00,  3.07filing/s]\n",
      "Downloading PEP Filings: 100%|██████████| 28/28 [00:10<00:00,  2.64filing/s]\n",
      "Downloading PFE Filings: 100%|██████████| 28/28 [00:14<00:00,  1.89filing/s]\n",
      "Downloading PG Filings: 100%|██████████| 29/29 [00:19<00:00,  1.51filing/s]\n",
      "Downloading PNR Filings: 100%|██████████| 29/29 [00:08<00:00,  3.24filing/s]\n",
      "Downloading SYY Filings: 100%|██████████| 29/29 [00:12<00:00,  2.35filing/s]\n",
      "Downloading TXN Filings: 100%|██████████| 30/30 [00:12<00:00,  2.34filing/s]\n",
      "Downloading UTX Filings: 100%|██████████| 30/30 [00:09<00:00,  3.20filing/s]\n",
      "Downloading WFC Filings: 100%|██████████| 31/31 [00:22<00:00,  1.38filing/s]\n",
      "Downloading WMT Filings: 100%|██████████| 29/29 [00:13<00:00,  2.16filing/s]\n",
      "Downloading WY Filings: 100%|██████████| 30/30 [00:18<00:00,  1.65filing/s]\n",
      "Downloading XOM Filings: 100%|██████████| 28/28 [00:09<00:00,  2.91filing/s]\n"
     ]
    }
   ],
   "source": [
    "raw_filings = {}\n",
    "\n",
    "for ticker, data in sec_data.items():\n",
    "    raw_filings[ticker] = {}\n",
    "    for index_url, file_type, file_date in tqdm(data, desc='Downloading {} Filings'.format(ticker), unit='filing'):\n",
    "        if file_type == '10-K':\n",
    "            file_url = index_url.replace('-index.htm', '.txt').replace('.txtl', 'txt')\n",
    "            raw_filings[ticker][file_date] = requests.get(file_url).text"
   ]
  },
  {
   "cell_type": "code",
   "execution_count": 12,
   "metadata": {},
   "outputs": [
    {
     "name": "stdout",
     "output_type": "stream",
     "text": [
      "Example Document:\n",
      "\n",
      "<SEC-DOCUMENT>0000034088-20-000016.txt : 20200226\n",
      "<SEC-HEADER>0000034088-20-000016.hdr.sgml : 20200226\n",
      "<ACCEPTANCE-DATETIME>20200226161519\n",
      "ACCESSION NUMBER:\t\t0000034088-20-000016\n",
      "CONFORMED SUBMISSION TYPE:\t10-K\n",
      "PUBLIC DOCUMENT COUNT:\t\t138\n",
      "CONFORMED PERIOD OF REPORT:\t20191231\n",
      "FILED AS OF DATE:\t\t20200226\n",
      "DATE AS OF CHANGE:\t\t20200226\n",
      "\n",
      "FILER:\n",
      "\n",
      "\tCOMPANY DATA:\t\n",
      "\t\tCOMPANY CONFORMED NAME:\t\t\tEXXON MOBIL CORP\n",
      "\t\tCENTRAL INDEX KEY:\t\t\t0000034088\n",
      "\t\tSTANDARD INDUSTRIAL CLASSIFICATION:\tPETROLEUM REFINING [2911]\n",
      "\t\tIRS NUMBER:\t\t\t\t135409005\n",
      "\t\tSTATE OF INCORPORATION:\t\t\tNJ\n",
      "\t\tFISCAL YEAR END:\t\t\t1231\n",
      "\n",
      "\tFILING VALUES:\n",
      "\t\tFORM TYPE:\t\t10-K\n",
      "\t\tSEC ACT:\t\t1934 Act\n",
      "\t\tSEC FILE NUMBER:\t001-02256\n",
      "\t\tFILM NUMBER:\t\t20655849\n",
      "\n",
      "\tBUSINESS ADDRESS:\t\n",
      "\t\tSTREET 1:\t\t5959 LAS COLINAS BLVD\n",
      "\t\tCITY:\t\t\tIRVING\n",
      "\t\tSTATE:\t\t\tTX\n",
      "\t\tZIP:\t\t\t75039-2298\n",
      "\t\tBUSINESS PHONE:\t\t9729406000\n",
      "\n",
      "\tMAIL ADDRESS:\t\n",
      "\t\tSTREET 1:\t\t5959 LAS COLINAS BLVD\n",
      "\t\tCITY:\t\t\tIRVING\n",
      "\t\tSTATE:\t\t\tTX\n",
      "\t\tZIP:\t\t\t75039-2298\n",
      "\n",
      "\tFORMER COMPANY:\t\n",
      "\t\tFORMER CONFORMED NAME:\tEXXON CORP\n",
      "\t\tDATE OF NAME CHANGE:\t19920703\n",
      "\n",
      "\tFORMER COMPANY:\t\n",
      "\t\tFORMER CONFORMED NAME:\tSTANDARD OIL CO OF NEW JERSEY\n",
      "\t\tDATE OF NAME CHANGE:\t19721123\n",
      "</SEC-HEADER>\n",
      "<DOCUMENT>\n",
      "<TYPE>10-K\n",
      "<SEQUENCE>1\n",
      "<FILENAME>xom10k2019.htm\n",
      "<DESCRIPTION>FORM 10-K\n",
      "<TEXT>\n",
      "<XBRL>\n",
      "<?xml version=\"1.0\" encoding=\"UTF-8\"?>\n",
      "<!--Documents rendered in XBRL format prepared by Certent CDM XBRL Version: 19.11.1 -->\n",
      "<!--XBRL 2.1 & Dimensional Validation Status: Passed. -->\n",
      "<!--XSD Content Model Validation Status: Passed. -->\n",
      "<!--CDM/Internal Validation Status: Passed -->\n",
      "<!--EFM Validation Status: Failed -->\n",
      "<!--Generic Inline XBRL Validation Status: Not Performed. -->\n",
      "<!--Formula Linkbase Validation Status: Not Performed --><!--Generic inline XBRL validation was not performed.  Validity is not guaranteed. -->\n",
      "<html xmlns=\"http://www.w3.org/1999/xhtml\" xmlns:xlink=\"http://www.w3.org/1999/xlink\" xmlns:ix=\"http://www.xbrl.org/2013/inlineXBRL\" xmlns:ixt=\"http://www.xbrl.org/inlineXBRL/transformation/2015-02-26\" xmlns:xsi=\"http://www.w3.org/2001/XMLSchema-instance\" xmlns:link=\"http://www.xbrl.org/2003/linkbase\" xmlns:xbrldi=\"http://xbrl.org/2006/xbrldi\" xmlns:us-gaap=\"http://fasb.org/us-gaap/2019-01-31\" xmlns:iso4217=\"http://www.xbrl.org/2003/iso4217\" xmlns:utr=\"http://www.xbrl.org/2009/utr\" xmlns:dei=\"http://xbrl.sec.gov/dei/2019-01-31\" xmlns:xbrli=\"http://www.xbrl.org/2003/instance\" xmlns:xs=\"http://www.w3.org/2001/XMLSchema\" xmlns:xl=\"http://www.xbrl.org/2003/XLink\" xmlns:xbrldt=\"http://xbrl.org/2005/xbrldt\" xmlns:xom=\"http://www.exxonmobil.com/20191231\" xmlns:num=\"http://www.xbrl.org/dtr/type/numeric\" xmlns:nonnum=\"http://www.xbrl.org/dtr/type/non-numeric\" xmlns:negated=\"http://www.xbrl.org/2009/role/negated\" xmlns:ref=\"http://www.xbrl.org/2006/ref\" xmlns:us-types=\"http://fasb.org/us-types/2019-01-31\" xmlns:srt-types=\"http://fasb.org/srt-types/2019-01-31\" xmlns:srt=\"http://fasb.org/srt/2019-01-31\" xmlns:us-roles=\"http://fasb.org/us-roles/2019-01-31\" xmlns:country=\"http://xbrl.sec.gov/country/2017-01-31\" xmlns:srt-roles...\n"
     ]
    }
   ],
   "source": [
    "print('Example Document:\\n\\n{}...'.format(next(iter(raw_filings['XOM'].values()))[:3000]))"
   ]
  },
  {
   "cell_type": "markdown",
   "metadata": {},
   "source": [
    "#### Extract the Content Within the &lt;DOCUMENT&gt; Tag"
   ]
  },
  {
   "cell_type": "code",
   "execution_count": 13,
   "metadata": {},
   "outputs": [],
   "source": [
    "import re"
   ]
  },
  {
   "cell_type": "code",
   "execution_count": 14,
   "metadata": {},
   "outputs": [],
   "source": [
    "def get_documents(raw_file):\n",
    "    start_regex, end_regex = re.compile(r'<DOCUMENT>'), re.compile(r'</DOCUMENT>')\n",
    "    \n",
    "    start_indices = [m.end() for m in start_regex.finditer(raw_file)]\n",
    "    end_indices = [m.start() for m in end_regex.finditer(raw_file)]\n",
    "    \n",
    "    extracted_docs = [raw_file[a:b] for a,b in zip(start_indices, end_indices)]\n",
    "    \n",
    "    return extracted_docs"
   ]
  },
  {
   "cell_type": "code",
   "execution_count": 15,
   "metadata": {},
   "outputs": [
    {
     "name": "stderr",
     "output_type": "stream",
     "text": [
      "Getting Documents from AEP Filings: 100%|██████████| 23/23 [00:10<00:00,  2.19filing/s]\n",
      "Getting Documents from AMZN Filings: 100%|██████████| 20/20 [00:00<00:00, 30.69filing/s]\n",
      "Getting Documents from AXP Filings: 100%|██████████| 24/24 [00:02<00:00, 11.78filing/s]\n",
      "Getting Documents from BA Filings: 100%|██████████| 28/28 [00:01<00:00, 18.22filing/s]\n",
      "Getting Documents from BK Filings: 100%|██████████| 13/13 [00:03<00:00,  3.62filing/s]\n",
      "Getting Documents from BMY Filings: 100%|██████████| 26/26 [00:02<00:00, 10.37filing/s]\n",
      "Getting Documents from CAT Filings: 100%|██████████| 19/19 [00:06<00:00,  2.95filing/s]\n",
      "Getting Documents from CNP Filings: 100%|██████████| 18/18 [00:02<00:00,  7.84filing/s]\n",
      "Getting Documents from CVX Filings: 100%|██████████| 24/24 [00:02<00:00,  9.61filing/s]\n",
      "Getting Documents from DE Filings: 100%|██████████| 20/20 [00:04<00:00,  4.97filing/s]\n",
      "Getting Documents from DIS Filings: 100%|██████████| 22/22 [00:01<00:00, 11.95filing/s]\n",
      "Getting Documents from DTE Filings: 100%|██████████| 19/19 [00:02<00:00,  6.60filing/s]\n",
      "Getting Documents from ED Filings: 100%|██████████| 21/21 [00:03<00:00,  5.86filing/s]\n",
      "Getting Documents from EMR Filings: 100%|██████████| 27/27 [00:01<00:00, 15.65filing/s]\n",
      "Getting Documents from ETN Filings: 100%|██████████| 8/8 [00:02<00:00,  3.73filing/s]\n",
      "Getting Documents from FL Filings: 100%|██████████| 19/19 [00:01<00:00, 15.39filing/s]\n",
      "Getting Documents from FRT Filings: 100%|██████████| 22/22 [00:01<00:00, 13.06filing/s]\n",
      "Getting Documents from GE Filings: 100%|██████████| 20/20 [00:05<00:00,  3.75filing/s]\n",
      "Getting Documents from HON Filings: 100%|██████████| 23/23 [00:02<00:00,  8.59filing/s]\n",
      "Getting Documents from IBM Filings: 100%|██████████| 23/23 [00:04<00:00,  5.35filing/s]\n",
      "Getting Documents from IP Filings: 100%|██████████| 23/23 [00:02<00:00,  9.35filing/s]\n",
      "Getting Documents from JNJ Filings: 100%|██████████| 21/21 [00:02<00:00, 10.42filing/s]\n",
      "Getting Documents from KO Filings: 100%|██████████| 24/24 [00:02<00:00,  8.31filing/s]\n",
      "Getting Documents from LLY Filings: 100%|██████████| 24/24 [00:01<00:00, 14.93filing/s]\n",
      "Getting Documents from MCD Filings: 100%|██████████| 25/25 [00:01<00:00, 13.28filing/s]\n",
      "Getting Documents from MO Filings: 100%|██████████| 22/22 [00:03<00:00,  6.51filing/s]\n",
      "Getting Documents from MRK Filings: 100%|██████████| 26/26 [00:02<00:00,  9.12filing/s]\n",
      "Getting Documents from MRO Filings: 100%|██████████| 26/26 [00:03<00:00,  7.91filing/s]\n",
      "Getting Documents from PCG Filings: 100%|██████████| 21/21 [00:02<00:00,  7.42filing/s]\n",
      "Getting Documents from PEP Filings: 100%|██████████| 26/26 [00:03<00:00,  8.59filing/s]\n",
      "Getting Documents from PFE Filings: 100%|██████████| 25/25 [00:04<00:00,  5.71filing/s]\n",
      "Getting Documents from PG Filings: 100%|██████████| 27/27 [00:03<00:00,  8.14filing/s]\n",
      "Getting Documents from PNR Filings: 100%|██████████| 24/24 [00:02<00:00,  9.83filing/s]\n",
      "Getting Documents from SYY Filings: 100%|██████████| 27/27 [00:03<00:00,  8.61filing/s]\n",
      "Getting Documents from TXN Filings: 100%|██████████| 22/22 [00:02<00:00,  7.64filing/s]\n",
      "Getting Documents from UTX Filings: 100%|██████████| 27/27 [00:02<00:00, 12.56filing/s]\n",
      "Getting Documents from WFC Filings: 100%|██████████| 26/26 [00:08<00:00,  2.94filing/s]\n",
      "Getting Documents from WMT Filings: 100%|██████████| 26/26 [00:01<00:00, 16.98filing/s]\n",
      "Getting Documents from WY Filings: 100%|██████████| 26/26 [00:03<00:00,  7.91filing/s]\n",
      "Getting Documents from XOM Filings: 100%|██████████| 25/25 [00:02<00:00,  9.97filing/s]\n"
     ]
    }
   ],
   "source": [
    "filing_docs = {}\n",
    "for ticker, filings in raw_filings.items():\n",
    "    filing_docs[ticker] = {}\n",
    "    for file_date, raw_file in tqdm(filings.items(), desc='Getting Documents from {} Filings'.format(ticker), unit='filing'):\n",
    "        filing_docs[ticker][file_date] = get_documents(raw_file)"
   ]
  },
  {
   "cell_type": "code",
   "execution_count": 16,
   "metadata": {},
   "outputs": [
    {
     "name": "stdout",
     "output_type": "stream",
     "text": [
      "Document 0 Filed on 2020-01-31:\n",
      "\n",
      "<TYPE>10-K\n",
      "<SEQUENCE>1\n",
      "<FILENAME>amzn-20191231x10k.htm\n",
      "<DESCRIPTION>10-K\n",
      "<TEXT>\n",
      "<XBRL>\n",
      "<?xml version=\"1.0\" encoding=\"UTF-8\"?>\n",
      "<!--XBRL Document Created with Wdesk from Workiva-->\n",
      "<!--p:c57a17684e854b...\n",
      "\n",
      "Document 1 Filed on 2020-01-31:\n",
      "\n",
      "<TYPE>EX-4.6\n",
      "<SEQUENCE>2\n",
      "<FILENAME>amzn-20191231xex46.htm\n",
      "<DESCRIPTION>EXHIBIT 4.6\n",
      "<TEXT>\n",
      "<!DOCTYPE html PUBLIC \"-//W3C//DTD HTML 4.01 Transitional//EN\" \"http://www.w3.org/TR/html4/loose.dtd\">\n",
      "<html>...\n",
      "\n",
      "Document 2 Filed on 2020-01-31:\n",
      "\n",
      "<TYPE>EX-21.1\n",
      "<SEQUENCE>3\n",
      "<FILENAME>amzn-20191231xex211.htm\n",
      "<DESCRIPTION>EXHIBIT 21.1\n",
      "<TEXT>\n",
      "<!DOCTYPE html PUBLIC \"-//W3C//DTD HTML 4.01 Transitional//EN\" \"http://www.w3.org/TR/html4/loose.dtd\">\n",
      "<ht...\n"
     ]
    }
   ],
   "source": [
    "print(\n",
    "    '\\n\\n'.join(\n",
    "        [\n",
    "            'Document {} Filed on {}:\\n{}...'.format(doc_i, file_date, doc[:200])\n",
    "            for file_date, docs in filing_docs['AMZN'].items()\n",
    "            for doc_i, doc in enumerate(docs)\n",
    "        ][:3]\n",
    "    )\n",
    ")"
   ]
  },
  {
   "cell_type": "markdown",
   "metadata": {},
   "source": [
    "#### Filter Out 10-Ks"
   ]
  },
  {
   "cell_type": "code",
   "execution_count": 17,
   "metadata": {},
   "outputs": [],
   "source": [
    "def get_doc_type(doc):\n",
    "    regex = re.compile(r'<TYPE>[\\S]+')\n",
    "    matches = regex.finditer(doc)\n",
    "    doc_type = next(matches).group(0)[6:].lower()\n",
    "    \n",
    "    return doc_type"
   ]
  },
  {
   "cell_type": "code",
   "execution_count": 18,
   "metadata": {},
   "outputs": [],
   "source": [
    "tenKs = {}\n",
    "\n",
    "for ticker, filing_documents in filing_docs.items():\n",
    "    tenKs[ticker] = []\n",
    "    for file_date, docs in filing_documents.items():\n",
    "        for doc in docs:\n",
    "            if get_doc_type(doc) == '10-k':\n",
    "                tenKs[ticker].append(\n",
    "                    {\n",
    "                        'cik': cik_lookup[ticker],\n",
    "                        'file': doc,\n",
    "                        'file_date': file_date\n",
    "                    }\n",
    "                )"
   ]
  },
  {
   "cell_type": "code",
   "execution_count": 19,
   "metadata": {},
   "outputs": [],
   "source": [
    "from nb_utils import *"
   ]
  },
  {
   "cell_type": "code",
   "execution_count": 20,
   "metadata": {},
   "outputs": [
    {
     "name": "stdout",
     "output_type": "stream",
     "text": [
      "[\n",
      "  {\n",
      "    cik: '0001018724'\n",
      "    file: '\\n<TYPE>10-K\\n<SEQUENCE>1\\n<FILENAME>amzn-2019123...\n",
      "    file_date: '2020-01-31'},\n",
      "  {\n",
      "    cik: '0001018724'\n",
      "    file: '\\n<TYPE>10-K\\n<SEQUENCE>1\\n<FILENAME>amzn-2018123...\n",
      "    file_date: '2019-02-01'},\n",
      "  {\n",
      "    cik: '0001018724'\n",
      "    file: '\\n<TYPE>10-K\\n<SEQUENCE>1\\n<FILENAME>amzn-2017123...\n",
      "    file_date: '2018-02-02'},\n",
      "  {\n",
      "    cik: '0001018724'\n",
      "    file: '\\n<TYPE>10-K\\n<SEQUENCE>1\\n<FILENAME>amzn-2016123...\n",
      "    file_date: '2017-02-10'},\n",
      "  {\n",
      "    cik: '0001018724'\n",
      "    file: '\\n<TYPE>10-K\\n<SEQUENCE>1\\n<FILENAME>amzn-2015123...\n",
      "    file_date: '2016-01-29'},\n",
      "]\n"
     ]
    }
   ],
   "source": [
    "ten_k_data = tenKs['AMZN'][:5]\n",
    "fields = ['cik','file','file_date']\n",
    "field_length_limit=50\n",
    "\n",
    "print_ten_k_data(ten_k_data, fields)"
   ]
  },
  {
   "cell_type": "markdown",
   "metadata": {},
   "source": [
    "[&#9650;back to top](#NLP-Financial-Statements)\n",
    "\n",
    "---\n",
    "\n",
    "## Part 2 - Pre-process Text"
   ]
  },
  {
   "cell_type": "markdown",
   "metadata": {},
   "source": [
    "### Clean Text"
   ]
  },
  {
   "cell_type": "code",
   "execution_count": 21,
   "metadata": {},
   "outputs": [],
   "source": [
    "def clean_text(text):\n",
    "    text = text.lower()\n",
    "    \n",
    "    text = BeautifulSoup(text, 'html.parser').get_text()\n",
    "    \n",
    "    return text"
   ]
  },
  {
   "cell_type": "code",
   "execution_count": 22,
   "metadata": {},
   "outputs": [
    {
     "name": "stderr",
     "output_type": "stream",
     "text": [
      "Cleaning AEP 10-Ks: 100%|██████████| 25/25 [00:30<00:00,  1.22s/10-K]\n",
      "Cleaning AMZN 10-Ks: 100%|██████████| 18/18 [00:36<00:00,  2.03s/10-K]\n",
      "Cleaning AXP 10-Ks: 100%|██████████| 19/19 [00:41<00:00,  2.16s/10-K]\n",
      "Cleaning BA 10-Ks: 100%|██████████| 21/21 [00:49<00:00,  2.34s/10-K]\n",
      "Cleaning BK 10-Ks: 100%|██████████| 13/13 [00:04<00:00,  2.9210-K/s]\n",
      "Cleaning BMY 10-Ks: 100%|██████████| 19/19 [01:16<00:00,  4.01s/10-K]\n",
      "Cleaning CAT 10-Ks: 100%|██████████| 35/35 [01:09<00:00,  1.98s/10-K]\n",
      "Cleaning CNP 10-Ks: 100%|██████████| 18/18 [01:11<00:00,  3.99s/10-K]\n",
      "Cleaning CVX 10-Ks: 100%|██████████| 19/19 [02:23<00:00,  7.56s/10-K]\n",
      "Cleaning DE 10-Ks: 100%|██████████| 19/19 [01:06<00:00,  3.51s/10-K]\n",
      "Cleaning DIS 10-Ks: 100%|██████████| 19/19 [01:00<00:00,  3.19s/10-K]\n",
      "Cleaning DTE 10-Ks: 100%|██████████| 19/19 [01:27<00:00,  4.59s/10-K]\n",
      "Cleaning ED 10-Ks: 100%|██████████| 20/20 [01:30<00:00,  4.53s/10-K]\n",
      "Cleaning EMR 10-Ks: 100%|██████████| 21/21 [00:10<00:00,  2.0810-K/s]\n",
      "Cleaning ETN 10-Ks: 100%|██████████| 8/8 [00:28<00:00,  3.58s/10-K]\n",
      "Cleaning FL 10-Ks: 100%|██████████| 19/19 [00:23<00:00,  1.26s/10-K]\n",
      "Cleaning FRT 10-Ks: 100%|██████████| 18/18 [00:48<00:00,  2.72s/10-K]\n",
      "Cleaning GE 10-Ks: 100%|██████████| 19/19 [01:16<00:00,  4.05s/10-K]\n",
      "Cleaning HON 10-Ks: 100%|██████████| 20/20 [00:51<00:00,  2.60s/10-K]\n",
      "Cleaning IBM 10-Ks: 100%|██████████| 19/19 [00:05<00:00,  3.5010-K/s]\n",
      "Cleaning IP 10-Ks: 100%|██████████| 19/19 [00:48<00:00,  2.56s/10-K]\n",
      "Cleaning JNJ 10-Ks: 100%|██████████| 19/19 [00:18<00:00,  1.0310-K/s]\n",
      "Cleaning KO 10-Ks: 100%|██████████| 20/20 [00:50<00:00,  2.53s/10-K]\n",
      "Cleaning LLY 10-Ks: 100%|██████████| 19/19 [00:29<00:00,  1.55s/10-K]\n",
      "Cleaning MCD 10-Ks: 100%|██████████| 34/34 [00:38<00:00,  1.15s/10-K]\n",
      "Cleaning MO 10-Ks: 100%|██████████| 18/18 [00:34<00:00,  1.94s/10-K]\n",
      "Cleaning MRK 10-Ks: 100%|██████████| 20/20 [00:55<00:00,  2.79s/10-K]\n",
      "Cleaning MRO 10-Ks: 100%|██████████| 20/20 [01:38<00:00,  4.95s/10-K]\n",
      "Cleaning PCG 10-Ks: 100%|██████████| 20/20 [00:34<00:00,  1.73s/10-K]\n",
      "Cleaning PEP 10-Ks: 100%|██████████| 20/20 [00:54<00:00,  2.73s/10-K]\n",
      "Cleaning PFE 10-Ks: 100%|██████████| 19/19 [00:05<00:00,  3.2510-K/s]\n",
      "Cleaning PG 10-Ks: 100%|██████████| 21/21 [00:19<00:00,  1.0810-K/s]\n",
      "Cleaning PNR 10-Ks: 100%|██████████| 19/19 [00:45<00:00,  2.41s/10-K]\n",
      "Cleaning SYY 10-Ks: 100%|██████████| 21/21 [00:44<00:00,  2.11s/10-K]\n",
      "Cleaning TXN 10-Ks: 100%|██████████| 18/18 [00:12<00:00,  1.4910-K/s]\n",
      "Cleaning UTX 10-Ks: 100%|██████████| 20/20 [00:04<00:00,  4.4310-K/s]\n",
      "Cleaning WFC 10-Ks: 100%|██████████| 20/20 [00:07<00:00,  2.7710-K/s]\n",
      "Cleaning WMT 10-Ks: 100%|██████████| 20/20 [00:13<00:00,  1.5310-K/s]\n",
      "Cleaning WY 10-Ks: 100%|██████████| 23/23 [00:55<00:00,  2.40s/10-K]\n",
      "Cleaning XOM 10-Ks: 100%|██████████| 20/20 [01:42<00:00,  5.12s/10-K]\n"
     ]
    }
   ],
   "source": [
    "for ticker, tenK_ in tenKs.items():\n",
    "    for tenK in tqdm(tenK_, desc='Cleaning {} 10-Ks'.format(ticker), unit='10-K'):\n",
    "        tenK['file_clean'] = clean_text(tenK['file'])"
   ]
  },
  {
   "cell_type": "code",
   "execution_count": 23,
   "metadata": {},
   "outputs": [
    {
     "name": "stdout",
     "output_type": "stream",
     "text": [
      "[\n",
      "  {\n",
      "    file_clean: '\\n10-k\\n1\\namzn-20191231x10k.htm\\n10-k\\n\\n\\n\\n\\n\\...},\n",
      "  {\n",
      "    file_clean: '\\n10-k\\n1\\namzn-20181231x10k.htm\\n10-k\\n\\n\\n\\n\\n\\...},\n",
      "  {\n",
      "    file_clean: '\\n10-k\\n1\\namzn-20171231x10k.htm\\n10-k\\n\\n\\n\\n\\n\\...},\n",
      "  {\n",
      "    file_clean: '\\n10-k\\n1\\namzn-20161231x10k.htm\\nform 10-k\\n\\n\\n...},\n",
      "  {\n",
      "    file_clean: '\\n10-k\\n1\\namzn-20151231x10k.htm\\nform 10-k\\n\\n\\n...},\n",
      "]\n"
     ]
    }
   ],
   "source": [
    "print_ten_k_data(tenKs['AMZN'][:5], ['file_clean'])"
   ]
  },
  {
   "cell_type": "markdown",
   "metadata": {},
   "source": [
    "[&#9650;back to top](#NLP-Financial-Statements)\n",
    "\n",
    "---"
   ]
  },
  {
   "cell_type": "markdown",
   "metadata": {},
   "source": [
    "### Lemmatize"
   ]
  },
  {
   "cell_type": "code",
   "execution_count": 29,
   "metadata": {},
   "outputs": [],
   "source": [
    "from nltk.stem import WordNetLemmatizer\n",
    "from nltk.corpus import wordnet"
   ]
  },
  {
   "cell_type": "code",
   "execution_count": 30,
   "metadata": {},
   "outputs": [],
   "source": [
    "def lemmatize_words(words):\n",
    "    \n",
    "    lemmatizer = WordNetLemmatizer()\n",
    "    lemmatized_words = [lemmatizer.lemmatize(w, pos='v') for w in words]\n",
    "    \n",
    "    return lemmatized_words"
   ]
  },
  {
   "cell_type": "code",
   "execution_count": 51,
   "metadata": {},
   "outputs": [
    {
     "name": "stderr",
     "output_type": "stream",
     "text": [
      "Lemmatize AEP 10-Ks: 100%|██████████| 25/25 [00:06<00:00,  3.7710-K/s]\n",
      "Lemmatize AMZN 10-Ks: 100%|██████████| 18/18 [00:02<00:00,  6.1110-K/s]\n",
      "Lemmatize AXP 10-Ks: 100%|██████████| 19/19 [00:04<00:00,  3.8110-K/s]\n",
      "Lemmatize BA 10-Ks: 100%|██████████| 21/21 [00:04<00:00,  4.2310-K/s]\n",
      "Lemmatize BK 10-Ks: 100%|██████████| 13/13 [00:01<00:00,  7.8110-K/s]\n",
      "Lemmatize BMY 10-Ks: 100%|██████████| 19/19 [00:05<00:00,  3.3210-K/s]\n",
      "Lemmatize CAT 10-Ks: 100%|██████████| 35/35 [00:17<00:00,  1.9710-K/s]\n",
      "Lemmatize CNP 10-Ks: 100%|██████████| 18/18 [00:05<00:00,  3.0610-K/s]\n",
      "Lemmatize CVX 10-Ks: 100%|██████████| 19/19 [00:04<00:00,  3.9710-K/s]\n",
      "Lemmatize DE 10-Ks: 100%|██████████| 19/19 [00:03<00:00,  5.4010-K/s]\n",
      "Lemmatize DIS 10-Ks: 100%|██████████| 19/19 [00:03<00:00,  4.8210-K/s]\n",
      "Lemmatize DTE 10-Ks: 100%|██████████| 19/19 [00:05<00:00,  3.4410-K/s]\n",
      "Lemmatize ED 10-Ks: 100%|██████████| 20/20 [00:05<00:00,  3.4110-K/s]\n",
      "Lemmatize EMR 10-Ks: 100%|██████████| 21/21 [00:01<00:00, 15.4010-K/s]\n",
      "Lemmatize ETN 10-Ks: 100%|██████████| 8/8 [00:01<00:00,  6.4810-K/s]\n",
      "Lemmatize FL 10-Ks: 100%|██████████| 19/19 [00:02<00:00,  7.1410-K/s]\n",
      "Lemmatize FRT 10-Ks: 100%|██████████| 18/18 [00:03<00:00,  5.3410-K/s]\n",
      "Lemmatize GE 10-Ks: 100%|██████████| 19/19 [00:05<00:00,  3.6410-K/s]\n",
      "Lemmatize HON 10-Ks: 100%|██████████| 20/20 [00:03<00:00,  5.5110-K/s]\n",
      "Lemmatize IBM 10-Ks: 100%|██████████| 19/19 [00:01<00:00, 16.7310-K/s]\n",
      "Lemmatize IP 10-Ks: 100%|██████████| 19/19 [00:04<00:00,  4.0810-K/s]\n",
      "Lemmatize JNJ 10-Ks: 100%|██████████| 19/19 [00:01<00:00, 11.0210-K/s]\n",
      "Lemmatize KO 10-Ks: 100%|██████████| 20/20 [00:06<00:00,  3.0010-K/s]\n",
      "Lemmatize LLY 10-Ks: 100%|██████████| 19/19 [00:03<00:00,  5.7410-K/s]\n",
      "Lemmatize MCD 10-Ks: 100%|██████████| 34/34 [00:09<00:00,  3.4310-K/s]\n",
      "Lemmatize MO 10-Ks: 100%|██████████| 18/18 [00:03<00:00,  4.9210-K/s]\n",
      "Lemmatize MRK 10-Ks: 100%|██████████| 20/20 [00:05<00:00,  3.5110-K/s]\n",
      "Lemmatize MRO 10-Ks: 100%|██████████| 20/20 [00:05<00:00,  3.6410-K/s]\n",
      "Lemmatize PCG 10-Ks: 100%|██████████| 20/20 [00:04<00:00,  4.1310-K/s]\n",
      "Lemmatize PEP 10-Ks: 100%|██████████| 20/20 [00:03<00:00,  5.0410-K/s]\n",
      "Lemmatize PFE 10-Ks: 100%|██████████| 19/19 [00:02<00:00,  9.4010-K/s]\n",
      "Lemmatize PG 10-Ks: 100%|██████████| 21/21 [00:02<00:00,  9.9210-K/s]\n",
      "Lemmatize PNR 10-Ks: 100%|██████████| 19/19 [00:03<00:00,  5.3410-K/s]\n",
      "Lemmatize SYY 10-Ks: 100%|██████████| 21/21 [00:04<00:00,  5.2010-K/s]\n",
      "Lemmatize TXN 10-Ks: 100%|██████████| 18/18 [00:01<00:00, 13.2910-K/s]\n",
      "Lemmatize UTX 10-Ks: 100%|██████████| 20/20 [00:01<00:00, 14.2410-K/s]\n",
      "Lemmatize WFC 10-Ks: 100%|██████████| 20/20 [00:01<00:00, 16.8810-K/s]\n",
      "Lemmatize WMT 10-Ks: 100%|██████████| 20/20 [00:01<00:00, 11.3510-K/s]\n",
      "Lemmatize WY 10-Ks: 100%|██████████| 23/23 [00:07<00:00,  3.0610-K/s]\n",
      "Lemmatize XOM 10-Ks: 100%|██████████| 20/20 [00:03<00:00,  5.2010-K/s]\n"
     ]
    }
   ],
   "source": [
    "word_pattern = re.compile('[a-z]{2,}')\n",
    "\n",
    "for ticker, ten_ks in tenKs.items():\n",
    "    for ten_k in tqdm(ten_ks, desc='Lemmatize {} 10-Ks'.format(ticker), unit='10-K'):\n",
    "        ten_k['file_lemma'] = lemmatize_words(word_pattern.findall(ten_k['file_clean']))"
   ]
  },
  {
   "cell_type": "code",
   "execution_count": 52,
   "metadata": {},
   "outputs": [
    {
     "name": "stdout",
     "output_type": "stream",
     "text": [
      "[\n",
      "  {\n",
      "    file_lemma: '['amzn', 'htm', 'document', 'yp', 'yp', 'false', ...},\n",
      "  {\n",
      "    file_lemma: '['amzn', 'htm', 'document', 'table', 'of', 'conte...},\n",
      "  {\n",
      "    file_lemma: '['amzn', 'htm', 'document', 'unite', 'statessecur...},\n",
      "  {\n",
      "    file_lemma: '['amzn', 'htm', 'form', 'document', 'unite', 'sta...},\n",
      "  {\n",
      "    file_lemma: '['amzn', 'htm', 'form', 'unite', 'statessecuritie...},\n",
      "  {\n",
      "    file_lemma: '['amzn', 'htm', 'form', 'amzn', 'unite', 'statess...},\n",
      "  {\n",
      "    file_lemma: '['amzn', 'htm', 'form', 'amzn', 'table', 'of', 'c...},\n",
      "  {\n",
      "    file_lemma: '['htm', 'form', 'form', 'table', 'of', 'content',...},\n",
      "  {\n",
      "    file_lemma: '['htm', 'form', 'form', 'table', 'of', 'content',...},\n",
      "  {\n",
      "    file_lemma: '['htm', 'form', 'form', 'table', 'of', 'content',...},\n",
      "  {\n",
      "    file_lemma: '['htm', 'form', 'form', 'table', 'of', 'content',...},\n",
      "  {\n",
      "    file_lemma: '['htm', 'form', 'form', 'table', 'of', 'content',...},\n",
      "  {\n",
      "    file_lemma: '['htm', 'form', 'form', 'table', 'of', 'content',...},\n",
      "  {\n",
      "    file_lemma: '['htm', 'form', 'form', 'table', 'of', 'content',...},\n",
      "  {\n",
      "    file_lemma: '['htm', 'annual', 'report', 'annual', 'report', '...},\n",
      "]\n"
     ]
    }
   ],
   "source": [
    "print_ten_k_data(tenKs['AMZN'][:15], ['file_lemma'])"
   ]
  },
  {
   "cell_type": "markdown",
   "metadata": {},
   "source": [
    "[&#9650;back to top](#NLP-Financial-Statements)\n",
    "\n",
    "---"
   ]
  },
  {
   "cell_type": "markdown",
   "metadata": {},
   "source": [
    "### Remove Stopwords"
   ]
  },
  {
   "cell_type": "code",
   "execution_count": 53,
   "metadata": {},
   "outputs": [],
   "source": [
    "from nltk.corpus import stopwords"
   ]
  },
  {
   "cell_type": "code",
   "execution_count": 54,
   "metadata": {},
   "outputs": [
    {
     "name": "stderr",
     "output_type": "stream",
     "text": [
      "Remove Stop Words for AEP 10-Ks: 100%|██████████| 25/25 [00:04<00:00,  6.1910-K/s]\n",
      "Remove Stop Words for AMZN 10-Ks: 100%|██████████| 18/18 [00:01<00:00, 15.9610-K/s]\n",
      "Remove Stop Words for AXP 10-Ks: 100%|██████████| 19/19 [00:02<00:00,  9.4210-K/s]\n",
      "Remove Stop Words for BA 10-Ks: 100%|██████████| 21/21 [00:01<00:00, 10.6110-K/s]\n",
      "Remove Stop Words for BK 10-Ks: 100%|██████████| 13/13 [00:00<00:00, 28.8210-K/s]\n",
      "Remove Stop Words for BMY 10-Ks: 100%|██████████| 19/19 [00:02<00:00,  8.0510-K/s]\n",
      "Remove Stop Words for CAT 10-Ks: 100%|██████████| 35/35 [00:09<00:00,  3.7010-K/s]\n",
      "Remove Stop Words for CNP 10-Ks: 100%|██████████| 18/18 [00:02<00:00,  7.6810-K/s]\n",
      "Remove Stop Words for CVX 10-Ks: 100%|██████████| 19/19 [00:01<00:00, 10.0610-K/s]\n",
      "Remove Stop Words for DE 10-Ks: 100%|██████████| 19/19 [00:01<00:00, 13.9510-K/s]\n",
      "Remove Stop Words for DIS 10-Ks: 100%|██████████| 19/19 [00:01<00:00, 12.2110-K/s]\n",
      "Remove Stop Words for DTE 10-Ks: 100%|██████████| 19/19 [00:02<00:00,  8.6010-K/s]\n",
      "Remove Stop Words for ED 10-Ks: 100%|██████████| 20/20 [00:02<00:00,  8.5410-K/s]\n",
      "Remove Stop Words for EMR 10-Ks: 100%|██████████| 21/21 [00:00<00:00, 40.9410-K/s]\n",
      "Remove Stop Words for ETN 10-Ks: 100%|██████████| 8/8 [00:00<00:00, 16.5110-K/s]\n",
      "Remove Stop Words for FL 10-Ks: 100%|██████████| 19/19 [00:01<00:00, 18.5410-K/s]\n",
      "Remove Stop Words for FRT 10-Ks: 100%|██████████| 18/18 [00:01<00:00, 13.9110-K/s]\n",
      "Remove Stop Words for GE 10-Ks: 100%|██████████| 19/19 [00:02<00:00,  9.4110-K/s]\n",
      "Remove Stop Words for HON 10-Ks: 100%|██████████| 20/20 [00:01<00:00, 14.3010-K/s]\n",
      "Remove Stop Words for IBM 10-Ks: 100%|██████████| 19/19 [00:00<00:00, 43.9010-K/s]\n",
      "Remove Stop Words for IP 10-Ks: 100%|██████████| 19/19 [00:01<00:00, 11.1310-K/s]\n",
      "Remove Stop Words for JNJ 10-Ks: 100%|██████████| 19/19 [00:00<00:00, 29.3910-K/s]\n",
      "Remove Stop Words for KO 10-Ks: 100%|██████████| 20/20 [00:02<00:00,  8.0310-K/s]\n",
      "Remove Stop Words for LLY 10-Ks: 100%|██████████| 19/19 [00:01<00:00, 15.3710-K/s]\n",
      "Remove Stop Words for MCD 10-Ks: 100%|██████████| 34/34 [00:04<00:00,  6.9410-K/s]\n",
      "Remove Stop Words for MO 10-Ks: 100%|██████████| 18/18 [00:01<00:00, 12.1410-K/s]\n",
      "Remove Stop Words for MRK 10-Ks: 100%|██████████| 20/20 [00:02<00:00,  9.0210-K/s]\n",
      "Remove Stop Words for MRO 10-Ks: 100%|██████████| 20/20 [00:02<00:00,  9.5710-K/s]\n",
      "Remove Stop Words for PCG 10-Ks: 100%|██████████| 20/20 [00:01<00:00, 10.0910-K/s]\n",
      "Remove Stop Words for PEP 10-Ks: 100%|██████████| 20/20 [00:01<00:00, 12.9910-K/s]\n",
      "Remove Stop Words for PFE 10-Ks: 100%|██████████| 19/19 [00:00<00:00, 25.6810-K/s]\n",
      "Remove Stop Words for PG 10-Ks: 100%|██████████| 21/21 [00:00<00:00, 25.4810-K/s]\n",
      "Remove Stop Words for PNR 10-Ks: 100%|██████████| 19/19 [00:01<00:00, 14.2410-K/s]\n",
      "Remove Stop Words for SYY 10-Ks: 100%|██████████| 21/21 [00:01<00:00, 13.7410-K/s]\n",
      "Remove Stop Words for TXN 10-Ks: 100%|██████████| 18/18 [00:01<00:00, 16.4310-K/s]\n",
      "Remove Stop Words for UTX 10-Ks: 100%|██████████| 20/20 [00:00<00:00, 37.2310-K/s]\n",
      "Remove Stop Words for WFC 10-Ks: 100%|██████████| 20/20 [00:00<00:00, 43.6910-K/s]\n",
      "Remove Stop Words for WMT 10-Ks: 100%|██████████| 20/20 [00:00<00:00, 28.1310-K/s]\n",
      "Remove Stop Words for WY 10-Ks: 100%|██████████| 23/23 [00:03<00:00,  6.5710-K/s]\n",
      "Remove Stop Words for XOM 10-Ks: 100%|██████████| 20/20 [00:01<00:00, 13.4610-K/s]\n"
     ]
    }
   ],
   "source": [
    "lemma_english_stopwords = lemmatize_words(stopwords.words('english'))\n",
    "\n",
    "for ticker, ten_ks in tenKs.items():\n",
    "    for ten_k in tqdm(ten_ks, desc='Remove Stop Words for {} 10-Ks'.format(ticker), unit='10-K'):\n",
    "        ten_k['file_lemma'] = [word for word in ten_k['file_lemma'] if word not in lemma_english_stopwords]"
   ]
  },
  {
   "cell_type": "code",
   "execution_count": 55,
   "metadata": {},
   "outputs": [
    {
     "name": "stdout",
     "output_type": "stream",
     "text": [
      "[\n",
      "  {\n",
      "    file_lemma: '['amzn', 'htm', 'document', 'yp', 'yp', 'false', ...},\n",
      "  {\n",
      "    file_lemma: '['amzn', 'htm', 'document', 'table', 'content', '...},\n",
      "  {\n",
      "    file_lemma: '['amzn', 'htm', 'document', 'unite', 'statessecur...},\n",
      "  {\n",
      "    file_lemma: '['amzn', 'htm', 'form', 'document', 'unite', 'sta...},\n",
      "  {\n",
      "    file_lemma: '['amzn', 'htm', 'form', 'unite', 'statessecuritie...},\n",
      "  {\n",
      "    file_lemma: '['amzn', 'htm', 'form', 'amzn', 'unite', 'statess...},\n",
      "  {\n",
      "    file_lemma: '['amzn', 'htm', 'form', 'amzn', 'table', 'content...},\n",
      "  {\n",
      "    file_lemma: '['htm', 'form', 'form', 'table', 'content', 'unit...},\n",
      "  {\n",
      "    file_lemma: '['htm', 'form', 'form', 'table', 'content', 'unit...},\n",
      "  {\n",
      "    file_lemma: '['htm', 'form', 'form', 'table', 'content', 'unit...},\n",
      "  {\n",
      "    file_lemma: '['htm', 'form', 'form', 'table', 'content', 'unit...},\n",
      "  {\n",
      "    file_lemma: '['htm', 'form', 'form', 'table', 'content', 'unit...},\n",
      "  {\n",
      "    file_lemma: '['htm', 'form', 'form', 'table', 'content', 'unit...},\n",
      "  {\n",
      "    file_lemma: '['htm', 'form', 'form', 'table', 'content', 'unit...},\n",
      "  {\n",
      "    file_lemma: '['htm', 'annual', 'report', 'annual', 'report', '...},\n",
      "]\n"
     ]
    }
   ],
   "source": [
    "print_ten_k_data(tenKs['AMZN'][:15], ['file_lemma'])"
   ]
  },
  {
   "cell_type": "markdown",
   "metadata": {},
   "source": [
    "[&#9650;back to top](#NLP-Financial-Statements)\n",
    "\n",
    "---\n",
    "## Part 3 - Measure Sentiment"
   ]
  },
  {
   "cell_type": "markdown",
   "metadata": {},
   "source": [
    "### Loughran McDonald Sentiment Word Lists\n",
    "Using the [Loughran and McDonald](https://sraf.nd.edu/textual-analysis/resources/#Master%20Dictionary) sentiment word lists, these word lists cover the following sentiment:\n",
    "- Negative \n",
    "- Positive\n",
    "- Uncertainty\n",
    "- Litigious\n",
    "- Constraining\n",
    "- Superfluous\n",
    "- Modal"
   ]
  },
  {
   "cell_type": "code",
   "execution_count": 56,
   "metadata": {},
   "outputs": [],
   "source": [
    "def load_sent_df():\n",
    "    cols = ['Word', 'Negative', 'Positive', 'Uncertainty', 'Litigious', 'Constraining', 'Superfluous', 'Interesting']\n",
    "    sent_df = pd.read_csv('LoughranMcDonald_MasterDictionary_2018.csv', usecols=cols)\n",
    "    sent_df.columns = [c.lower() for c in cols]\n",
    "    cols = [c.lower() for c in cols]\n",
    "    sent_df[cols[1:]] = sent_df[cols[1:]].astype(bool)\n",
    "    sent_df = sent_df[(sent_df[cols[1:]]).any(1)]\n",
    "    sent_df.word = lemmatize_words(sent_df.word.str.lower())\n",
    "    sent_df = sent_df.drop_duplicates('word')\n",
    "    \n",
    "    return sent_df"
   ]
  },
  {
   "cell_type": "code",
   "execution_count": 57,
   "metadata": {},
   "outputs": [
    {
     "data": {
      "text/html": [
       "<div>\n",
       "<style scoped>\n",
       "    .dataframe tbody tr th:only-of-type {\n",
       "        vertical-align: middle;\n",
       "    }\n",
       "\n",
       "    .dataframe tbody tr th {\n",
       "        vertical-align: top;\n",
       "    }\n",
       "\n",
       "    .dataframe thead th {\n",
       "        text-align: right;\n",
       "    }\n",
       "</style>\n",
       "<table border=\"1\" class=\"dataframe\">\n",
       "  <thead>\n",
       "    <tr style=\"text-align: right;\">\n",
       "      <th></th>\n",
       "      <th>word</th>\n",
       "      <th>negative</th>\n",
       "      <th>positive</th>\n",
       "      <th>uncertainty</th>\n",
       "      <th>litigious</th>\n",
       "      <th>constraining</th>\n",
       "      <th>superfluous</th>\n",
       "      <th>interesting</th>\n",
       "    </tr>\n",
       "  </thead>\n",
       "  <tbody>\n",
       "    <tr>\n",
       "      <td>9</td>\n",
       "      <td>abandon</td>\n",
       "      <td>True</td>\n",
       "      <td>False</td>\n",
       "      <td>False</td>\n",
       "      <td>False</td>\n",
       "      <td>False</td>\n",
       "      <td>False</td>\n",
       "      <td>False</td>\n",
       "    </tr>\n",
       "    <tr>\n",
       "      <td>12</td>\n",
       "      <td>abandonment</td>\n",
       "      <td>True</td>\n",
       "      <td>False</td>\n",
       "      <td>False</td>\n",
       "      <td>False</td>\n",
       "      <td>False</td>\n",
       "      <td>False</td>\n",
       "      <td>False</td>\n",
       "    </tr>\n",
       "    <tr>\n",
       "      <td>13</td>\n",
       "      <td>abandonments</td>\n",
       "      <td>True</td>\n",
       "      <td>False</td>\n",
       "      <td>False</td>\n",
       "      <td>False</td>\n",
       "      <td>False</td>\n",
       "      <td>False</td>\n",
       "      <td>False</td>\n",
       "    </tr>\n",
       "    <tr>\n",
       "      <td>51</td>\n",
       "      <td>abdicate</td>\n",
       "      <td>True</td>\n",
       "      <td>False</td>\n",
       "      <td>False</td>\n",
       "      <td>False</td>\n",
       "      <td>False</td>\n",
       "      <td>False</td>\n",
       "      <td>False</td>\n",
       "    </tr>\n",
       "    <tr>\n",
       "      <td>54</td>\n",
       "      <td>abdication</td>\n",
       "      <td>True</td>\n",
       "      <td>False</td>\n",
       "      <td>False</td>\n",
       "      <td>False</td>\n",
       "      <td>False</td>\n",
       "      <td>False</td>\n",
       "      <td>False</td>\n",
       "    </tr>\n",
       "  </tbody>\n",
       "</table>\n",
       "</div>"
      ],
      "text/plain": [
       "            word  negative  positive  uncertainty  litigious  constraining  \\\n",
       "9        abandon      True     False        False      False         False   \n",
       "12   abandonment      True     False        False      False         False   \n",
       "13  abandonments      True     False        False      False         False   \n",
       "51      abdicate      True     False        False      False         False   \n",
       "54    abdication      True     False        False      False         False   \n",
       "\n",
       "    superfluous  interesting  \n",
       "9         False        False  \n",
       "12        False        False  \n",
       "13        False        False  \n",
       "51        False        False  \n",
       "54        False        False  "
      ]
     },
     "execution_count": 57,
     "metadata": {},
     "output_type": "execute_result"
    }
   ],
   "source": [
    "sent_df = load_sent_df()\n",
    "sent_df.head()"
   ]
  },
  {
   "cell_type": "markdown",
   "metadata": {},
   "source": [
    "[&#9650;back to top](#NLP-Financial-Statements)\n",
    "\n",
    "---"
   ]
  },
  {
   "cell_type": "markdown",
   "metadata": {},
   "source": [
    "### Bag of Words\n",
    "\n",
    "Using the sentiment word lists, generate sentiment bag of words from the 10-K documents."
   ]
  },
  {
   "cell_type": "code",
   "execution_count": 58,
   "metadata": {},
   "outputs": [],
   "source": [
    "from collections import defaultdict, Counter\n",
    "from sklearn.feature_extraction.text import CountVectorizer"
   ]
  },
  {
   "cell_type": "code",
   "execution_count": 59,
   "metadata": {},
   "outputs": [],
   "source": [
    "def get_bag_of_words(sentiment_words, docs):\n",
    "    rows = [Counter(doc.split()) for doc in docs]\n",
    "    bag_of_words = pd.DataFrame(rows, columns=sentiment_words)\\\n",
    "        .fillna(0)\\\n",
    "        .astype(int)\\\n",
    "        .values\n",
    "    return bag_of_words"
   ]
  },
  {
   "cell_type": "code",
   "execution_count": 60,
   "metadata": {},
   "outputs": [],
   "source": [
    "sent_bow_ten_ks = {}\n",
    "sentiments = ['negative', 'positive', 'uncertainty', 'litigious', 'constraining', 'interesting']\n",
    "for ticker, ten_ks in tenKs.items():\n",
    "    lemma_docs = [' '.join(ten_k['file_lemma']) for ten_k in ten_ks]\n",
    "    \n",
    "    sent_bow_ten_ks[ticker] = {\n",
    "        sentiment: get_bag_of_words(sent_df[sent_df[sentiment]]['word'], lemma_docs)\n",
    "        for sentiment in sentiments\n",
    "    }"
   ]
  },
  {
   "cell_type": "code",
   "execution_count": 61,
   "metadata": {},
   "outputs": [
    {
     "name": "stdout",
     "output_type": "stream",
     "text": [
      "[\n",
      "  {\n",
      "    negative: '[[0 0 0 ... 0 0 0]\\n [0 0 0 ... 0 0 0]\\n [0 0 0 ....\n",
      "    positive: '[[12  0  0 ...  0  0  0]\\n [15  0  0 ...  0  0  0...\n",
      "    uncertainty: '[[0 0 0 ... 1 1 2]\\n [0 0 0 ... 1 1 2]\\n [0 0 0 ....\n",
      "    litigious: '[[0 0 0 ... 0 0 0]\\n [0 0 0 ... 0 0 0]\\n [0 0 0 ....\n",
      "    constraining: '[[0 0 0 ... 0 0 2]\\n [0 0 0 ... 0 0 2]\\n [0 0 0 ....\n",
      "    interesting: '[[2 0 0 ... 0 0 0]\\n [2 0 0 ... 0 0 0]\\n [2 0 0 ....},\n",
      "]\n"
     ]
    }
   ],
   "source": [
    "print_ten_k_data([sent_bow_ten_ks['AMZN']], sentiments)"
   ]
  },
  {
   "cell_type": "markdown",
   "metadata": {},
   "source": [
    "[&#9650;back to top](#NLP-Financial-Statements)\n",
    "\n",
    "---"
   ]
  },
  {
   "cell_type": "markdown",
   "metadata": {},
   "source": [
    "### Jaccard Similarity"
   ]
  },
  {
   "cell_type": "code",
   "execution_count": 62,
   "metadata": {},
   "outputs": [],
   "source": [
    "from sklearn.metrics import jaccard_score"
   ]
  },
  {
   "cell_type": "code",
   "execution_count": 63,
   "metadata": {},
   "outputs": [],
   "source": [
    "def get_j_sim(bow_mat):\n",
    "    bow = bow_mat.astype(bool)\n",
    "    jaccard_sims = []\n",
    "    for idx in range(1, bow.shape[0]):\n",
    "        u = bow[idx-1]\n",
    "        v = bow[idx]\n",
    "        j_sim = jaccard_score(u,v)\n",
    "        jaccard_sims.append(j_sim)\n",
    "    return jaccard_sims"
   ]
  },
  {
   "cell_type": "code",
   "execution_count": 64,
   "metadata": {},
   "outputs": [],
   "source": [
    "file_dates = {\n",
    "    ticker: [ten_k['file_date'] for ten_k in ten_ks]\n",
    "    for ticker, ten_ks in tenKs.items()\n",
    "}\n",
    "\n",
    "jaccard_similarities = {\n",
    "    ticker: {\n",
    "        sentiment_name: get_j_sim(sentiment_values)\n",
    "        for sentiment_name, sentiment_values in ten_k_sents.items()\n",
    "    }\n",
    "    for ticker, ten_k_sents in sent_bow_ten_ks.items()\n",
    "}"
   ]
  },
  {
   "cell_type": "code",
   "execution_count": 65,
   "metadata": {},
   "outputs": [],
   "source": [
    "from bokeh.plotting import figure, show, output_file, save\n",
    "from bokeh.models import ColumnDataSource\n",
    "from bokeh.io import output_notebook, export_png\n",
    "from bokeh.palettes import Bokeh as palette"
   ]
  },
  {
   "cell_type": "code",
   "execution_count": 66,
   "metadata": {},
   "outputs": [
    {
     "data": {
      "text/html": [
       "\n",
       "    <div class=\"bk-root\">\n",
       "        <a href=\"https://bokeh.org\" target=\"_blank\" class=\"bk-logo bk-logo-small bk-logo-notebook\"></a>\n",
       "        <span id=\"1001\">Loading BokehJS ...</span>\n",
       "    </div>"
      ]
     },
     "metadata": {},
     "output_type": "display_data"
    },
    {
     "data": {
      "application/javascript": [
       "\n",
       "(function(root) {\n",
       "  function now() {\n",
       "    return new Date();\n",
       "  }\n",
       "\n",
       "  var force = true;\n",
       "\n",
       "  if (typeof root._bokeh_onload_callbacks === \"undefined\" || force === true) {\n",
       "    root._bokeh_onload_callbacks = [];\n",
       "    root._bokeh_is_loading = undefined;\n",
       "  }\n",
       "\n",
       "  var JS_MIME_TYPE = 'application/javascript';\n",
       "  var HTML_MIME_TYPE = 'text/html';\n",
       "  var EXEC_MIME_TYPE = 'application/vnd.bokehjs_exec.v0+json';\n",
       "  var CLASS_NAME = 'output_bokeh rendered_html';\n",
       "\n",
       "  /**\n",
       "   * Render data to the DOM node\n",
       "   */\n",
       "  function render(props, node) {\n",
       "    var script = document.createElement(\"script\");\n",
       "    node.appendChild(script);\n",
       "  }\n",
       "\n",
       "  /**\n",
       "   * Handle when an output is cleared or removed\n",
       "   */\n",
       "  function handleClearOutput(event, handle) {\n",
       "    var cell = handle.cell;\n",
       "\n",
       "    var id = cell.output_area._bokeh_element_id;\n",
       "    var server_id = cell.output_area._bokeh_server_id;\n",
       "    // Clean up Bokeh references\n",
       "    if (id != null && id in Bokeh.index) {\n",
       "      Bokeh.index[id].model.document.clear();\n",
       "      delete Bokeh.index[id];\n",
       "    }\n",
       "\n",
       "    if (server_id !== undefined) {\n",
       "      // Clean up Bokeh references\n",
       "      var cmd = \"from bokeh.io.state import curstate; print(curstate().uuid_to_server['\" + server_id + \"'].get_sessions()[0].document.roots[0]._id)\";\n",
       "      cell.notebook.kernel.execute(cmd, {\n",
       "        iopub: {\n",
       "          output: function(msg) {\n",
       "            var id = msg.content.text.trim();\n",
       "            if (id in Bokeh.index) {\n",
       "              Bokeh.index[id].model.document.clear();\n",
       "              delete Bokeh.index[id];\n",
       "            }\n",
       "          }\n",
       "        }\n",
       "      });\n",
       "      // Destroy server and session\n",
       "      var cmd = \"import bokeh.io.notebook as ion; ion.destroy_server('\" + server_id + \"')\";\n",
       "      cell.notebook.kernel.execute(cmd);\n",
       "    }\n",
       "  }\n",
       "\n",
       "  /**\n",
       "   * Handle when a new output is added\n",
       "   */\n",
       "  function handleAddOutput(event, handle) {\n",
       "    var output_area = handle.output_area;\n",
       "    var output = handle.output;\n",
       "\n",
       "    // limit handleAddOutput to display_data with EXEC_MIME_TYPE content only\n",
       "    if ((output.output_type != \"display_data\") || (!output.data.hasOwnProperty(EXEC_MIME_TYPE))) {\n",
       "      return\n",
       "    }\n",
       "\n",
       "    var toinsert = output_area.element.find(\".\" + CLASS_NAME.split(' ')[0]);\n",
       "\n",
       "    if (output.metadata[EXEC_MIME_TYPE][\"id\"] !== undefined) {\n",
       "      toinsert[toinsert.length - 1].firstChild.textContent = output.data[JS_MIME_TYPE];\n",
       "      // store reference to embed id on output_area\n",
       "      output_area._bokeh_element_id = output.metadata[EXEC_MIME_TYPE][\"id\"];\n",
       "    }\n",
       "    if (output.metadata[EXEC_MIME_TYPE][\"server_id\"] !== undefined) {\n",
       "      var bk_div = document.createElement(\"div\");\n",
       "      bk_div.innerHTML = output.data[HTML_MIME_TYPE];\n",
       "      var script_attrs = bk_div.children[0].attributes;\n",
       "      for (var i = 0; i < script_attrs.length; i++) {\n",
       "        toinsert[toinsert.length - 1].firstChild.setAttribute(script_attrs[i].name, script_attrs[i].value);\n",
       "        toinsert[toinsert.length - 1].firstChild.textContent = bk_div.children[0].textContent\n",
       "      }\n",
       "      // store reference to server id on output_area\n",
       "      output_area._bokeh_server_id = output.metadata[EXEC_MIME_TYPE][\"server_id\"];\n",
       "    }\n",
       "  }\n",
       "\n",
       "  function register_renderer(events, OutputArea) {\n",
       "\n",
       "    function append_mime(data, metadata, element) {\n",
       "      // create a DOM node to render to\n",
       "      var toinsert = this.create_output_subarea(\n",
       "        metadata,\n",
       "        CLASS_NAME,\n",
       "        EXEC_MIME_TYPE\n",
       "      );\n",
       "      this.keyboard_manager.register_events(toinsert);\n",
       "      // Render to node\n",
       "      var props = {data: data, metadata: metadata[EXEC_MIME_TYPE]};\n",
       "      render(props, toinsert[toinsert.length - 1]);\n",
       "      element.append(toinsert);\n",
       "      return toinsert\n",
       "    }\n",
       "\n",
       "    /* Handle when an output is cleared or removed */\n",
       "    events.on('clear_output.CodeCell', handleClearOutput);\n",
       "    events.on('delete.Cell', handleClearOutput);\n",
       "\n",
       "    /* Handle when a new output is added */\n",
       "    events.on('output_added.OutputArea', handleAddOutput);\n",
       "\n",
       "    /**\n",
       "     * Register the mime type and append_mime function with output_area\n",
       "     */\n",
       "    OutputArea.prototype.register_mime_type(EXEC_MIME_TYPE, append_mime, {\n",
       "      /* Is output safe? */\n",
       "      safe: true,\n",
       "      /* Index of renderer in `output_area.display_order` */\n",
       "      index: 0\n",
       "    });\n",
       "  }\n",
       "\n",
       "  // register the mime type if in Jupyter Notebook environment and previously unregistered\n",
       "  if (root.Jupyter !== undefined) {\n",
       "    var events = require('base/js/events');\n",
       "    var OutputArea = require('notebook/js/outputarea').OutputArea;\n",
       "\n",
       "    if (OutputArea.prototype.mime_types().indexOf(EXEC_MIME_TYPE) == -1) {\n",
       "      register_renderer(events, OutputArea);\n",
       "    }\n",
       "  }\n",
       "\n",
       "  \n",
       "  if (typeof (root._bokeh_timeout) === \"undefined\" || force === true) {\n",
       "    root._bokeh_timeout = Date.now() + 5000;\n",
       "    root._bokeh_failed_load = false;\n",
       "  }\n",
       "\n",
       "  var NB_LOAD_WARNING = {'data': {'text/html':\n",
       "     \"<div style='background-color: #fdd'>\\n\"+\n",
       "     \"<p>\\n\"+\n",
       "     \"BokehJS does not appear to have successfully loaded. If loading BokehJS from CDN, this \\n\"+\n",
       "     \"may be due to a slow or bad network connection. Possible fixes:\\n\"+\n",
       "     \"</p>\\n\"+\n",
       "     \"<ul>\\n\"+\n",
       "     \"<li>re-rerun `output_notebook()` to attempt to load from CDN again, or</li>\\n\"+\n",
       "     \"<li>use INLINE resources instead, as so:</li>\\n\"+\n",
       "     \"</ul>\\n\"+\n",
       "     \"<code>\\n\"+\n",
       "     \"from bokeh.resources import INLINE\\n\"+\n",
       "     \"output_notebook(resources=INLINE)\\n\"+\n",
       "     \"</code>\\n\"+\n",
       "     \"</div>\"}};\n",
       "\n",
       "  function display_loaded() {\n",
       "    var el = document.getElementById(\"1001\");\n",
       "    if (el != null) {\n",
       "      el.textContent = \"BokehJS is loading...\";\n",
       "    }\n",
       "    if (root.Bokeh !== undefined) {\n",
       "      if (el != null) {\n",
       "        el.textContent = \"BokehJS \" + root.Bokeh.version + \" successfully loaded.\";\n",
       "      }\n",
       "    } else if (Date.now() < root._bokeh_timeout) {\n",
       "      setTimeout(display_loaded, 100)\n",
       "    }\n",
       "  }\n",
       "\n",
       "\n",
       "  function run_callbacks() {\n",
       "    try {\n",
       "      root._bokeh_onload_callbacks.forEach(function(callback) {\n",
       "        if (callback != null)\n",
       "          callback();\n",
       "      });\n",
       "    } finally {\n",
       "      delete root._bokeh_onload_callbacks\n",
       "    }\n",
       "    console.debug(\"Bokeh: all callbacks have finished\");\n",
       "  }\n",
       "\n",
       "  function load_libs(css_urls, js_urls, callback) {\n",
       "    if (css_urls == null) css_urls = [];\n",
       "    if (js_urls == null) js_urls = [];\n",
       "\n",
       "    root._bokeh_onload_callbacks.push(callback);\n",
       "    if (root._bokeh_is_loading > 0) {\n",
       "      console.debug(\"Bokeh: BokehJS is being loaded, scheduling callback at\", now());\n",
       "      return null;\n",
       "    }\n",
       "    if (js_urls == null || js_urls.length === 0) {\n",
       "      run_callbacks();\n",
       "      return null;\n",
       "    }\n",
       "    console.debug(\"Bokeh: BokehJS not loaded, scheduling load and callback at\", now());\n",
       "    root._bokeh_is_loading = css_urls.length + js_urls.length;\n",
       "\n",
       "    function on_load() {\n",
       "      root._bokeh_is_loading--;\n",
       "      if (root._bokeh_is_loading === 0) {\n",
       "        console.debug(\"Bokeh: all BokehJS libraries/stylesheets loaded\");\n",
       "        run_callbacks()\n",
       "      }\n",
       "    }\n",
       "\n",
       "    function on_error() {\n",
       "      console.error(\"failed to load \" + url);\n",
       "    }\n",
       "\n",
       "    for (var i = 0; i < css_urls.length; i++) {\n",
       "      var url = css_urls[i];\n",
       "      const element = document.createElement(\"link\");\n",
       "      element.onload = on_load;\n",
       "      element.onerror = on_error;\n",
       "      element.rel = \"stylesheet\";\n",
       "      element.type = \"text/css\";\n",
       "      element.href = url;\n",
       "      console.debug(\"Bokeh: injecting link tag for BokehJS stylesheet: \", url);\n",
       "      document.body.appendChild(element);\n",
       "    }\n",
       "\n",
       "    const hashes = {\"https://cdn.bokeh.org/bokeh/release/bokeh-2.2.3.min.js\": \"T2yuo9Oe71Cz/I4X9Ac5+gpEa5a8PpJCDlqKYO0CfAuEszu1JrXLl8YugMqYe3sM\", \"https://cdn.bokeh.org/bokeh/release/bokeh-widgets-2.2.3.min.js\": \"98GDGJ0kOMCUMUePhksaQ/GYgB3+NH9h996V88sh3aOiUNX3N+fLXAtry6xctSZ6\", \"https://cdn.bokeh.org/bokeh/release/bokeh-tables-2.2.3.min.js\": \"89bArO+nlbP3sgakeHjCo1JYxYR5wufVgA3IbUvDY+K7w4zyxJqssu7wVnfeKCq8\"};\n",
       "\n",
       "    for (var i = 0; i < js_urls.length; i++) {\n",
       "      var url = js_urls[i];\n",
       "      var element = document.createElement('script');\n",
       "      element.onload = on_load;\n",
       "      element.onerror = on_error;\n",
       "      element.async = false;\n",
       "      element.src = url;\n",
       "      if (url in hashes) {\n",
       "        element.crossOrigin = \"anonymous\";\n",
       "        element.integrity = \"sha384-\" + hashes[url];\n",
       "      }\n",
       "      console.debug(\"Bokeh: injecting script tag for BokehJS library: \", url);\n",
       "      document.head.appendChild(element);\n",
       "    }\n",
       "  };\n",
       "\n",
       "  function inject_raw_css(css) {\n",
       "    const element = document.createElement(\"style\");\n",
       "    element.appendChild(document.createTextNode(css));\n",
       "    document.body.appendChild(element);\n",
       "  }\n",
       "\n",
       "  \n",
       "  var js_urls = [\"https://cdn.bokeh.org/bokeh/release/bokeh-2.2.3.min.js\", \"https://cdn.bokeh.org/bokeh/release/bokeh-widgets-2.2.3.min.js\", \"https://cdn.bokeh.org/bokeh/release/bokeh-tables-2.2.3.min.js\"];\n",
       "  var css_urls = [];\n",
       "  \n",
       "\n",
       "  var inline_js = [\n",
       "    function(Bokeh) {\n",
       "      Bokeh.set_log_level(\"info\");\n",
       "    },\n",
       "    function(Bokeh) {\n",
       "    \n",
       "    \n",
       "    }\n",
       "  ];\n",
       "\n",
       "  function run_inline_js() {\n",
       "    \n",
       "    if (root.Bokeh !== undefined || force === true) {\n",
       "      \n",
       "    for (var i = 0; i < inline_js.length; i++) {\n",
       "      inline_js[i].call(root, root.Bokeh);\n",
       "    }\n",
       "    if (force === true) {\n",
       "        display_loaded();\n",
       "      }} else if (Date.now() < root._bokeh_timeout) {\n",
       "      setTimeout(run_inline_js, 100);\n",
       "    } else if (!root._bokeh_failed_load) {\n",
       "      console.log(\"Bokeh: BokehJS failed to load within specified timeout.\");\n",
       "      root._bokeh_failed_load = true;\n",
       "    } else if (force !== true) {\n",
       "      var cell = $(document.getElementById(\"1001\")).parents('.cell').data().cell;\n",
       "      cell.output_area.append_execute_result(NB_LOAD_WARNING)\n",
       "    }\n",
       "\n",
       "  }\n",
       "\n",
       "  if (root._bokeh_is_loading === 0) {\n",
       "    console.debug(\"Bokeh: BokehJS loaded, going straight to plotting\");\n",
       "    run_inline_js();\n",
       "  } else {\n",
       "    load_libs(css_urls, js_urls, function() {\n",
       "      console.debug(\"Bokeh: BokehJS plotting callback run at\", now());\n",
       "      run_inline_js();\n",
       "    });\n",
       "  }\n",
       "}(window));"
      ],
      "application/vnd.bokehjs_load.v0+json": "\n(function(root) {\n  function now() {\n    return new Date();\n  }\n\n  var force = true;\n\n  if (typeof root._bokeh_onload_callbacks === \"undefined\" || force === true) {\n    root._bokeh_onload_callbacks = [];\n    root._bokeh_is_loading = undefined;\n  }\n\n  \n\n  \n  if (typeof (root._bokeh_timeout) === \"undefined\" || force === true) {\n    root._bokeh_timeout = Date.now() + 5000;\n    root._bokeh_failed_load = false;\n  }\n\n  var NB_LOAD_WARNING = {'data': {'text/html':\n     \"<div style='background-color: #fdd'>\\n\"+\n     \"<p>\\n\"+\n     \"BokehJS does not appear to have successfully loaded. If loading BokehJS from CDN, this \\n\"+\n     \"may be due to a slow or bad network connection. Possible fixes:\\n\"+\n     \"</p>\\n\"+\n     \"<ul>\\n\"+\n     \"<li>re-rerun `output_notebook()` to attempt to load from CDN again, or</li>\\n\"+\n     \"<li>use INLINE resources instead, as so:</li>\\n\"+\n     \"</ul>\\n\"+\n     \"<code>\\n\"+\n     \"from bokeh.resources import INLINE\\n\"+\n     \"output_notebook(resources=INLINE)\\n\"+\n     \"</code>\\n\"+\n     \"</div>\"}};\n\n  function display_loaded() {\n    var el = document.getElementById(\"1001\");\n    if (el != null) {\n      el.textContent = \"BokehJS is loading...\";\n    }\n    if (root.Bokeh !== undefined) {\n      if (el != null) {\n        el.textContent = \"BokehJS \" + root.Bokeh.version + \" successfully loaded.\";\n      }\n    } else if (Date.now() < root._bokeh_timeout) {\n      setTimeout(display_loaded, 100)\n    }\n  }\n\n\n  function run_callbacks() {\n    try {\n      root._bokeh_onload_callbacks.forEach(function(callback) {\n        if (callback != null)\n          callback();\n      });\n    } finally {\n      delete root._bokeh_onload_callbacks\n    }\n    console.debug(\"Bokeh: all callbacks have finished\");\n  }\n\n  function load_libs(css_urls, js_urls, callback) {\n    if (css_urls == null) css_urls = [];\n    if (js_urls == null) js_urls = [];\n\n    root._bokeh_onload_callbacks.push(callback);\n    if (root._bokeh_is_loading > 0) {\n      console.debug(\"Bokeh: BokehJS is being loaded, scheduling callback at\", now());\n      return null;\n    }\n    if (js_urls == null || js_urls.length === 0) {\n      run_callbacks();\n      return null;\n    }\n    console.debug(\"Bokeh: BokehJS not loaded, scheduling load and callback at\", now());\n    root._bokeh_is_loading = css_urls.length + js_urls.length;\n\n    function on_load() {\n      root._bokeh_is_loading--;\n      if (root._bokeh_is_loading === 0) {\n        console.debug(\"Bokeh: all BokehJS libraries/stylesheets loaded\");\n        run_callbacks()\n      }\n    }\n\n    function on_error() {\n      console.error(\"failed to load \" + url);\n    }\n\n    for (var i = 0; i < css_urls.length; i++) {\n      var url = css_urls[i];\n      const element = document.createElement(\"link\");\n      element.onload = on_load;\n      element.onerror = on_error;\n      element.rel = \"stylesheet\";\n      element.type = \"text/css\";\n      element.href = url;\n      console.debug(\"Bokeh: injecting link tag for BokehJS stylesheet: \", url);\n      document.body.appendChild(element);\n    }\n\n    const hashes = {\"https://cdn.bokeh.org/bokeh/release/bokeh-2.2.3.min.js\": \"T2yuo9Oe71Cz/I4X9Ac5+gpEa5a8PpJCDlqKYO0CfAuEszu1JrXLl8YugMqYe3sM\", \"https://cdn.bokeh.org/bokeh/release/bokeh-widgets-2.2.3.min.js\": \"98GDGJ0kOMCUMUePhksaQ/GYgB3+NH9h996V88sh3aOiUNX3N+fLXAtry6xctSZ6\", \"https://cdn.bokeh.org/bokeh/release/bokeh-tables-2.2.3.min.js\": \"89bArO+nlbP3sgakeHjCo1JYxYR5wufVgA3IbUvDY+K7w4zyxJqssu7wVnfeKCq8\"};\n\n    for (var i = 0; i < js_urls.length; i++) {\n      var url = js_urls[i];\n      var element = document.createElement('script');\n      element.onload = on_load;\n      element.onerror = on_error;\n      element.async = false;\n      element.src = url;\n      if (url in hashes) {\n        element.crossOrigin = \"anonymous\";\n        element.integrity = \"sha384-\" + hashes[url];\n      }\n      console.debug(\"Bokeh: injecting script tag for BokehJS library: \", url);\n      document.head.appendChild(element);\n    }\n  };\n\n  function inject_raw_css(css) {\n    const element = document.createElement(\"style\");\n    element.appendChild(document.createTextNode(css));\n    document.body.appendChild(element);\n  }\n\n  \n  var js_urls = [\"https://cdn.bokeh.org/bokeh/release/bokeh-2.2.3.min.js\", \"https://cdn.bokeh.org/bokeh/release/bokeh-widgets-2.2.3.min.js\", \"https://cdn.bokeh.org/bokeh/release/bokeh-tables-2.2.3.min.js\"];\n  var css_urls = [];\n  \n\n  var inline_js = [\n    function(Bokeh) {\n      Bokeh.set_log_level(\"info\");\n    },\n    function(Bokeh) {\n    \n    \n    }\n  ];\n\n  function run_inline_js() {\n    \n    if (root.Bokeh !== undefined || force === true) {\n      \n    for (var i = 0; i < inline_js.length; i++) {\n      inline_js[i].call(root, root.Bokeh);\n    }\n    if (force === true) {\n        display_loaded();\n      }} else if (Date.now() < root._bokeh_timeout) {\n      setTimeout(run_inline_js, 100);\n    } else if (!root._bokeh_failed_load) {\n      console.log(\"Bokeh: BokehJS failed to load within specified timeout.\");\n      root._bokeh_failed_load = true;\n    } else if (force !== true) {\n      var cell = $(document.getElementById(\"1001\")).parents('.cell').data().cell;\n      cell.output_area.append_execute_result(NB_LOAD_WARNING)\n    }\n\n  }\n\n  if (root._bokeh_is_loading === 0) {\n    console.debug(\"Bokeh: BokehJS loaded, going straight to plotting\");\n    run_inline_js();\n  } else {\n    load_libs(css_urls, js_urls, function() {\n      console.debug(\"Bokeh: BokehJS plotting callback run at\", now());\n      run_inline_js();\n    });\n  }\n}(window));"
     },
     "metadata": {},
     "output_type": "display_data"
    }
   ],
   "source": [
    "output_notebook()"
   ]
  },
  {
   "cell_type": "code",
   "execution_count": 67,
   "metadata": {},
   "outputs": [],
   "source": [
    "import datetime as dt"
   ]
  },
  {
   "cell_type": "code",
   "execution_count": 68,
   "metadata": {},
   "outputs": [],
   "source": [
    "def compare_similarities(tick, output_f=None):\n",
    "    jaccard_sims_df = pd.DataFrame(np.array([jaccard_similarities[tick][sent] for sent in sentiments]).T, file_dates[tick][1:], sentiments)\n",
    "    jaccard_sims_df.index = pd.to_datetime(jaccard_sims_df.index)\n",
    "    jaccard_sims_df.index.name = 'jaccard_dates'\n",
    "    x = pd.to_datetime(file_dates[tick][1:])\n",
    "    add_x = dt.timedelta(days=800)\n",
    "    minus_x = dt.timedelta(days=250)\n",
    "    p = figure(\n",
    "        plot_width=1200,\n",
    "        plot_height=250,\n",
    "        x_axis_type='datetime',\n",
    "        x_range=(x[-1]-minus_x, x[0]+add_x),\n",
    "        y_range=(.1,1.05),\n",
    "        title = f'Jacarrd Similarities of {tick} 10-Ks',\n",
    "    )\n",
    "\n",
    "    for n, sentiment in enumerate(sentiments):\n",
    "        y = jaccard_similarities[tick][sentiment]\n",
    "        p.line(x, y, color=palette[6][n], line_width=1, legend_label=sentiment)\n",
    "    p.xaxis.ticker.desired_num_ticks = len(x)\n",
    "    p.xaxis.axis_label = 'Date of Report'\n",
    "    p.yaxis.axis_label = 'Jacarrd Similarity'\n",
    "    p.legend.label_text_font_size='8pt'\n",
    "    if output_f:\n",
    "        export_png(p, filename=output_f)\n",
    "    else:\n",
    "        show(p)\n",
    "    "
   ]
  },
  {
   "cell_type": "code",
   "execution_count": 69,
   "metadata": {},
   "outputs": [],
   "source": [
    "compare_similarities('AMZN', output_f='amzn_jaccard.png')"
   ]
  },
  {
   "cell_type": "markdown",
   "metadata": {},
   "source": [
    "![AMZN](img/amzn_jaccard.png)"
   ]
  },
  {
   "cell_type": "code",
   "execution_count": 70,
   "metadata": {},
   "outputs": [],
   "source": [
    "compare_similarities('HON', output_f='hon_jaccard.png')"
   ]
  },
  {
   "cell_type": "markdown",
   "metadata": {},
   "source": [
    "![HON](img/hon_jaccard.png)"
   ]
  },
  {
   "cell_type": "markdown",
   "metadata": {},
   "source": [
    "[&#9650;back to top](#NLP-Financial-Statements)\n",
    "\n",
    "---\n",
    "### TFIDF"
   ]
  },
  {
   "cell_type": "code",
   "execution_count": 72,
   "metadata": {},
   "outputs": [],
   "source": [
    "from sklearn.feature_extraction.text import TfidfVectorizer"
   ]
  },
  {
   "cell_type": "code",
   "execution_count": 73,
   "metadata": {},
   "outputs": [],
   "source": [
    "def get_tfidf(sentiment_words, docs):\n",
    "    vectorizer = TfidfVectorizer(vocabulary=sentiment_words)\n",
    "    tfidf = vectorizer.fit_transform(docs).toarray()\n",
    "    \n",
    "    return tfidf"
   ]
  },
  {
   "cell_type": "code",
   "execution_count": 74,
   "metadata": {},
   "outputs": [],
   "source": [
    "sentiment_tfidf_ten_ks = {}\n",
    "\n",
    "for ticker, ten_ks in tenKs.items():\n",
    "    lemma_docs = [' '.join(ten_k['file_lemma']) for ten_k in ten_ks]\n",
    "    \n",
    "    sentiment_tfidf_ten_ks[ticker] = {\n",
    "        sentiment: get_tfidf(sent_df[sent_df[sentiment]]['word'], lemma_docs)\n",
    "        for sentiment in sentiments\n",
    "    }"
   ]
  },
  {
   "cell_type": "code",
   "execution_count": 75,
   "metadata": {},
   "outputs": [
    {
     "name": "stdout",
     "output_type": "stream",
     "text": [
      "[\n",
      "  {\n",
      "    negative: '[[0.         0.         0.         ... 0.        ...\n",
      "    positive: '[[0.19508185 0.         0.         ... 0.        ...\n",
      "    uncertainty: '[[0.         0.         0.         ... 0.00569911...\n",
      "    litigious: '[[0. 0. 0. ... 0. 0. 0.]\\n [0. 0. 0. ... 0. 0. 0....\n",
      "    constraining: '[[0.         0.         0.         ... 0.        ...\n",
      "    interesting: '[[0.01889322 0.         0.         ... 0.        ...},\n",
      "]\n"
     ]
    }
   ],
   "source": [
    "print_ten_k_data([sentiment_tfidf_ten_ks['AMZN']], sentiments)"
   ]
  },
  {
   "cell_type": "markdown",
   "metadata": {},
   "source": [
    "[&#9650;back to top](#NLP-Financial-Statements)\n",
    "\n",
    "---\n",
    "### Cosine Similarity"
   ]
  },
  {
   "cell_type": "code",
   "execution_count": 76,
   "metadata": {},
   "outputs": [],
   "source": [
    "from sklearn.metrics.pairwise import cosine_similarity"
   ]
  },
  {
   "cell_type": "code",
   "execution_count": 77,
   "metadata": {},
   "outputs": [],
   "source": [
    "def get_cosine_similarity(tfidf_matrix):\n",
    "    cosine_similarities = []\n",
    "    for idx in range(1, tfidf_matrix.shape[0]):\n",
    "        u = [tfidf_matrix[idx-1]]\n",
    "        v = [tfidf_matrix[idx]]\n",
    "        cos_sim = float(cosine_similarity(u,v))\n",
    "        cosine_similarities.append(cos_sim)\n",
    "    return cosine_similarities"
   ]
  },
  {
   "cell_type": "code",
   "execution_count": 78,
   "metadata": {},
   "outputs": [],
   "source": [
    "cosine_similarities = {\n",
    "    ticker: {\n",
    "        sentiment_name: get_cosine_similarity(sentiment_values)\n",
    "        for sentiment_name, sentiment_values in ten_k_sentiments.items()\n",
    "    }\\\n",
    "    for ticker, ten_k_sentiments in sentiment_tfidf_ten_ks.items()\n",
    "}"
   ]
  },
  {
   "cell_type": "code",
   "execution_count": 79,
   "metadata": {},
   "outputs": [],
   "source": [
    "def compare_similarities(tick, sim_dict, sim_type, output_f=None):\n",
    "    sims_df = pd.DataFrame(np.array([sim_dict[tick][sent] for sent in sentiments]).T, file_dates[tick][1:], sentiments)\n",
    "    sims_df.index = pd.to_datetime(sims_df.index)\n",
    "    x = pd.to_datetime(file_dates[tick][1:])\n",
    "    add_x = dt.timedelta(days=800)\n",
    "    minus_x = dt.timedelta(days=250)\n",
    "    p = figure(\n",
    "        plot_width=1200,\n",
    "        plot_height=250,\n",
    "        x_axis_type='datetime',\n",
    "        x_range=(x[-1]-minus_x, x[0]+add_x),\n",
    "        y_range=(.1,1.05),\n",
    "        title = f'{sim_type} Similarities of {tick} 10-Ks',\n",
    "    )\n",
    "\n",
    "    for n, sentiment in enumerate(sentiments):\n",
    "        y = jaccard_similarities[tick][sentiment]\n",
    "        p.line(x, y, color=palette[6][n], line_width=2, legend_label=sentiment)\n",
    "    p.xaxis.ticker.desired_num_ticks = len(x)\n",
    "    p.xaxis.axis_label = 'Date of Report'\n",
    "    p.yaxis.axis_label = f'{sim_type} Similarity'\n",
    "    p.legend.label_text_font_size='8pt'\n",
    "    if output_f:\n",
    "        export_png(p, filename=output_f)\n",
    "    else:\n",
    "        show(p)"
   ]
  },
  {
   "cell_type": "code",
   "execution_count": 80,
   "metadata": {},
   "outputs": [],
   "source": [
    "compare_similarities('AMZN', cosine_similarities, 'Cosine', output_f='amzn_csine.png')"
   ]
  },
  {
   "cell_type": "markdown",
   "metadata": {},
   "source": [
    "![AMZN](img/amzn_csine.png)"
   ]
  },
  {
   "cell_type": "code",
   "execution_count": 82,
   "metadata": {},
   "outputs": [],
   "source": [
    "compare_similarities('HON', cosine_similarities, 'Cosine', output_f='hon_csine.png')"
   ]
  },
  {
   "cell_type": "markdown",
   "metadata": {},
   "source": [
    "![HON](img/hon_csine.png)"
   ]
  },
  {
   "cell_type": "markdown",
   "metadata": {},
   "source": [
    "[&#9650;back to top](#NLP-Financial-Statements)\n",
    "\n",
    "---\n",
    "## [Part 4 - Evaluate Alpha Factors](#Sentiment-Analysis-on-Financial-Statements)"
   ]
  },
  {
   "cell_type": "markdown",
   "metadata": {},
   "source": [
    "### Price Data\n",
    "\n",
    "Utilize [Alpha Vantage API](https://www.alphavantage.co/) to acquire pricing data of stocks.\n",
    "Run the pricing against the cosine similarity to determine if it's a valid alpha factor."
   ]
  },
  {
   "cell_type": "code",
   "execution_count": 87,
   "metadata": {},
   "outputs": [],
   "source": [
    "import os\n",
    "import json"
   ]
  },
  {
   "cell_type": "code",
   "execution_count": 95,
   "metadata": {},
   "outputs": [],
   "source": [
    "from ratelimit import limits, sleep_and_retry\n",
    "class AlphaVantageAPI(object):\n",
    "    @staticmethod\n",
    "    @sleep_and_retry\n",
    "    @limits(calls=5, period=60)\n",
    "    def _call_api(url):\n",
    "        response = requests.get(url)\n",
    "        if response.status_code != 200:\n",
    "            raise Exception('API response: {}'.format(response.status_code))\n",
    "        return response\n",
    "\n",
    "    def get(self, url):\n",
    "        return self._call_api(url).json()\n",
    "\n",
    "def make_requests(series, tickers):\n",
    "    missed = []\n",
    "    for ticker in tickers:\n",
    "        try:\n",
    "            prices = av_api.get(url.format(ticker,key))\n",
    "            df = pd.DataFrame(prices['Monthly Adjusted Time Series']).T\n",
    "            df.index = pd.to_datetime(df.index)\n",
    "            series[ticker]=df[df.index.month==1]['5. adjusted close']\n",
    "            print(f'{ticker} prices successfully loaded')\n",
    "        except Exception as e:\n",
    "            print(e, ticker)\n",
    "            missed.append(ticker)\n",
    "    return series, missed    "
   ]
  },
  {
   "cell_type": "code",
   "execution_count": 96,
   "metadata": {},
   "outputs": [],
   "source": [
    "av_api = AlphaVantageAPI()\n",
    "key = os.getenv('alpha_api')\n",
    "url = 'https://www.alphavantage.co/query?function=TIME_SERIES_MONTHLY_ADJUSTED&symbol={}&apikey={}&outputsize=full'"
   ]
  },
  {
   "cell_type": "code",
   "execution_count": 97,
   "metadata": {
    "collapsed": true,
    "jupyter": {
     "outputs_hidden": true
    }
   },
   "outputs": [
    {
     "name": "stdout",
     "output_type": "stream",
     "text": [
      "AEP prices successfully loaded\n",
      "AMZN prices successfully loaded\n",
      "AXP prices successfully loaded\n",
      "BA prices successfully loaded\n",
      "BK prices successfully loaded\n",
      "BMY prices successfully loaded\n",
      "CAT prices successfully loaded\n",
      "CNP prices successfully loaded\n",
      "CVX prices successfully loaded\n",
      "DE prices successfully loaded\n",
      "DIS prices successfully loaded\n",
      "DTE prices successfully loaded\n",
      "ED prices successfully loaded\n",
      "EMR prices successfully loaded\n",
      "ETN prices successfully loaded\n",
      "FL prices successfully loaded\n",
      "FRT prices successfully loaded\n",
      "GE prices successfully loaded\n",
      "HON prices successfully loaded\n",
      "IBM prices successfully loaded\n",
      "IP prices successfully loaded\n",
      "JNJ prices successfully loaded\n",
      "KO prices successfully loaded\n",
      "LLY prices successfully loaded\n",
      "MCD prices successfully loaded\n",
      "MO prices successfully loaded\n",
      "MRK prices successfully loaded\n",
      "MRO prices successfully loaded\n",
      "PCG prices successfully loaded\n",
      "PEP prices successfully loaded\n",
      "PFE prices successfully loaded\n",
      "PG prices successfully loaded\n",
      "PNR prices successfully loaded\n",
      "SYY prices successfully loaded\n",
      "TXN prices successfully loaded\n",
      "UTX prices successfully loaded\n",
      "WFC prices successfully loaded\n",
      "WMT prices successfully loaded\n",
      "WY prices successfully loaded\n",
      "XOM prices successfully loaded\n"
     ]
    }
   ],
   "source": [
    "tickers = list(cik_lookup.keys())\n",
    "tries = 0\n",
    "series = {}\n",
    "\n",
    "while True:\n",
    "    tries += 1\n",
    "    if tries == 1:\n",
    "        series, missed = make_requests(series, tickers)\n",
    "    else:\n",
    "        series, missed = make_requests(series, missed)\n",
    "    if len(missed) == 0 or tries == 10:\n",
    "        break\n",
    "        \n",
    "if len(missed) > 0:\n",
    "    print(f'{missed} were missed')"
   ]
  },
  {
   "cell_type": "code",
   "execution_count": 110,
   "metadata": {},
   "outputs": [],
   "source": [
    "pricing = pd.DataFrame(series).astype(float)\n",
    "pricing.index = pd.to_datetime(pricing.index.year, format='%Y')"
   ]
  },
  {
   "cell_type": "code",
   "execution_count": 112,
   "metadata": {},
   "outputs": [],
   "source": [
    "cosine_similarities_df_dict = {\n",
    "    'date': [],\n",
    "    'ticker': [],\n",
    "    'sentiment': [],\n",
    "    'value': []\n",
    "}\n",
    "\n",
    "for ticker, ten_k_sentiments in cosine_similarities.items():\n",
    "    for sentiment_name, sentiment_values in ten_k_sentiments.items():\n",
    "        for sentiment_values, sentiment_value in enumerate(sentiment_values):\n",
    "            cosine_similarities_df_dict['ticker'].append(ticker)\n",
    "            cosine_similarities_df_dict['sentiment'].append(sentiment_name)\n",
    "            cosine_similarities_df_dict['value'].append(sentiment_value)\n",
    "            cosine_similarities_df_dict['date'].append(file_dates[ticker][1:][sentiment_values])"
   ]
  },
  {
   "cell_type": "code",
   "execution_count": 113,
   "metadata": {},
   "outputs": [
    {
     "data": {
      "text/html": [
       "<div>\n",
       "<style scoped>\n",
       "    .dataframe tbody tr th:only-of-type {\n",
       "        vertical-align: middle;\n",
       "    }\n",
       "\n",
       "    .dataframe tbody tr th {\n",
       "        vertical-align: top;\n",
       "    }\n",
       "\n",
       "    .dataframe thead th {\n",
       "        text-align: right;\n",
       "    }\n",
       "</style>\n",
       "<table border=\"1\" class=\"dataframe\">\n",
       "  <thead>\n",
       "    <tr style=\"text-align: right;\">\n",
       "      <th></th>\n",
       "      <th>date</th>\n",
       "      <th>ticker</th>\n",
       "      <th>sentiment</th>\n",
       "      <th>value</th>\n",
       "    </tr>\n",
       "  </thead>\n",
       "  <tbody>\n",
       "    <tr>\n",
       "      <td>0</td>\n",
       "      <td>2019-01-01</td>\n",
       "      <td>AEP</td>\n",
       "      <td>negative</td>\n",
       "      <td>0.981974</td>\n",
       "    </tr>\n",
       "    <tr>\n",
       "      <td>1</td>\n",
       "      <td>2018-01-01</td>\n",
       "      <td>AEP</td>\n",
       "      <td>negative</td>\n",
       "      <td>0.964001</td>\n",
       "    </tr>\n",
       "    <tr>\n",
       "      <td>2</td>\n",
       "      <td>2017-01-01</td>\n",
       "      <td>AEP</td>\n",
       "      <td>negative</td>\n",
       "      <td>0.933406</td>\n",
       "    </tr>\n",
       "    <tr>\n",
       "      <td>3</td>\n",
       "      <td>2016-01-01</td>\n",
       "      <td>AEP</td>\n",
       "      <td>negative</td>\n",
       "      <td>0.976963</td>\n",
       "    </tr>\n",
       "    <tr>\n",
       "      <td>4</td>\n",
       "      <td>2015-01-01</td>\n",
       "      <td>AEP</td>\n",
       "      <td>negative</td>\n",
       "      <td>0.959769</td>\n",
       "    </tr>\n",
       "  </tbody>\n",
       "</table>\n",
       "</div>"
      ],
      "text/plain": [
       "        date ticker sentiment     value\n",
       "0 2019-01-01    AEP  negative  0.981974\n",
       "1 2018-01-01    AEP  negative  0.964001\n",
       "2 2017-01-01    AEP  negative  0.933406\n",
       "3 2016-01-01    AEP  negative  0.976963\n",
       "4 2015-01-01    AEP  negative  0.959769"
      ]
     },
     "execution_count": 113,
     "metadata": {},
     "output_type": "execute_result"
    }
   ],
   "source": [
    "cosine_similarities_df = pd.DataFrame(cosine_similarities_df_dict)\n",
    "cosine_similarities_df['date'] = pd.DatetimeIndex(cosine_similarities_df['date']).year\n",
    "cosine_similarities_df['date'] = pd.to_datetime(cosine_similarities_df['date'], format='%Y')\n",
    "\n",
    "cosine_similarities_df.head()"
   ]
  },
  {
   "cell_type": "markdown",
   "metadata": {},
   "source": [
    "[&#9650;back to top](#NLP-Financial-Statements)\n",
    "\n",
    "---"
   ]
  },
  {
   "cell_type": "markdown",
   "metadata": {},
   "source": [
    "### Alphalens Format"
   ]
  },
  {
   "cell_type": "code",
   "execution_count": 107,
   "metadata": {},
   "outputs": [],
   "source": [
    "import alphalens as al"
   ]
  },
  {
   "cell_type": "code",
   "execution_count": 108,
   "metadata": {},
   "outputs": [
    {
     "data": {
      "text/plain": [
       "\u001b[0;31mSignature:\u001b[0m\n",
       "\u001b[0mal\u001b[0m\u001b[0;34m.\u001b[0m\u001b[0mutils\u001b[0m\u001b[0;34m.\u001b[0m\u001b[0mget_clean_factor_and_forward_returns\u001b[0m\u001b[0;34m(\u001b[0m\u001b[0;34m\u001b[0m\n",
       "\u001b[0;34m\u001b[0m    \u001b[0mfactor\u001b[0m\u001b[0;34m,\u001b[0m\u001b[0;34m\u001b[0m\n",
       "\u001b[0;34m\u001b[0m    \u001b[0mprices\u001b[0m\u001b[0;34m,\u001b[0m\u001b[0;34m\u001b[0m\n",
       "\u001b[0;34m\u001b[0m    \u001b[0mgroupby\u001b[0m\u001b[0;34m=\u001b[0m\u001b[0;32mNone\u001b[0m\u001b[0;34m,\u001b[0m\u001b[0;34m\u001b[0m\n",
       "\u001b[0;34m\u001b[0m    \u001b[0mbinning_by_group\u001b[0m\u001b[0;34m=\u001b[0m\u001b[0;32mFalse\u001b[0m\u001b[0;34m,\u001b[0m\u001b[0;34m\u001b[0m\n",
       "\u001b[0;34m\u001b[0m    \u001b[0mquantiles\u001b[0m\u001b[0;34m=\u001b[0m\u001b[0;36m5\u001b[0m\u001b[0;34m,\u001b[0m\u001b[0;34m\u001b[0m\n",
       "\u001b[0;34m\u001b[0m    \u001b[0mbins\u001b[0m\u001b[0;34m=\u001b[0m\u001b[0;32mNone\u001b[0m\u001b[0;34m,\u001b[0m\u001b[0;34m\u001b[0m\n",
       "\u001b[0;34m\u001b[0m    \u001b[0mperiods\u001b[0m\u001b[0;34m=\u001b[0m\u001b[0;34m(\u001b[0m\u001b[0;36m1\u001b[0m\u001b[0;34m,\u001b[0m \u001b[0;36m5\u001b[0m\u001b[0;34m,\u001b[0m \u001b[0;36m10\u001b[0m\u001b[0;34m)\u001b[0m\u001b[0;34m,\u001b[0m\u001b[0;34m\u001b[0m\n",
       "\u001b[0;34m\u001b[0m    \u001b[0mfilter_zscore\u001b[0m\u001b[0;34m=\u001b[0m\u001b[0;36m20\u001b[0m\u001b[0;34m,\u001b[0m\u001b[0;34m\u001b[0m\n",
       "\u001b[0;34m\u001b[0m    \u001b[0mgroupby_labels\u001b[0m\u001b[0;34m=\u001b[0m\u001b[0;32mNone\u001b[0m\u001b[0;34m,\u001b[0m\u001b[0;34m\u001b[0m\n",
       "\u001b[0;34m\u001b[0m    \u001b[0mmax_loss\u001b[0m\u001b[0;34m=\u001b[0m\u001b[0;36m0.35\u001b[0m\u001b[0;34m,\u001b[0m\u001b[0;34m\u001b[0m\n",
       "\u001b[0;34m\u001b[0m    \u001b[0mzero_aware\u001b[0m\u001b[0;34m=\u001b[0m\u001b[0;32mFalse\u001b[0m\u001b[0;34m,\u001b[0m\u001b[0;34m\u001b[0m\n",
       "\u001b[0;34m\u001b[0m    \u001b[0mcumulative_returns\u001b[0m\u001b[0;34m=\u001b[0m\u001b[0;32mTrue\u001b[0m\u001b[0;34m,\u001b[0m\u001b[0;34m\u001b[0m\n",
       "\u001b[0;34m\u001b[0m\u001b[0;34m)\u001b[0m\u001b[0;34m\u001b[0m\u001b[0;34m\u001b[0m\u001b[0m\n",
       "\u001b[0;31mDocstring:\u001b[0m\n",
       "Formats the factor data, pricing data, and group mappings into a DataFrame\n",
       "that contains aligned MultiIndex indices of timestamp and asset. The\n",
       "returned data will be formatted to be suitable for Alphalens functions.\n",
       "\n",
       "It is safe to skip a call to this function and still make use of Alphalens\n",
       "functionalities as long as the factor data conforms to the format returned\n",
       "from get_clean_factor_and_forward_returns and documented here\n",
       "\n",
       "Parameters\n",
       "----------\n",
       "factor : pd.Series - MultiIndex\n",
       "    A MultiIndex Series indexed by timestamp (level 0) and asset\n",
       "    (level 1), containing the values for a single alpha factor.\n",
       "    ::\n",
       "        -----------------------------------\n",
       "            date    |    asset   |\n",
       "        -----------------------------------\n",
       "                    |   AAPL     |   0.5\n",
       "                    -----------------------\n",
       "                    |   BA       |  -1.1\n",
       "                    -----------------------\n",
       "        2014-01-01  |   CMG      |   1.7\n",
       "                    -----------------------\n",
       "                    |   DAL      |  -0.1\n",
       "                    -----------------------\n",
       "                    |   LULU     |   2.7\n",
       "                    -----------------------\n",
       "\n",
       "prices : pd.DataFrame\n",
       "    A wide form Pandas DataFrame indexed by timestamp with assets\n",
       "    in the columns.\n",
       "    Pricing data must span the factor analysis time period plus an\n",
       "    additional buffer window that is greater than the maximum number\n",
       "    of expected periods in the forward returns calculations.\n",
       "    It is important to pass the correct pricing data in depending on\n",
       "    what time of period your signal was generated so to avoid lookahead\n",
       "    bias, or  delayed calculations.\n",
       "    'Prices' must contain at least an entry for each timestamp/asset\n",
       "    combination in 'factor'. This entry should reflect the buy price\n",
       "    for the assets and usually it is the next available price after the\n",
       "    factor is computed but it can also be a later price if the factor is\n",
       "    meant to be traded later (e.g. if the factor is computed at market\n",
       "    open but traded 1 hour after market open the price information should\n",
       "    be 1 hour after market open).\n",
       "    'Prices' must also contain entries for timestamps following each\n",
       "    timestamp/asset combination in 'factor', as many more timestamps\n",
       "    as the maximum value in 'periods'. The asset price after 'period'\n",
       "    timestamps will be considered the sell price for that asset when\n",
       "    computing 'period' forward returns.\n",
       "    ::\n",
       "        ----------------------------------------------------\n",
       "                    | AAPL |  BA  |  CMG  |  DAL  |  LULU  |\n",
       "        ----------------------------------------------------\n",
       "           Date     |      |      |       |       |        |\n",
       "        ----------------------------------------------------\n",
       "        2014-01-01  |605.12| 24.58|  11.72| 54.43 |  37.14 |\n",
       "        ----------------------------------------------------\n",
       "        2014-01-02  |604.35| 22.23|  12.21| 52.78 |  33.63 |\n",
       "        ----------------------------------------------------\n",
       "        2014-01-03  |607.94| 21.68|  14.36| 53.94 |  29.37 |\n",
       "        ----------------------------------------------------\n",
       "\n",
       "groupby : pd.Series - MultiIndex or dict\n",
       "    Either A MultiIndex Series indexed by date and asset,\n",
       "    containing the period wise group codes for each asset, or\n",
       "    a dict of asset to group mappings. If a dict is passed,\n",
       "    it is assumed that group mappings are unchanged for the\n",
       "    entire time period of the passed factor data.\n",
       "binning_by_group : bool\n",
       "    If True, compute quantile buckets separately for each group.\n",
       "    This is useful when the factor values range vary considerably\n",
       "    across gorups so that it is wise to make the binning group relative.\n",
       "    You should probably enable this if the factor is intended\n",
       "    to be analyzed for a group neutral portfolio\n",
       "quantiles : int or sequence[float]\n",
       "    Number of equal-sized quantile buckets to use in factor bucketing.\n",
       "    Alternately sequence of quantiles, allowing non-equal-sized buckets\n",
       "    e.g. [0, .10, .5, .90, 1.] or [.05, .5, .95]\n",
       "    Only one of 'quantiles' or 'bins' can be not-None\n",
       "bins : int or sequence[float]\n",
       "    Number of equal-width (valuewise) bins to use in factor bucketing.\n",
       "    Alternately sequence of bin edges allowing for non-uniform bin width\n",
       "    e.g. [-4, -2, -0.5, 0, 10]\n",
       "    Chooses the buckets to be evenly spaced according to the values\n",
       "    themselves. Useful when the factor contains discrete values.\n",
       "    Only one of 'quantiles' or 'bins' can be not-None\n",
       "periods : sequence[int]\n",
       "    periods to compute forward returns on.\n",
       "filter_zscore : int or float, optional\n",
       "    Sets forward returns greater than X standard deviations\n",
       "    from the the mean to nan. Set it to 'None' to avoid filtering.\n",
       "    Caution: this outlier filtering incorporates lookahead bias.\n",
       "groupby_labels : dict\n",
       "    A dictionary keyed by group code with values corresponding\n",
       "    to the display name for each group.\n",
       "max_loss : float, optional\n",
       "    Maximum percentage (0.00 to 1.00) of factor data dropping allowed,\n",
       "    computed comparing the number of items in the input factor index and\n",
       "    the number of items in the output DataFrame index.\n",
       "    Factor data can be partially dropped due to being flawed itself\n",
       "    (e.g. NaNs), not having provided enough price data to compute\n",
       "    forward returns for all factor values, or because it is not possible\n",
       "    to perform binning.\n",
       "    Set max_loss=0 to avoid Exceptions suppression.\n",
       "zero_aware : bool, optional\n",
       "    If True, compute quantile buckets separately for positive and negative\n",
       "    signal values. This is useful if your signal is centered and zero is\n",
       "    the separation between long and short signals, respectively.\n",
       "cumulative_returns : bool, optional\n",
       "    If True, forward returns columns will contain cumulative returns.\n",
       "    Setting this to False is useful if you want to analyze how predictive\n",
       "    a factor is for a single forward day.\n",
       "\n",
       "Returns\n",
       "-------\n",
       "merged_data : pd.DataFrame - MultiIndex\n",
       "    A MultiIndex Series indexed by date (level 0) and asset (level 1),\n",
       "    containing the values for a single alpha factor, forward returns for\n",
       "    each period, the factor quantile/bin that factor value belongs to, and\n",
       "    (optionally) the group the asset belongs to.\n",
       "    - forward returns column names follow  the format accepted by\n",
       "      pd.Timedelta (e.g. '1D', '30m', '3h15m', '1D1h', etc)\n",
       "    - 'date' index freq property (merged_data.index.levels[0].freq) will be\n",
       "      set to a trading calendar (pandas DateOffset) inferred from the input\n",
       "      data (see infer_trading_calendar for more details). This is currently\n",
       "      used only in cumulative returns computation\n",
       "    ::\n",
       "       -------------------------------------------------------------------\n",
       "                  |       | 1D  | 5D  | 10D  |factor|group|factor_quantile\n",
       "       -------------------------------------------------------------------\n",
       "           date   | asset |     |     |      |      |     |\n",
       "       -------------------------------------------------------------------\n",
       "                  | AAPL  | 0.09|-0.01|-0.079|  0.5 |  G1 |      3\n",
       "                  --------------------------------------------------------\n",
       "                  | BA    | 0.02| 0.06| 0.020| -1.1 |  G2 |      5\n",
       "                  --------------------------------------------------------\n",
       "       2014-01-01 | CMG   | 0.03| 0.09| 0.036|  1.7 |  G2 |      1\n",
       "                  --------------------------------------------------------\n",
       "                  | DAL   |-0.02|-0.06|-0.029| -0.1 |  G3 |      5\n",
       "                  --------------------------------------------------------\n",
       "                  | LULU  |-0.03| 0.05|-0.009|  2.7 |  G1 |      2\n",
       "                  --------------------------------------------------------\n",
       "\u001b[0;31mFile:\u001b[0m      /usr/local/anaconda3/lib/python3.7/site-packages/alphalens/utils.py\n",
       "\u001b[0;31mType:\u001b[0m      function\n"
      ]
     },
     "metadata": {},
     "output_type": "display_data"
    }
   ],
   "source": [
    "# get_clean_factor_and_forward_returns documentation:\n",
    "al.utils.get_clean_factor_and_forward_returns?"
   ]
  },
  {
   "cell_type": "code",
   "execution_count": 127,
   "metadata": {},
   "outputs": [
    {
     "name": "stdout",
     "output_type": "stream",
     "text": [
      "Dropped 0.0% entries from factor data: 0.0% in forward returns computation and 0.0% in binning phase (set max_loss=0 to see potentially suppressed Exceptions).\n",
      "max_loss is 35.0%, not exceeded: OK!\n",
      "Dropped 0.0% entries from factor data: 0.0% in forward returns computation and 0.0% in binning phase (set max_loss=0 to see potentially suppressed Exceptions).\n",
      "max_loss is 35.0%, not exceeded: OK!\n",
      "Dropped 0.0% entries from factor data: 0.0% in forward returns computation and 0.0% in binning phase (set max_loss=0 to see potentially suppressed Exceptions).\n",
      "max_loss is 35.0%, not exceeded: OK!\n",
      "Dropped 0.0% entries from factor data: 0.0% in forward returns computation and 0.0% in binning phase (set max_loss=0 to see potentially suppressed Exceptions).\n",
      "max_loss is 35.0%, not exceeded: OK!\n",
      "Dropped 0.1% entries from factor data: 0.0% in forward returns computation and 0.1% in binning phase (set max_loss=0 to see potentially suppressed Exceptions).\n",
      "max_loss is 35.0%, not exceeded: OK!\n",
      "Dropped 0.1% entries from factor data: 0.0% in forward returns computation and 0.1% in binning phase (set max_loss=0 to see potentially suppressed Exceptions).\n",
      "max_loss is 35.0%, not exceeded: OK!\n"
     ]
    }
   ],
   "source": [
    "factor_data = {}\n",
    "skipped_sentiments = []\n",
    "\n",
    "for sentiment in sentiments:\n",
    "    cs_df = cosine_similarities_df\\\n",
    "        .query(\n",
    "            f'''sentiment=='{sentiment}' & value!=0'''\n",
    "        )\\\n",
    "        .drop_duplicates(\n",
    "            subset=['date', 'ticker'], keep='first'\n",
    "        )\n",
    "    cs_df = cs_df.pivot(index='date', columns='ticker', values='value')\n",
    "\n",
    "    try:\n",
    "        data = al.utils.get_clean_factor_and_forward_returns(\n",
    "            cs_df.stack(),\n",
    "            pricing,\n",
    "            quantiles=5,\n",
    "            bins=None,\n",
    "            periods=[-1]\n",
    "        )\n",
    "        factor_data[sentiment] = data\n",
    "    except:\n",
    "        skipped_sentiments.append(sentiment)\n",
    "        \n",
    "if skipped_sentiments:\n",
    "    print('\\nSkipped the following sentiments:\\n{}'.format('\\n'.join(skipped_sentiments)))"
   ]
  },
  {
   "cell_type": "code",
   "execution_count": 128,
   "metadata": {},
   "outputs": [
    {
     "data": {
      "text/html": [
       "<div>\n",
       "<style scoped>\n",
       "    .dataframe tbody tr th:only-of-type {\n",
       "        vertical-align: middle;\n",
       "    }\n",
       "\n",
       "    .dataframe tbody tr th {\n",
       "        vertical-align: top;\n",
       "    }\n",
       "\n",
       "    .dataframe thead th {\n",
       "        text-align: right;\n",
       "    }\n",
       "</style>\n",
       "<table border=\"1\" class=\"dataframe\">\n",
       "  <thead>\n",
       "    <tr style=\"text-align: right;\">\n",
       "      <th></th>\n",
       "      <th></th>\n",
       "      <th>1D</th>\n",
       "      <th>factor</th>\n",
       "      <th>factor_quantile</th>\n",
       "    </tr>\n",
       "    <tr>\n",
       "      <th>date</th>\n",
       "      <th>asset</th>\n",
       "      <th></th>\n",
       "      <th></th>\n",
       "      <th></th>\n",
       "    </tr>\n",
       "  </thead>\n",
       "  <tbody>\n",
       "    <tr>\n",
       "      <td rowspan=\"4\" valign=\"top\">2000-01-01</td>\n",
       "      <td>DIS</td>\n",
       "      <td>-0.155786</td>\n",
       "      <td>0.682675</td>\n",
       "      <td>1</td>\n",
       "    </tr>\n",
       "    <tr>\n",
       "      <td>EMR</td>\n",
       "      <td>0.414174</td>\n",
       "      <td>0.966952</td>\n",
       "      <td>4</td>\n",
       "    </tr>\n",
       "    <tr>\n",
       "      <td>PG</td>\n",
       "      <td>-0.274783</td>\n",
       "      <td>0.838083</td>\n",
       "      <td>2</td>\n",
       "    </tr>\n",
       "    <tr>\n",
       "      <td>SYY</td>\n",
       "      <td>0.531144</td>\n",
       "      <td>0.972026</td>\n",
       "      <td>5</td>\n",
       "    </tr>\n",
       "    <tr>\n",
       "      <td rowspan=\"16\" valign=\"top\">2001-01-01</td>\n",
       "      <td>AXP</td>\n",
       "      <td>-0.231893</td>\n",
       "      <td>0.799564</td>\n",
       "      <td>3</td>\n",
       "    </tr>\n",
       "    <tr>\n",
       "      <td>BA</td>\n",
       "      <td>-0.290376</td>\n",
       "      <td>0.759543</td>\n",
       "      <td>2</td>\n",
       "    </tr>\n",
       "    <tr>\n",
       "      <td>BMY</td>\n",
       "      <td>-0.251902</td>\n",
       "      <td>0.612686</td>\n",
       "      <td>2</td>\n",
       "    </tr>\n",
       "    <tr>\n",
       "      <td>CVX</td>\n",
       "      <td>0.036224</td>\n",
       "      <td>0.791476</td>\n",
       "      <td>3</td>\n",
       "    </tr>\n",
       "    <tr>\n",
       "      <td>DIS</td>\n",
       "      <td>-0.301666</td>\n",
       "      <td>0.895939</td>\n",
       "      <td>4</td>\n",
       "    </tr>\n",
       "    <tr>\n",
       "      <td>ED</td>\n",
       "      <td>0.241159</td>\n",
       "      <td>0.970284</td>\n",
       "      <td>5</td>\n",
       "    </tr>\n",
       "    <tr>\n",
       "      <td>EMR</td>\n",
       "      <td>-0.218048</td>\n",
       "      <td>0.314275</td>\n",
       "      <td>1</td>\n",
       "    </tr>\n",
       "    <tr>\n",
       "      <td>GE</td>\n",
       "      <td>-0.179234</td>\n",
       "      <td>0.852622</td>\n",
       "      <td>3</td>\n",
       "    </tr>\n",
       "    <tr>\n",
       "      <td>HON</td>\n",
       "      <td>-0.274329</td>\n",
       "      <td>0.587731</td>\n",
       "      <td>1</td>\n",
       "    </tr>\n",
       "    <tr>\n",
       "      <td>IBM</td>\n",
       "      <td>-0.031993</td>\n",
       "      <td>0.446171</td>\n",
       "      <td>1</td>\n",
       "    </tr>\n",
       "    <tr>\n",
       "      <td>IP</td>\n",
       "      <td>0.109011</td>\n",
       "      <td>0.211943</td>\n",
       "      <td>1</td>\n",
       "    </tr>\n",
       "    <tr>\n",
       "      <td>KO</td>\n",
       "      <td>-0.234272</td>\n",
       "      <td>0.853142</td>\n",
       "      <td>4</td>\n",
       "    </tr>\n",
       "    <tr>\n",
       "      <td>LLY</td>\n",
       "      <td>-0.033586</td>\n",
       "      <td>0.725751</td>\n",
       "      <td>2</td>\n",
       "    </tr>\n",
       "    <tr>\n",
       "      <td>MRK</td>\n",
       "      <td>-0.265496</td>\n",
       "      <td>0.827655</td>\n",
       "      <td>3</td>\n",
       "    </tr>\n",
       "    <tr>\n",
       "      <td>MRO</td>\n",
       "      <td>0.058158</td>\n",
       "      <td>0.903242</td>\n",
       "      <td>5</td>\n",
       "    </tr>\n",
       "    <tr>\n",
       "      <td>PCG</td>\n",
       "      <td>0.508773</td>\n",
       "      <td>0.761034</td>\n",
       "      <td>2</td>\n",
       "    </tr>\n",
       "  </tbody>\n",
       "</table>\n",
       "</div>"
      ],
      "text/plain": [
       "                        1D    factor  factor_quantile\n",
       "date       asset                                     \n",
       "2000-01-01 DIS   -0.155786  0.682675                1\n",
       "           EMR    0.414174  0.966952                4\n",
       "           PG    -0.274783  0.838083                2\n",
       "           SYY    0.531144  0.972026                5\n",
       "2001-01-01 AXP   -0.231893  0.799564                3\n",
       "           BA    -0.290376  0.759543                2\n",
       "           BMY   -0.251902  0.612686                2\n",
       "           CVX    0.036224  0.791476                3\n",
       "           DIS   -0.301666  0.895939                4\n",
       "           ED     0.241159  0.970284                5\n",
       "           EMR   -0.218048  0.314275                1\n",
       "           GE    -0.179234  0.852622                3\n",
       "           HON   -0.274329  0.587731                1\n",
       "           IBM   -0.031993  0.446171                1\n",
       "           IP     0.109011  0.211943                1\n",
       "           KO    -0.234272  0.853142                4\n",
       "           LLY   -0.033586  0.725751                2\n",
       "           MRK   -0.265496  0.827655                3\n",
       "           MRO    0.058158  0.903242                5\n",
       "           PCG    0.508773  0.761034                2"
      ]
     },
     "execution_count": 128,
     "metadata": {},
     "output_type": "execute_result"
    }
   ],
   "source": [
    "factor_data[sentiments[0]].head(20)"
   ]
  },
  {
   "cell_type": "markdown",
   "metadata": {},
   "source": [
    "**Alphalens' ```factor_rank_autocorrelation``` and ```mean_return_by_quantile``` functions requre unix timestamps**"
   ]
  },
  {
   "cell_type": "code",
   "execution_count": 129,
   "metadata": {},
   "outputs": [],
   "source": [
    "unixt_factor_data = {\n",
    "    factor: data.set_index(\n",
    "        pd.MultiIndex.from_tuples(\n",
    "            [\n",
    "                (x.timestamp(), y)\n",
    "                for x, y in data.index.values\n",
    "            ],\n",
    "        names=['date', 'asset']\n",
    "        )\n",
    "    )\n",
    "    for factor, data in factor_data.items()\n",
    "}"
   ]
  },
  {
   "cell_type": "markdown",
   "metadata": {},
   "source": [
    "[&#9650;back to top](#NLP-Financial-Statements)\n",
    "\n",
    "---"
   ]
  },
  {
   "cell_type": "markdown",
   "metadata": {},
   "source": [
    "### Factor Returns"
   ]
  },
  {
   "cell_type": "code",
   "execution_count": 130,
   "metadata": {},
   "outputs": [],
   "source": [
    "ls_factor_returns = pd.DataFrame()\n",
    "\n",
    "for factor_name, data in factor_data.items():\n",
    "    ls_factor_returns[factor_name] = al.performance.factor_returns(data).iloc[:,0]\n",
    "\n",
    "factor_returns_df = (1 + ls_factor_returns).cumprod()"
   ]
  },
  {
   "cell_type": "code",
   "execution_count": 144,
   "metadata": {},
   "outputs": [
    {
     "data": {
      "text/html": [
       "\n",
       "\n",
       "\n",
       "\n",
       "\n",
       "\n",
       "  <div class=\"bk-root\" id=\"019d8520-ae11-441f-b019-eb11381050cb\" data-root-id=\"150249\"></div>\n"
      ]
     },
     "metadata": {},
     "output_type": "display_data"
    },
    {
     "data": {
      "application/javascript": [
       "(function(root) {\n",
       "  function embed_document(root) {\n",
       "    \n",
       "  var docs_json = {\"6517b314-20c8-42c4-ab47-ece2cc77bd37\":{\"roots\":{\"references\":[{\"attributes\":{\"below\":[{\"id\":\"150258\"}],\"center\":[{\"id\":\"150261\"},{\"id\":\"150265\"},{\"id\":\"150306\"}],\"left\":[{\"id\":\"150262\"}],\"plot_height\":200,\"plot_width\":1000,\"renderers\":[{\"id\":\"150283\"},{\"id\":\"150311\"},{\"id\":\"150340\"},{\"id\":\"150371\"},{\"id\":\"150404\"},{\"id\":\"150439\"}],\"title\":{\"id\":\"150286\"},\"toolbar\":{\"id\":\"150273\"},\"x_range\":{\"id\":\"150250\"},\"x_scale\":{\"id\":\"150254\"},\"y_range\":{\"id\":\"150252\"},\"y_scale\":{\"id\":\"150256\"}},\"id\":\"150249\",\"subtype\":\"Figure\",\"type\":\"Plot\"},{\"attributes\":{\"line_color\":\"#00AAAE\",\"x\":{\"field\":\"x\"},\"y\":{\"field\":\"y\"}},\"id\":\"150437\",\"type\":\"Line\"},{\"attributes\":{},\"id\":\"150399\",\"type\":\"Selection\"},{\"attributes\":{\"data_source\":{\"id\":\"150401\"},\"glyph\":{\"id\":\"150402\"},\"hover_glyph\":null,\"muted_glyph\":null,\"nonselection_glyph\":{\"id\":\"150403\"},\"selection_glyph\":null,\"view\":{\"id\":\"150405\"}},\"id\":\"150404\",\"type\":\"GlyphRenderer\"},{\"attributes\":{\"label\":{\"value\":\"constraining\"},\"renderers\":[{\"id\":\"150404\"}]},\"id\":\"150435\",\"type\":\"LegendItem\"},{\"attributes\":{\"label\":{\"value\":\"litigious\"},\"renderers\":[{\"id\":\"150371\"}]},\"id\":\"150400\",\"type\":\"LegendItem\"},{\"attributes\":{},\"id\":\"150270\",\"type\":\"ResetTool\"},{\"attributes\":{},\"id\":\"150433\",\"type\":\"UnionRenderers\"},{\"attributes\":{\"data\":{\"x\":{\"__ndarray__\":\"AACA9VmNa0IAAIDm9HhsQgAAAAzrY21CAACAMeFObkIAAABX1zlvQgAAACS5EnBCAADANjSIcEIAAIBJr/1wQgAAQFwqc3FCAADA1PfocUIAAIDncl5yQgAAQPrt03JCAAAADWlJc0IAAICFNr9zQgAAQJixNHRCAAAAqyyqdEIAAMC9px91QgAAQDZ1lXVCAAAASfAKdkIAAMBba4B2QgAAgG7m9XZC\",\"dtype\":\"float64\",\"order\":\"little\",\"shape\":[21]},\"y\":{\"__ndarray__\":\"jzzQID+d8z/si3pF9p/yP+7AjKg20fI/3FYMRc8O8T98aNjXmZPxP0uU3lB50fE/TcgyRbL38T+poVqG/RfzP35y9W7Z1/Q//Ne4HWXh8j+XC+IWaC71P6NyRjsbuPU/FwVGJOJK9D8o2O5nN7r1P2Hm5pz2nPQ/XXASJcNM9T+w8rvbSU/0P9dCc/FkrfM/TcAyvWrM9z+ZfwifoWz4PwAAAAAAAPh/\",\"dtype\":\"float64\",\"order\":\"little\",\"shape\":[21]}},\"selected\":{\"id\":\"150471\"},\"selection_policy\":{\"id\":\"150470\"}},\"id\":\"150436\",\"type\":\"ColumnDataSource\"},{\"attributes\":{\"data\":{\"x\":{\"__ndarray__\":\"AACA9VmNa0IAAIDm9HhsQgAAAAzrY21CAACAMeFObkIAAABX1zlvQgAAACS5EnBCAADANjSIcEIAAIBJr/1wQgAAQFwqc3FCAADA1PfocUIAAIDncl5yQgAAQPrt03JCAAAADWlJc0IAAICFNr9zQgAAQJixNHRCAAAAqyyqdEIAAMC9px91QgAAQDZ1lXVCAAAASfAKdkIAAMBba4B2QgAAgG7m9XZC\",\"dtype\":\"float64\",\"order\":\"little\",\"shape\":[21]},\"y\":{\"__ndarray__\":\"AIEObTu78j9DdyilrpfyP7kx60NubvM/P3VoAmp58j+3XFMZSm/zP3gOF7z/kfQ/vKe21saG9D/5H24IDLT0P40gFvQEd/Y/ps0r3mVC9z/Oc09h/FT5PwvnJYFhO/o/G8HcPop6+D9z6Xnvu4r5P0smNBgsB/k/+oAh4E04+T8memT2+5H4PzmRUj2u+/M/+CDrLSXf9T+Uz4tAOab1PwAAAAAAAPh/\",\"dtype\":\"float64\",\"order\":\"little\",\"shape\":[21]}},\"selected\":{\"id\":\"150434\"},\"selection_policy\":{\"id\":\"150433\"}},\"id\":\"150401\",\"type\":\"ColumnDataSource\"},{\"attributes\":{\"data_source\":{\"id\":\"150436\"},\"glyph\":{\"id\":\"150437\"},\"hover_glyph\":null,\"muted_glyph\":null,\"nonselection_glyph\":{\"id\":\"150438\"},\"selection_glyph\":null,\"view\":{\"id\":\"150440\"}},\"id\":\"150439\",\"type\":\"GlyphRenderer\"},{\"attributes\":{\"source\":{\"id\":\"150280\"}},\"id\":\"150284\",\"type\":\"CDSView\"},{\"attributes\":{\"data_source\":{\"id\":\"150280\"},\"glyph\":{\"id\":\"150281\"},\"hover_glyph\":null,\"muted_glyph\":null,\"nonselection_glyph\":{\"id\":\"150282\"},\"selection_glyph\":null,\"view\":{\"id\":\"150284\"}},\"id\":\"150283\",\"type\":\"GlyphRenderer\"},{\"attributes\":{},\"id\":\"150266\",\"type\":\"PanTool\"},{\"attributes\":{\"data\":{\"x\":{\"__ndarray__\":\"AACA9VmNa0IAAIDm9HhsQgAAAAzrY21CAACAMeFObkIAAABX1zlvQgAAACS5EnBCAADANjSIcEIAAIBJr/1wQgAAQFwqc3FCAADA1PfocUIAAIDncl5yQgAAQPrt03JCAAAADWlJc0IAAICFNr9zQgAAQJixNHRCAAAAqyyqdEIAAMC9px91QgAAQDZ1lXVCAAAASfAKdkIAAMBba4B2QgAAgG7m9XZC\",\"dtype\":\"float64\",\"order\":\"little\",\"shape\":[21]},\"y\":{\"__ndarray__\":\"gWlZTfCu8z+1lYA0RafzPyWYUszscfQ/3ad2obZe8j/tpWJnRDvzP4AJuz9cOvI/5bhn8Agq8j//EpyQ8gryPxMvggmwxfM/Qgb0gfWA8z+bHvrkFw3xP/qKdWM/IPA/0M6wSLry8D/GQIHVJMzxP3TLcpRvg/E/aR8zuiR58D8o7OqjyzfvPyn+MEMByOg/463WlEFx6T+l1xy98obpP1nOnnAnBeI/\",\"dtype\":\"float64\",\"order\":\"little\",\"shape\":[21]}},\"selected\":{\"id\":\"150335\"},\"selection_policy\":{\"id\":\"150334\"}},\"id\":\"150308\",\"type\":\"ColumnDataSource\"},{\"attributes\":{\"overlay\":{\"id\":\"150272\"}},\"id\":\"150268\",\"type\":\"BoxZoomTool\"},{\"attributes\":{},\"id\":\"150434\",\"type\":\"Selection\"},{\"attributes\":{},\"id\":\"150269\",\"type\":\"SaveTool\"},{\"attributes\":{\"line_alpha\":0.1,\"line_color\":\"#00AAAE\",\"x\":{\"field\":\"x\"},\"y\":{\"field\":\"y\"}},\"id\":\"150438\",\"type\":\"Line\"},{\"attributes\":{\"line_alpha\":0.1,\"line_color\":\"#20B254\",\"x\":{\"field\":\"x\"},\"y\":{\"field\":\"y\"}},\"id\":\"150403\",\"type\":\"Line\"},{\"attributes\":{\"source\":{\"id\":\"150401\"}},\"id\":\"150405\",\"type\":\"CDSView\"},{\"attributes\":{},\"id\":\"150267\",\"type\":\"WheelZoomTool\"},{\"attributes\":{\"data\":{\"x\":{\"__ndarray__\":\"AACA9VmNa0IAAIDm9HhsQgAAAAzrY21CAACAMeFObkIAAABX1zlvQgAAACS5EnBCAADANjSIcEIAAIBJr/1wQgAAQFwqc3FCAADA1PfocUIAAIDncl5yQgAAQPrt03JCAAAADWlJc0IAAICFNr9zQgAAQJixNHRCAAAAqyyqdEIAAMC9px91QgAAQDZ1lXVCAAAASfAKdkIAAMBba4B2QgAAgG7m9XZC\",\"dtype\":\"float64\",\"order\":\"little\",\"shape\":[21]},\"y\":{\"__ndarray__\":\"7F+OGUEp9T/1CVI3Arr1P+9/CRRYv/Y/1GYfxNOg9T9EXeeIHkH2PxWks4yh/PQ/5KTmpxcR9T9AdaIa6hX1P+FLWpTCdvU/aeYDcmgL9T8bTUlEwjbyPw4ttyIBP/E/4Ee0HW0u8j/Yb7Vy2tTzP3xYrB4qp/M/3TxqCFXz8j8Chs+DFLzyP1DN+W9Myu4/JAhnObLX7z9UtOumEsPvP2Hm+VQ4EOY/\",\"dtype\":\"float64\",\"order\":\"little\",\"shape\":[21]}},\"selected\":{\"id\":\"150305\"},\"selection_policy\":{\"id\":\"150304\"}},\"id\":\"150280\",\"type\":\"ColumnDataSource\"},{\"attributes\":{},\"id\":\"150305\",\"type\":\"Selection\"},{\"attributes\":{\"line_color\":\"#EC1557\",\"x\":{\"field\":\"x\"},\"y\":{\"field\":\"y\"}},\"id\":\"150281\",\"type\":\"Line\"},{\"attributes\":{},\"id\":\"150256\",\"type\":\"LinearScale\"},{\"attributes\":{},\"id\":\"150288\",\"type\":\"DatetimeTickFormatter\"},{\"attributes\":{\"label\":{\"value\":\"interesting\"},\"renderers\":[{\"id\":\"150439\"}]},\"id\":\"150472\",\"type\":\"LegendItem\"},{\"attributes\":{\"data\":{\"x\":{\"__ndarray__\":\"AACA9VmNa0IAAIDm9HhsQgAAAAzrY21CAACAMeFObkIAAABX1zlvQgAAACS5EnBCAADANjSIcEIAAIBJr/1wQgAAQFwqc3FCAADA1PfocUIAAIDncl5yQgAAQPrt03JCAAAADWlJc0IAAICFNr9zQgAAQJixNHRCAAAAqyyqdEIAAMC9px91QgAAQDZ1lXVCAAAASfAKdkIAAMBba4B2QgAAgG7m9XZC\",\"dtype\":\"float64\",\"order\":\"little\",\"shape\":[21]},\"y\":{\"__ndarray__\":\"1G3QAn6/8z+Hj4UbJqryP69WVvEUn/I/LxedhrkD8T8Bx4abtUTwP/jjq2VAme0/Y1ok8F9p7j/k4Gvy5NDtP1xvnEv7z+0/cztUDcQK7j+8QnjfwF3mPx1qMYZkReU/zOyfrRm/5j+/9xXHnJboP20K1eZOrug/lf6yJKkM6D+u4IiuMafmP71GK7x5MeI/FrhGi4yY4j8X6Pg1baTiPwZhEy992dc/\",\"dtype\":\"float64\",\"order\":\"little\",\"shape\":[21]}},\"selected\":{\"id\":\"150366\"},\"selection_policy\":{\"id\":\"150365\"}},\"id\":\"150337\",\"type\":\"ColumnDataSource\"},{\"attributes\":{\"base\":24,\"mantissas\":[1,2,4,6,8,12],\"max_interval\":43200000.0,\"min_interval\":3600000.0,\"num_minor_ticks\":0},\"id\":\"150294\",\"type\":\"AdaptiveTicker\"},{\"attributes\":{\"line_color\":\"#F6A91B\",\"x\":{\"field\":\"x\"},\"y\":{\"field\":\"y\"}},\"id\":\"150338\",\"type\":\"Line\"},{\"attributes\":{\"line_color\":\"#20B254\",\"x\":{\"field\":\"x\"},\"y\":{\"field\":\"y\"}},\"id\":\"150402\",\"type\":\"Line\"},{\"attributes\":{\"formatter\":{\"id\":\"150288\"},\"ticker\":{\"id\":\"150259\"}},\"id\":\"150258\",\"type\":\"DatetimeAxis\"},{\"attributes\":{\"active_drag\":\"auto\",\"active_inspect\":\"auto\",\"active_multi\":null,\"active_scroll\":\"auto\",\"active_tap\":\"auto\",\"tools\":[{\"id\":\"150266\"},{\"id\":\"150267\"},{\"id\":\"150268\"},{\"id\":\"150269\"},{\"id\":\"150270\"},{\"id\":\"150271\"}]},\"id\":\"150273\",\"type\":\"Toolbar\"},{\"attributes\":{\"source\":{\"id\":\"150368\"}},\"id\":\"150372\",\"type\":\"CDSView\"},{\"attributes\":{},\"id\":\"150271\",\"type\":\"HelpTool\"},{\"attributes\":{\"axis\":{\"id\":\"150258\"},\"ticker\":null},\"id\":\"150261\",\"type\":\"Grid\"},{\"attributes\":{\"label\":{\"value\":\"positive\"},\"renderers\":[{\"id\":\"150311\"}]},\"id\":\"150336\",\"type\":\"LegendItem\"},{\"attributes\":{\"mantissas\":[1,2,5],\"max_interval\":500.0,\"num_minor_ticks\":0},\"id\":\"150292\",\"type\":\"AdaptiveTicker\"},{\"attributes\":{\"data\":{\"x\":{\"__ndarray__\":\"AACA9VmNa0IAAIDm9HhsQgAAAAzrY21CAACAMeFObkIAAABX1zlvQgAAACS5EnBCAADANjSIcEIAAIBJr/1wQgAAQFwqc3FCAADA1PfocUIAAIDncl5yQgAAQPrt03JCAAAADWlJc0IAAICFNr9zQgAAQJixNHRCAAAAqyyqdEIAAMC9px91QgAAQDZ1lXVCAAAASfAKdkIAAMBba4B2QgAAgG7m9XZC\",\"dtype\":\"float64\",\"order\":\"little\",\"shape\":[21]},\"y\":{\"__ndarray__\":\"iOxkzLv09T8yuWFt9eD2PyWPSqy7Lvg/LNO41Rw99z+yZnzY+t73PxBF74KH7/c/r3G0reVV+D/KLaohqgr4P8d0J9WA6vc/mxK2jUvd+D//cqq8QDn3P5Pziqa2yPU/cbs7gLUy9z/Sw5rydmn5PwbehRRkh/k/K1/Sn/Ey+D+CCGQfanL3PzIly97jLPM/xjv43yEz9D/B2YQUl0L0P/6itgH1Y/A/\",\"dtype\":\"float64\",\"order\":\"little\",\"shape\":[21]}},\"selected\":{\"id\":\"150399\"},\"selection_policy\":{\"id\":\"150398\"}},\"id\":\"150368\",\"type\":\"ColumnDataSource\"},{\"attributes\":{\"base\":60,\"mantissas\":[1,2,5,10,15,20,30],\"max_interval\":1800000.0,\"min_interval\":1000.0,\"num_minor_ticks\":0},\"id\":\"150293\",\"type\":\"AdaptiveTicker\"},{\"attributes\":{\"days\":[1,8,15,22]},\"id\":\"150297\",\"type\":\"DaysTicker\"},{\"attributes\":{\"months\":[0,6]},\"id\":\"150302\",\"type\":\"MonthsTicker\"},{\"attributes\":{},\"id\":\"150470\",\"type\":\"UnionRenderers\"},{\"attributes\":{\"line_color\":\"#A5CD39\",\"x\":{\"field\":\"x\"},\"y\":{\"field\":\"y\"}},\"id\":\"150369\",\"type\":\"Line\"},{\"attributes\":{\"bottom_units\":\"screen\",\"fill_alpha\":0.5,\"fill_color\":\"lightgrey\",\"left_units\":\"screen\",\"level\":\"overlay\",\"line_alpha\":1.0,\"line_color\":\"black\",\"line_dash\":[4,4],\"line_width\":2,\"right_units\":\"screen\",\"top_units\":\"screen\"},\"id\":\"150272\",\"type\":\"BoxAnnotation\"},{\"attributes\":{\"source\":{\"id\":\"150308\"}},\"id\":\"150312\",\"type\":\"CDSView\"},{\"attributes\":{\"items\":[{\"id\":\"150307\"},{\"id\":\"150336\"},{\"id\":\"150367\"},{\"id\":\"150400\"},{\"id\":\"150435\"},{\"id\":\"150472\"}],\"label_text_font_size\":\"8pt\",\"location\":\"top_left\",\"spacing\":1},\"id\":\"150306\",\"type\":\"Legend\"},{\"attributes\":{},\"id\":\"150334\",\"type\":\"UnionRenderers\"},{\"attributes\":{},\"id\":\"150398\",\"type\":\"UnionRenderers\"},{\"attributes\":{},\"id\":\"150254\",\"type\":\"LinearScale\"},{\"attributes\":{\"text\":\"\"},\"id\":\"150286\",\"type\":\"Title\"},{\"attributes\":{\"formatter\":{\"id\":\"150290\"},\"ticker\":{\"id\":\"150263\"}},\"id\":\"150262\",\"type\":\"LinearAxis\"},{\"attributes\":{\"line_color\":\"#F05223\",\"x\":{\"field\":\"x\"},\"y\":{\"field\":\"y\"}},\"id\":\"150309\",\"type\":\"Line\"},{\"attributes\":{\"data_source\":{\"id\":\"150337\"},\"glyph\":{\"id\":\"150338\"},\"hover_glyph\":null,\"muted_glyph\":null,\"nonselection_glyph\":{\"id\":\"150339\"},\"selection_glyph\":null,\"view\":{\"id\":\"150341\"}},\"id\":\"150340\",\"type\":\"GlyphRenderer\"},{\"attributes\":{\"days\":[1,4,7,10,13,16,19,22,25,28]},\"id\":\"150296\",\"type\":\"DaysTicker\"},{\"attributes\":{\"months\":[0,4,8]},\"id\":\"150301\",\"type\":\"MonthsTicker\"},{\"attributes\":{\"months\":[0,1,2,3,4,5,6,7,8,9,10,11]},\"id\":\"150299\",\"type\":\"MonthsTicker\"},{\"attributes\":{},\"id\":\"150263\",\"type\":\"BasicTicker\"},{\"attributes\":{\"line_alpha\":0.1,\"line_color\":\"#F05223\",\"x\":{\"field\":\"x\"},\"y\":{\"field\":\"y\"}},\"id\":\"150310\",\"type\":\"Line\"},{\"attributes\":{\"days\":[1,2,3,4,5,6,7,8,9,10,11,12,13,14,15,16,17,18,19,20,21,22,23,24,25,26,27,28,29,30,31]},\"id\":\"150295\",\"type\":\"DaysTicker\"},{\"attributes\":{\"label\":{\"value\":\"negative\"},\"renderers\":[{\"id\":\"150283\"}]},\"id\":\"150307\",\"type\":\"LegendItem\"},{\"attributes\":{\"label\":{\"value\":\"uncertainty\"},\"renderers\":[{\"id\":\"150340\"}]},\"id\":\"150367\",\"type\":\"LegendItem\"},{\"attributes\":{\"axis\":{\"id\":\"150262\"},\"dimension\":1,\"ticker\":null},\"id\":\"150265\",\"type\":\"Grid\"},{\"attributes\":{\"line_alpha\":0.1,\"line_color\":\"#F6A91B\",\"x\":{\"field\":\"x\"},\"y\":{\"field\":\"y\"}},\"id\":\"150339\",\"type\":\"Line\"},{\"attributes\":{\"data_source\":{\"id\":\"150308\"},\"glyph\":{\"id\":\"150309\"},\"hover_glyph\":null,\"muted_glyph\":null,\"nonselection_glyph\":{\"id\":\"150310\"},\"selection_glyph\":null,\"view\":{\"id\":\"150312\"}},\"id\":\"150311\",\"type\":\"GlyphRenderer\"},{\"attributes\":{},\"id\":\"150366\",\"type\":\"Selection\"},{\"attributes\":{},\"id\":\"150303\",\"type\":\"YearsTicker\"},{\"attributes\":{\"source\":{\"id\":\"150436\"}},\"id\":\"150440\",\"type\":\"CDSView\"},{\"attributes\":{},\"id\":\"150335\",\"type\":\"Selection\"},{\"attributes\":{},\"id\":\"150471\",\"type\":\"Selection\"},{\"attributes\":{\"days\":[1,15]},\"id\":\"150298\",\"type\":\"DaysTicker\"},{\"attributes\":{\"data_source\":{\"id\":\"150368\"},\"glyph\":{\"id\":\"150369\"},\"hover_glyph\":null,\"muted_glyph\":null,\"nonselection_glyph\":{\"id\":\"150370\"},\"selection_glyph\":null,\"view\":{\"id\":\"150372\"}},\"id\":\"150371\",\"type\":\"GlyphRenderer\"},{\"attributes\":{\"line_alpha\":0.1,\"line_color\":\"#EC1557\",\"x\":{\"field\":\"x\"},\"y\":{\"field\":\"y\"}},\"id\":\"150282\",\"type\":\"Line\"},{\"attributes\":{},\"id\":\"150304\",\"type\":\"UnionRenderers\"},{\"attributes\":{\"desired_num_ticks\":21,\"num_minor_ticks\":5,\"tickers\":[{\"id\":\"150292\"},{\"id\":\"150293\"},{\"id\":\"150294\"},{\"id\":\"150295\"},{\"id\":\"150296\"},{\"id\":\"150297\"},{\"id\":\"150298\"},{\"id\":\"150299\"},{\"id\":\"150300\"},{\"id\":\"150301\"},{\"id\":\"150302\"},{\"id\":\"150303\"}]},\"id\":\"150259\",\"type\":\"DatetimeTicker\"},{\"attributes\":{},\"id\":\"150290\",\"type\":\"BasicTickFormatter\"},{\"attributes\":{\"months\":[0,2,4,6,8,10]},\"id\":\"150300\",\"type\":\"MonthsTicker\"},{\"attributes\":{},\"id\":\"150252\",\"type\":\"DataRange1d\"},{\"attributes\":{\"source\":{\"id\":\"150337\"}},\"id\":\"150341\",\"type\":\"CDSView\"},{\"attributes\":{\"line_alpha\":0.1,\"line_color\":\"#A5CD39\",\"x\":{\"field\":\"x\"},\"y\":{\"field\":\"y\"}},\"id\":\"150370\",\"type\":\"Line\"},{\"attributes\":{},\"id\":\"150250\",\"type\":\"DataRange1d\"},{\"attributes\":{},\"id\":\"150365\",\"type\":\"UnionRenderers\"}],\"root_ids\":[\"150249\"]},\"title\":\"Bokeh Application\",\"version\":\"2.2.3\"}};\n",
       "  var render_items = [{\"docid\":\"6517b314-20c8-42c4-ab47-ece2cc77bd37\",\"root_ids\":[\"150249\"],\"roots\":{\"150249\":\"019d8520-ae11-441f-b019-eb11381050cb\"}}];\n",
       "  root.Bokeh.embed.embed_items_notebook(docs_json, render_items);\n",
       "\n",
       "  }\n",
       "  if (root.Bokeh !== undefined) {\n",
       "    embed_document(root);\n",
       "  } else {\n",
       "    var attempts = 0;\n",
       "    var timer = setInterval(function(root) {\n",
       "      if (root.Bokeh !== undefined) {\n",
       "        clearInterval(timer);\n",
       "        embed_document(root);\n",
       "      } else {\n",
       "        attempts++;\n",
       "        if (attempts > 100) {\n",
       "          clearInterval(timer);\n",
       "          console.log(\"Bokeh: ERROR: Unable to run BokehJS code because BokehJS library is missing\");\n",
       "        }\n",
       "      }\n",
       "    }, 10, root)\n",
       "  }\n",
       "})(window);"
      ],
      "application/vnd.bokehjs_exec.v0+json": ""
     },
     "metadata": {
      "application/vnd.bokehjs_exec.v0+json": {
       "id": "150249"
      }
     },
     "output_type": "display_data"
    }
   ],
   "source": [
    "p = figure(\n",
    "    x_axis_type='datetime',\n",
    "    plot_width=1000,\n",
    "    plot_height=200,\n",
    ")\n",
    "for n, ticker in enumerate(factor_returns_df.columns):\n",
    "    p.line(\n",
    "        factor_returns_df.index,\n",
    "        factor_returns_df[ticker],\n",
    "        color=palette[6][n],\n",
    "        legend_label=ticker\n",
    "    )\n",
    "p.xaxis.ticker.desired_num_ticks = len(factor_returns_df.index)\n",
    "p.legend.label_text_font_size='8pt'\n",
    "p.legend.location='top_left'\n",
    "p.legend.spacing=1\n",
    "export_png(p, filename='factor_returns.png')\n",
    "show(p)"
   ]
  },
  {
   "cell_type": "markdown",
   "metadata": {},
   "source": [
    "![](img/factor_returns.png)"
   ]
  },
  {
   "cell_type": "markdown",
   "metadata": {},
   "source": [
    "[&#9650;back to top](#NLP-Financial-Statements)\n",
    "\n",
    "---"
   ]
  },
  {
   "cell_type": "markdown",
   "metadata": {},
   "source": [
    "### Basis Points per Day per Quantile"
   ]
  },
  {
   "cell_type": "code",
   "execution_count": 132,
   "metadata": {},
   "outputs": [],
   "source": [
    "qr_factor_returns = pd.DataFrame()\n",
    "\n",
    "for factor_name, data in unixt_factor_data.items():\n",
    "    qr_factor_returns[factor_name] = al.performance.mean_return_by_quantile(data)[0].iloc[:, 0]"
   ]
  },
  {
   "cell_type": "code",
   "execution_count": 133,
   "metadata": {},
   "outputs": [],
   "source": [
    "qr_factor_returns_df = (10000*qr_factor_returns)"
   ]
  },
  {
   "cell_type": "code",
   "execution_count": 134,
   "metadata": {},
   "outputs": [],
   "source": [
    "from bokeh.layouts import gridplot"
   ]
  },
  {
   "cell_type": "code",
   "execution_count": 146,
   "metadata": {},
   "outputs": [
    {
     "data": {
      "text/html": [
       "\n",
       "\n",
       "\n",
       "\n",
       "\n",
       "\n",
       "  <div class=\"bk-root\" id=\"a49c732a-5a0f-4b66-9391-583d757eb051\" data-root-id=\"157341\"></div>\n"
      ]
     },
     "metadata": {},
     "output_type": "display_data"
    },
    {
     "data": {
      "application/javascript": [
       "(function(root) {\n",
       "  function embed_document(root) {\n",
       "    \n",
       "  var docs_json = {\"cd95fe7f-cd30-44e3-83a6-d86041382fb3\":{\"roots\":{\"references\":[{\"attributes\":{\"children\":[{\"id\":\"157340\"},{\"id\":\"157338\"}]},\"id\":\"157341\",\"type\":\"Column\"},{\"attributes\":{},\"id\":\"157192\",\"type\":\"WheelZoomTool\"},{\"attributes\":{\"axis\":{\"id\":\"157073\"},\"ticker\":null},\"id\":\"157075\",\"type\":\"Grid\"},{\"attributes\":{\"data\":{\"top\":{\"__ndarray__\":\"IIL4771zYMBt56iWxD5kwM3XM2bM1XDAvx392AGrcUCOhW3/ZPBxQA==\",\"dtype\":\"float64\",\"order\":\"little\",\"shape\":[5]},\"x\":[\"1\",\"2\",\"3\",\"4\",\"5\"]},\"selected\":{\"id\":\"157291\"},\"selection_policy\":{\"id\":\"157290\"}},\"id\":\"157094\",\"type\":\"ColumnDataSource\"},{\"attributes\":{\"below\":[{\"id\":\"157073\"}],\"center\":[{\"id\":\"157075\"},{\"id\":\"157079\"}],\"left\":[{\"id\":\"157076\"}],\"plot_height\":250,\"plot_width\":300,\"renderers\":[{\"id\":\"157097\"}],\"title\":{\"id\":\"157063\"},\"toolbar\":{\"id\":\"157087\"},\"toolbar_location\":null,\"x_range\":{\"id\":\"157065\"},\"x_scale\":{\"id\":\"157069\"},\"y_range\":{\"id\":\"157067\"},\"y_scale\":{\"id\":\"157071\"}},\"id\":\"157062\",\"subtype\":\"Figure\",\"type\":\"Plot\"},{\"attributes\":{\"active_drag\":\"auto\",\"active_inspect\":\"auto\",\"active_multi\":null,\"active_scroll\":\"auto\",\"active_tap\":\"auto\",\"tools\":[{\"id\":\"157154\"},{\"id\":\"157155\"},{\"id\":\"157156\"},{\"id\":\"157157\"},{\"id\":\"157158\"},{\"id\":\"157159\"}]},\"id\":\"157161\",\"type\":\"Toolbar\"},{\"attributes\":{\"fill_color\":{\"value\":\"#A5CD39\"},\"line_color\":{\"value\":\"#A5CD39\"},\"top\":{\"field\":\"top\"},\"width\":{\"value\":0.75},\"x\":{\"field\":\"x\"}},\"id\":\"157206\",\"type\":\"VBar\"},{\"attributes\":{\"active_drag\":\"auto\",\"active_inspect\":\"auto\",\"active_multi\":null,\"active_scroll\":\"auto\",\"active_tap\":\"auto\",\"tools\":[{\"id\":\"157080\"},{\"id\":\"157081\"},{\"id\":\"157082\"},{\"id\":\"157083\"},{\"id\":\"157084\"},{\"id\":\"157085\"}]},\"id\":\"157087\",\"type\":\"Toolbar\"},{\"attributes\":{\"active_drag\":\"auto\",\"active_inspect\":\"auto\",\"active_multi\":null,\"active_scroll\":\"auto\",\"active_tap\":\"auto\",\"tools\":[{\"id\":\"157191\"},{\"id\":\"157192\"},{\"id\":\"157193\"},{\"id\":\"157194\"},{\"id\":\"157195\"},{\"id\":\"157196\"}]},\"id\":\"157198\",\"type\":\"Toolbar\"},{\"attributes\":{\"data_source\":{\"id\":\"157205\"},\"glyph\":{\"id\":\"157206\"},\"hover_glyph\":null,\"muted_glyph\":null,\"nonselection_glyph\":{\"id\":\"157207\"},\"selection_glyph\":null,\"view\":{\"id\":\"157209\"}},\"id\":\"157208\",\"type\":\"GlyphRenderer\"},{\"attributes\":{\"fill_alpha\":{\"value\":0.1},\"fill_color\":{\"value\":\"#EC1557\"},\"line_alpha\":{\"value\":0.1},\"line_color\":{\"value\":\"#EC1557\"},\"top\":{\"field\":\"top\"},\"width\":{\"value\":0.75},\"x\":{\"field\":\"x\"}},\"id\":\"157096\",\"type\":\"VBar\"},{\"attributes\":{},\"id\":\"157083\",\"type\":\"SaveTool\"},{\"attributes\":{},\"id\":\"157180\",\"type\":\"CategoricalScale\"},{\"attributes\":{},\"id\":\"157159\",\"type\":\"HelpTool\"},{\"attributes\":{\"overlay\":{\"id\":\"157160\"}},\"id\":\"157156\",\"type\":\"BoxZoomTool\"},{\"attributes\":{\"data_source\":{\"id\":\"157094\"},\"glyph\":{\"id\":\"157095\"},\"hover_glyph\":null,\"muted_glyph\":null,\"nonselection_glyph\":{\"id\":\"157096\"},\"selection_glyph\":null,\"view\":{\"id\":\"157098\"}},\"id\":\"157097\",\"type\":\"GlyphRenderer\"},{\"attributes\":{},\"id\":\"157081\",\"type\":\"WheelZoomTool\"},{\"attributes\":{},\"id\":\"157071\",\"type\":\"LinearScale\"},{\"attributes\":{\"formatter\":{\"id\":\"157288\"},\"ticker\":{\"id\":\"157077\"}},\"id\":\"157076\",\"type\":\"LinearAxis\"},{\"attributes\":{\"source\":{\"id\":\"157205\"}},\"id\":\"157209\",\"type\":\"CDSView\"},{\"attributes\":{\"formatter\":{\"id\":\"157315\"},\"ticker\":{\"id\":\"157188\"}},\"id\":\"157187\",\"type\":\"LinearAxis\"},{\"attributes\":{\"text\":\"interesting\"},\"id\":\"157248\",\"type\":\"Title\"},{\"attributes\":{},\"id\":\"157182\",\"type\":\"LinearScale\"},{\"attributes\":{},\"id\":\"157217\",\"type\":\"CategoricalScale\"},{\"attributes\":{\"overlay\":{\"id\":\"157086\"}},\"id\":\"157082\",\"type\":\"BoxZoomTool\"},{\"attributes\":{},\"id\":\"157194\",\"type\":\"SaveTool\"},{\"attributes\":{\"below\":[{\"id\":\"157221\"}],\"center\":[{\"id\":\"157223\"},{\"id\":\"157227\"}],\"left\":[{\"id\":\"157224\"}],\"plot_height\":250,\"plot_width\":300,\"renderers\":[{\"id\":\"157245\"}],\"title\":{\"id\":\"157211\"},\"toolbar\":{\"id\":\"157235\"},\"toolbar_location\":null,\"x_range\":{\"id\":\"157213\"},\"x_scale\":{\"id\":\"157217\"},\"y_range\":{\"id\":\"157215\"},\"y_scale\":{\"id\":\"157219\"}},\"id\":\"157210\",\"subtype\":\"Figure\",\"type\":\"Plot\"},{\"attributes\":{},\"id\":\"157219\",\"type\":\"LinearScale\"},{\"attributes\":{\"bottom_units\":\"screen\",\"fill_alpha\":0.5,\"fill_color\":\"lightgrey\",\"left_units\":\"screen\",\"level\":\"overlay\",\"line_alpha\":1.0,\"line_color\":\"black\",\"line_dash\":[4,4],\"line_width\":2,\"right_units\":\"screen\",\"top_units\":\"screen\"},\"id\":\"157160\",\"type\":\"BoxAnnotation\"},{\"attributes\":{\"text\":\"negative\"},\"id\":\"157063\",\"type\":\"Title\"},{\"attributes\":{\"data\":{\"top\":{\"__ndarray__\":\"DYnUKsOUcMC0N+4xJVZtQBrBacK/qGbAOu1lwmzLOMArSg4978prQA==\",\"dtype\":\"float64\",\"order\":\"little\",\"shape\":[5]},\"x\":[\"1\",\"2\",\"3\",\"4\",\"5\"]},\"selected\":{\"id\":\"157300\"},\"selection_policy\":{\"id\":\"157299\"}},\"id\":\"157131\",\"type\":\"ColumnDataSource\"},{\"attributes\":{},\"id\":\"157228\",\"type\":\"PanTool\"},{\"attributes\":{},\"id\":\"157080\",\"type\":\"PanTool\"},{\"attributes\":{\"source\":{\"id\":\"157242\"}},\"id\":\"157246\",\"type\":\"CDSView\"},{\"attributes\":{\"text\":\"constraining\"},\"id\":\"157211\",\"type\":\"Title\"},{\"attributes\":{},\"id\":\"157084\",\"type\":\"ResetTool\"},{\"attributes\":{},\"id\":\"157196\",\"type\":\"HelpTool\"},{\"attributes\":{},\"id\":\"157067\",\"type\":\"DataRange1d\"},{\"attributes\":{\"axis\":{\"id\":\"157113\"},\"dimension\":1,\"ticker\":null},\"id\":\"157116\",\"type\":\"Grid\"},{\"attributes\":{},\"id\":\"157195\",\"type\":\"ResetTool\"},{\"attributes\":{\"factors\":[\"1\",\"2\",\"3\",\"4\",\"5\"]},\"id\":\"157065\",\"type\":\"FactorRange\"},{\"attributes\":{\"fill_color\":{\"value\":\"#EC1557\"},\"line_color\":{\"value\":\"#EC1557\"},\"top\":{\"field\":\"top\"},\"width\":{\"value\":0.75},\"x\":{\"field\":\"x\"}},\"id\":\"157095\",\"type\":\"VBar\"},{\"attributes\":{},\"id\":\"157300\",\"type\":\"Selection\"},{\"attributes\":{\"overlay\":{\"id\":\"157197\"}},\"id\":\"157193\",\"type\":\"BoxZoomTool\"},{\"attributes\":{},\"id\":\"157118\",\"type\":\"WheelZoomTool\"},{\"attributes\":{\"formatter\":{\"id\":\"157286\"},\"ticker\":{\"id\":\"157074\"}},\"id\":\"157073\",\"type\":\"CategoricalAxis\"},{\"attributes\":{\"factors\":[\"1\",\"2\",\"3\",\"4\",\"5\"]},\"id\":\"157176\",\"type\":\"FactorRange\"},{\"attributes\":{\"fill_alpha\":{\"value\":0.1},\"fill_color\":{\"value\":\"#A5CD39\"},\"line_alpha\":{\"value\":0.1},\"line_color\":{\"value\":\"#A5CD39\"},\"top\":{\"field\":\"top\"},\"width\":{\"value\":0.75},\"x\":{\"field\":\"x\"}},\"id\":\"157207\",\"type\":\"VBar\"},{\"attributes\":{\"data\":{\"top\":{\"__ndarray__\":\"LOP9nRPsd8DQNn2UlHtkQE4e0KyqN1FAuL38l7ZbcEBB1X1l/epXwA==\",\"dtype\":\"float64\",\"order\":\"little\",\"shape\":[5]},\"x\":[\"1\",\"2\",\"3\",\"4\",\"5\"]},\"selected\":{\"id\":\"157327\"},\"selection_policy\":{\"id\":\"157326\"}},\"id\":\"157242\",\"type\":\"ColumnDataSource\"},{\"attributes\":{\"axis\":{\"id\":\"157076\"},\"dimension\":1,\"ticker\":null},\"id\":\"157079\",\"type\":\"Grid\"},{\"attributes\":{},\"id\":\"157252\",\"type\":\"DataRange1d\"},{\"attributes\":{},\"id\":\"157188\",\"type\":\"BasicTicker\"},{\"attributes\":{\"fill_alpha\":{\"value\":0.1},\"fill_color\":{\"value\":\"#20B254\"},\"line_alpha\":{\"value\":0.1},\"line_color\":{\"value\":\"#20B254\"},\"top\":{\"field\":\"top\"},\"width\":{\"value\":0.75},\"x\":{\"field\":\"x\"}},\"id\":\"157244\",\"type\":\"VBar\"},{\"attributes\":{\"bottom_units\":\"screen\",\"fill_alpha\":0.5,\"fill_color\":\"lightgrey\",\"left_units\":\"screen\",\"level\":\"overlay\",\"line_alpha\":1.0,\"line_color\":\"black\",\"line_dash\":[4,4],\"line_width\":2,\"right_units\":\"screen\",\"top_units\":\"screen\"},\"id\":\"157234\",\"type\":\"BoxAnnotation\"},{\"attributes\":{\"axis\":{\"id\":\"157184\"},\"ticker\":null},\"id\":\"157186\",\"type\":\"Grid\"},{\"attributes\":{\"text\":\"litigious\"},\"id\":\"157174\",\"type\":\"Title\"},{\"attributes\":{},\"id\":\"157178\",\"type\":\"DataRange1d\"},{\"attributes\":{},\"id\":\"157254\",\"type\":\"CategoricalScale\"},{\"attributes\":{\"overlay\":{\"id\":\"157123\"}},\"id\":\"157119\",\"type\":\"BoxZoomTool\"},{\"attributes\":{\"bottom_units\":\"screen\",\"fill_alpha\":0.5,\"fill_color\":\"lightgrey\",\"left_units\":\"screen\",\"level\":\"overlay\",\"line_alpha\":1.0,\"line_color\":\"black\",\"line_dash\":[4,4],\"line_width\":2,\"right_units\":\"screen\",\"top_units\":\"screen\"},\"id\":\"157197\",\"type\":\"BoxAnnotation\"},{\"attributes\":{\"toolbars\":[{\"id\":\"157087\"},{\"id\":\"157124\"},{\"id\":\"157161\"},{\"id\":\"157198\"},{\"id\":\"157235\"},{\"id\":\"157272\"}],\"tools\":[{\"id\":\"157080\"},{\"id\":\"157081\"},{\"id\":\"157082\"},{\"id\":\"157083\"},{\"id\":\"157084\"},{\"id\":\"157085\"},{\"id\":\"157117\"},{\"id\":\"157118\"},{\"id\":\"157119\"},{\"id\":\"157120\"},{\"id\":\"157121\"},{\"id\":\"157122\"},{\"id\":\"157154\"},{\"id\":\"157155\"},{\"id\":\"157156\"},{\"id\":\"157157\"},{\"id\":\"157158\"},{\"id\":\"157159\"},{\"id\":\"157191\"},{\"id\":\"157192\"},{\"id\":\"157193\"},{\"id\":\"157194\"},{\"id\":\"157195\"},{\"id\":\"157196\"},{\"id\":\"157228\"},{\"id\":\"157229\"},{\"id\":\"157230\"},{\"id\":\"157231\"},{\"id\":\"157232\"},{\"id\":\"157233\"},{\"id\":\"157265\"},{\"id\":\"157266\"},{\"id\":\"157267\"},{\"id\":\"157268\"},{\"id\":\"157269\"},{\"id\":\"157270\"}]},\"id\":\"157339\",\"type\":\"ProxyToolbar\"},{\"attributes\":{\"data_source\":{\"id\":\"157242\"},\"glyph\":{\"id\":\"157243\"},\"hover_glyph\":null,\"muted_glyph\":null,\"nonselection_glyph\":{\"id\":\"157244\"},\"selection_glyph\":null,\"view\":{\"id\":\"157246\"}},\"id\":\"157245\",\"type\":\"GlyphRenderer\"},{\"attributes\":{},\"id\":\"157077\",\"type\":\"BasicTicker\"},{\"attributes\":{},\"id\":\"157185\",\"type\":\"CategoricalTicker\"},{\"attributes\":{\"formatter\":{\"id\":\"157313\"},\"ticker\":{\"id\":\"157185\"}},\"id\":\"157184\",\"type\":\"CategoricalAxis\"},{\"attributes\":{\"source\":{\"id\":\"157094\"}},\"id\":\"157098\",\"type\":\"CDSView\"},{\"attributes\":{},\"id\":\"157191\",\"type\":\"PanTool\"},{\"attributes\":{},\"id\":\"157069\",\"type\":\"CategoricalScale\"},{\"attributes\":{\"factors\":[\"1\",\"2\",\"3\",\"4\",\"5\"]},\"id\":\"157250\",\"type\":\"FactorRange\"},{\"attributes\":{},\"id\":\"157074\",\"type\":\"CategoricalTicker\"},{\"attributes\":{\"axis\":{\"id\":\"157187\"},\"dimension\":1,\"ticker\":null},\"id\":\"157190\",\"type\":\"Grid\"},{\"attributes\":{},\"id\":\"157085\",\"type\":\"HelpTool\"},{\"attributes\":{\"data\":{\"top\":{\"__ndarray__\":\"GrsIsWCedcCHgrcEBi9PQO5zgY00YVHAmMiG+iAqZkCvIizxnaJsQA==\",\"dtype\":\"float64\",\"order\":\"little\",\"shape\":[5]},\"x\":[\"1\",\"2\",\"3\",\"4\",\"5\"]},\"selected\":{\"id\":\"157318\"},\"selection_policy\":{\"id\":\"157317\"}},\"id\":\"157205\",\"type\":\"ColumnDataSource\"},{\"attributes\":{\"fill_color\":{\"value\":\"#00AAAE\"},\"line_color\":{\"value\":\"#00AAAE\"},\"top\":{\"field\":\"top\"},\"width\":{\"value\":0.75},\"x\":{\"field\":\"x\"}},\"id\":\"157280\",\"type\":\"VBar\"},{\"attributes\":{\"below\":[{\"id\":\"157258\"}],\"center\":[{\"id\":\"157260\"},{\"id\":\"157264\"}],\"left\":[{\"id\":\"157261\"}],\"plot_height\":250,\"plot_width\":300,\"renderers\":[{\"id\":\"157282\"}],\"title\":{\"id\":\"157248\"},\"toolbar\":{\"id\":\"157272\"},\"toolbar_location\":null,\"x_range\":{\"id\":\"157250\"},\"x_scale\":{\"id\":\"157254\"},\"y_range\":{\"id\":\"157252\"},\"y_scale\":{\"id\":\"157256\"}},\"id\":\"157247\",\"subtype\":\"Figure\",\"type\":\"Plot\"},{\"attributes\":{\"factors\":[\"1\",\"2\",\"3\",\"4\",\"5\"]},\"id\":\"157213\",\"type\":\"FactorRange\"},{\"attributes\":{\"below\":[{\"id\":\"157184\"}],\"center\":[{\"id\":\"157186\"},{\"id\":\"157190\"}],\"left\":[{\"id\":\"157187\"}],\"plot_height\":250,\"plot_width\":300,\"renderers\":[{\"id\":\"157208\"}],\"title\":{\"id\":\"157174\"},\"toolbar\":{\"id\":\"157198\"},\"toolbar_location\":null,\"x_range\":{\"id\":\"157176\"},\"x_scale\":{\"id\":\"157180\"},\"y_range\":{\"id\":\"157178\"},\"y_scale\":{\"id\":\"157182\"}},\"id\":\"157173\",\"subtype\":\"Figure\",\"type\":\"Plot\"},{\"attributes\":{\"formatter\":{\"id\":\"157297\"},\"ticker\":{\"id\":\"157114\"}},\"id\":\"157113\",\"type\":\"LinearAxis\"},{\"attributes\":{},\"id\":\"157297\",\"type\":\"BasicTickFormatter\"},{\"attributes\":{},\"id\":\"157233\",\"type\":\"HelpTool\"},{\"attributes\":{\"fill_alpha\":{\"value\":0.1},\"fill_color\":{\"value\":\"#F6A91B\"},\"line_alpha\":{\"value\":0.1},\"line_color\":{\"value\":\"#F6A91B\"},\"top\":{\"field\":\"top\"},\"width\":{\"value\":0.75},\"x\":{\"field\":\"x\"}},\"id\":\"157170\",\"type\":\"VBar\"},{\"attributes\":{},\"id\":\"157309\",\"type\":\"Selection\"},{\"attributes\":{\"axis\":{\"id\":\"157147\"},\"ticker\":null},\"id\":\"157149\",\"type\":\"Grid\"},{\"attributes\":{},\"id\":\"157327\",\"type\":\"Selection\"},{\"attributes\":{\"formatter\":{\"id\":\"157322\"},\"ticker\":{\"id\":\"157222\"}},\"id\":\"157221\",\"type\":\"CategoricalAxis\"},{\"attributes\":{\"source\":{\"id\":\"157131\"}},\"id\":\"157135\",\"type\":\"CDSView\"},{\"attributes\":{\"fill_color\":{\"value\":\"#20B254\"},\"line_color\":{\"value\":\"#20B254\"},\"top\":{\"field\":\"top\"},\"width\":{\"value\":0.75},\"x\":{\"field\":\"x\"}},\"id\":\"157243\",\"type\":\"VBar\"},{\"attributes\":{},\"id\":\"157222\",\"type\":\"CategoricalTicker\"},{\"attributes\":{},\"id\":\"157331\",\"type\":\"CategoricalTickFormatter\"},{\"attributes\":{\"data\":{\"top\":{\"__ndarray__\":\"k/o0+2jmb0AIlFckQhyIwOji1h1RA09Aem+4kkJrX0BvmRqkXetvQA==\",\"dtype\":\"float64\",\"order\":\"little\",\"shape\":[5]},\"x\":[\"1\",\"2\",\"3\",\"4\",\"5\"]},\"selected\":{\"id\":\"157309\"},\"selection_policy\":{\"id\":\"157308\"}},\"id\":\"157168\",\"type\":\"ColumnDataSource\"},{\"attributes\":{},\"id\":\"157286\",\"type\":\"CategoricalTickFormatter\"},{\"attributes\":{\"fill_alpha\":{\"value\":0.1},\"fill_color\":{\"value\":\"#F05223\"},\"line_alpha\":{\"value\":0.1},\"line_color\":{\"value\":\"#F05223\"},\"top\":{\"field\":\"top\"},\"width\":{\"value\":0.75},\"x\":{\"field\":\"x\"}},\"id\":\"157133\",\"type\":\"VBar\"},{\"attributes\":{},\"id\":\"157117\",\"type\":\"PanTool\"},{\"attributes\":{\"source\":{\"id\":\"157279\"}},\"id\":\"157283\",\"type\":\"CDSView\"},{\"attributes\":{},\"id\":\"157317\",\"type\":\"UnionRenderers\"},{\"attributes\":{},\"id\":\"157266\",\"type\":\"WheelZoomTool\"},{\"attributes\":{\"fill_color\":{\"value\":\"#F05223\"},\"line_color\":{\"value\":\"#F05223\"},\"top\":{\"field\":\"top\"},\"width\":{\"value\":0.75},\"x\":{\"field\":\"x\"}},\"id\":\"157132\",\"type\":\"VBar\"},{\"attributes\":{},\"id\":\"157326\",\"type\":\"UnionRenderers\"},{\"attributes\":{\"overlay\":{\"id\":\"157271\"}},\"id\":\"157267\",\"type\":\"BoxZoomTool\"},{\"attributes\":{\"below\":[{\"id\":\"157147\"}],\"center\":[{\"id\":\"157149\"},{\"id\":\"157153\"}],\"left\":[{\"id\":\"157150\"}],\"plot_height\":250,\"plot_width\":300,\"renderers\":[{\"id\":\"157171\"}],\"title\":{\"id\":\"157137\"},\"toolbar\":{\"id\":\"157161\"},\"toolbar_location\":null,\"x_range\":{\"id\":\"157139\"},\"x_scale\":{\"id\":\"157143\"},\"y_range\":{\"id\":\"157141\"},\"y_scale\":{\"id\":\"157145\"}},\"id\":\"157136\",\"subtype\":\"Figure\",\"type\":\"Plot\"},{\"attributes\":{\"factors\":[\"1\",\"2\",\"3\",\"4\",\"5\"]},\"id\":\"157139\",\"type\":\"FactorRange\"},{\"attributes\":{},\"id\":\"157259\",\"type\":\"CategoricalTicker\"},{\"attributes\":{\"below\":[{\"id\":\"157110\"}],\"center\":[{\"id\":\"157112\"},{\"id\":\"157116\"}],\"left\":[{\"id\":\"157113\"}],\"plot_height\":250,\"plot_width\":300,\"renderers\":[{\"id\":\"157134\"}],\"title\":{\"id\":\"157100\"},\"toolbar\":{\"id\":\"157124\"},\"toolbar_location\":null,\"x_range\":{\"id\":\"157102\"},\"x_scale\":{\"id\":\"157106\"},\"y_range\":{\"id\":\"157104\"},\"y_scale\":{\"id\":\"157108\"}},\"id\":\"157099\",\"subtype\":\"Figure\",\"type\":\"Plot\"},{\"attributes\":{},\"id\":\"157308\",\"type\":\"UnionRenderers\"},{\"attributes\":{\"fill_color\":{\"value\":\"#F6A91B\"},\"line_color\":{\"value\":\"#F6A91B\"},\"top\":{\"field\":\"top\"},\"width\":{\"value\":0.75},\"x\":{\"field\":\"x\"}},\"id\":\"157169\",\"type\":\"VBar\"},{\"attributes\":{\"bottom_units\":\"screen\",\"fill_alpha\":0.5,\"fill_color\":\"lightgrey\",\"left_units\":\"screen\",\"level\":\"overlay\",\"line_alpha\":1.0,\"line_color\":\"black\",\"line_dash\":[4,4],\"line_width\":2,\"right_units\":\"screen\",\"top_units\":\"screen\"},\"id\":\"157086\",\"type\":\"BoxAnnotation\"},{\"attributes\":{},\"id\":\"157315\",\"type\":\"BasicTickFormatter\"},{\"attributes\":{},\"id\":\"157290\",\"type\":\"UnionRenderers\"},{\"attributes\":{},\"id\":\"157141\",\"type\":\"DataRange1d\"},{\"attributes\":{},\"id\":\"157111\",\"type\":\"CategoricalTicker\"},{\"attributes\":{},\"id\":\"157151\",\"type\":\"BasicTicker\"},{\"attributes\":{\"formatter\":{\"id\":\"157333\"},\"ticker\":{\"id\":\"157262\"}},\"id\":\"157261\",\"type\":\"LinearAxis\"},{\"attributes\":{},\"id\":\"157318\",\"type\":\"Selection\"},{\"attributes\":{},\"id\":\"157154\",\"type\":\"PanTool\"},{\"attributes\":{\"axis\":{\"id\":\"157258\"},\"ticker\":null},\"id\":\"157260\",\"type\":\"Grid\"},{\"attributes\":{},\"id\":\"157288\",\"type\":\"BasicTickFormatter\"},{\"attributes\":{},\"id\":\"157143\",\"type\":\"CategoricalScale\"},{\"attributes\":{},\"id\":\"157291\",\"type\":\"Selection\"},{\"attributes\":{\"text\":\"positive\"},\"id\":\"157100\",\"type\":\"Title\"},{\"attributes\":{\"children\":[[{\"id\":\"157062\"},0,0],[{\"id\":\"157099\"},0,1],[{\"id\":\"157136\"},0,2],[{\"id\":\"157173\"},1,0],[{\"id\":\"157210\"},1,1],[{\"id\":\"157247\"},1,2]]},\"id\":\"157338\",\"type\":\"GridBox\"},{\"attributes\":{},\"id\":\"157231\",\"type\":\"SaveTool\"},{\"attributes\":{},\"id\":\"157121\",\"type\":\"ResetTool\"},{\"attributes\":{},\"id\":\"157114\",\"type\":\"BasicTicker\"},{\"attributes\":{},\"id\":\"157295\",\"type\":\"CategoricalTickFormatter\"},{\"attributes\":{},\"id\":\"157225\",\"type\":\"BasicTicker\"},{\"attributes\":{\"formatter\":{\"id\":\"157306\"},\"ticker\":{\"id\":\"157151\"}},\"id\":\"157150\",\"type\":\"LinearAxis\"},{\"attributes\":{\"axis\":{\"id\":\"157110\"},\"ticker\":null},\"id\":\"157112\",\"type\":\"Grid\"},{\"attributes\":{\"source\":{\"id\":\"157168\"}},\"id\":\"157172\",\"type\":\"CDSView\"},{\"attributes\":{},\"id\":\"157324\",\"type\":\"BasicTickFormatter\"},{\"attributes\":{\"formatter\":{\"id\":\"157324\"},\"ticker\":{\"id\":\"157225\"}},\"id\":\"157224\",\"type\":\"LinearAxis\"},{\"attributes\":{},\"id\":\"157155\",\"type\":\"WheelZoomTool\"},{\"attributes\":{},\"id\":\"157313\",\"type\":\"CategoricalTickFormatter\"},{\"attributes\":{},\"id\":\"157215\",\"type\":\"DataRange1d\"},{\"attributes\":{\"data_source\":{\"id\":\"157279\"},\"glyph\":{\"id\":\"157280\"},\"hover_glyph\":null,\"muted_glyph\":null,\"nonselection_glyph\":{\"id\":\"157281\"},\"selection_glyph\":null,\"view\":{\"id\":\"157283\"}},\"id\":\"157282\",\"type\":\"GlyphRenderer\"},{\"attributes\":{\"active_drag\":\"auto\",\"active_inspect\":\"auto\",\"active_multi\":null,\"active_scroll\":\"auto\",\"active_tap\":\"auto\",\"tools\":[{\"id\":\"157228\"},{\"id\":\"157229\"},{\"id\":\"157230\"},{\"id\":\"157231\"},{\"id\":\"157232\"},{\"id\":\"157233\"}]},\"id\":\"157235\",\"type\":\"Toolbar\"},{\"attributes\":{\"data_source\":{\"id\":\"157168\"},\"glyph\":{\"id\":\"157169\"},\"hover_glyph\":null,\"muted_glyph\":null,\"nonselection_glyph\":{\"id\":\"157170\"},\"selection_glyph\":null,\"view\":{\"id\":\"157172\"}},\"id\":\"157171\",\"type\":\"GlyphRenderer\"},{\"attributes\":{\"axis\":{\"id\":\"157261\"},\"dimension\":1,\"ticker\":null},\"id\":\"157264\",\"type\":\"Grid\"},{\"attributes\":{},\"id\":\"157120\",\"type\":\"SaveTool\"},{\"attributes\":{},\"id\":\"157268\",\"type\":\"SaveTool\"},{\"attributes\":{},\"id\":\"157104\",\"type\":\"DataRange1d\"},{\"attributes\":{\"axis\":{\"id\":\"157224\"},\"dimension\":1,\"ticker\":null},\"id\":\"157227\",\"type\":\"Grid\"},{\"attributes\":{},\"id\":\"157256\",\"type\":\"LinearScale\"},{\"attributes\":{},\"id\":\"157299\",\"type\":\"UnionRenderers\"},{\"attributes\":{\"axis\":{\"id\":\"157150\"},\"dimension\":1,\"ticker\":null},\"id\":\"157153\",\"type\":\"Grid\"},{\"attributes\":{},\"id\":\"157322\",\"type\":\"CategoricalTickFormatter\"},{\"attributes\":{},\"id\":\"157304\",\"type\":\"CategoricalTickFormatter\"},{\"attributes\":{},\"id\":\"157232\",\"type\":\"ResetTool\"},{\"attributes\":{},\"id\":\"157148\",\"type\":\"CategoricalTicker\"},{\"attributes\":{},\"id\":\"157262\",\"type\":\"BasicTicker\"},{\"attributes\":{},\"id\":\"157157\",\"type\":\"SaveTool\"},{\"attributes\":{\"overlay\":{\"id\":\"157234\"}},\"id\":\"157230\",\"type\":\"BoxZoomTool\"},{\"attributes\":{},\"id\":\"157336\",\"type\":\"Selection\"},{\"attributes\":{},\"id\":\"157122\",\"type\":\"HelpTool\"},{\"attributes\":{\"factors\":[\"1\",\"2\",\"3\",\"4\",\"5\"]},\"id\":\"157102\",\"type\":\"FactorRange\"},{\"attributes\":{},\"id\":\"157106\",\"type\":\"CategoricalScale\"},{\"attributes\":{\"data_source\":{\"id\":\"157131\"},\"glyph\":{\"id\":\"157132\"},\"hover_glyph\":null,\"muted_glyph\":null,\"nonselection_glyph\":{\"id\":\"157133\"},\"selection_glyph\":null,\"view\":{\"id\":\"157135\"}},\"id\":\"157134\",\"type\":\"GlyphRenderer\"},{\"attributes\":{},\"id\":\"157229\",\"type\":\"WheelZoomTool\"},{\"attributes\":{},\"id\":\"157269\",\"type\":\"ResetTool\"},{\"attributes\":{\"active_drag\":\"auto\",\"active_inspect\":\"auto\",\"active_multi\":null,\"active_scroll\":\"auto\",\"active_tap\":\"auto\",\"tools\":[{\"id\":\"157265\"},{\"id\":\"157266\"},{\"id\":\"157267\"},{\"id\":\"157268\"},{\"id\":\"157269\"},{\"id\":\"157270\"}]},\"id\":\"157272\",\"type\":\"Toolbar\"},{\"attributes\":{\"formatter\":{\"id\":\"157295\"},\"ticker\":{\"id\":\"157111\"}},\"id\":\"157110\",\"type\":\"CategoricalAxis\"},{\"attributes\":{},\"id\":\"157333\",\"type\":\"BasicTickFormatter\"},{\"attributes\":{\"data\":{\"top\":{\"__ndarray__\":\"VHEWruMAd8Cvb7MCVOBRwEMG4KgLqkhAJGWxJ+06cMATOFQWV0iEQA==\",\"dtype\":\"float64\",\"order\":\"little\",\"shape\":[5]},\"x\":[\"1\",\"2\",\"3\",\"4\",\"5\"]},\"selected\":{\"id\":\"157336\"},\"selection_policy\":{\"id\":\"157335\"}},\"id\":\"157279\",\"type\":\"ColumnDataSource\"},{\"attributes\":{\"text\":\"uncertainty\"},\"id\":\"157137\",\"type\":\"Title\"},{\"attributes\":{\"bottom_units\":\"screen\",\"fill_alpha\":0.5,\"fill_color\":\"lightgrey\",\"left_units\":\"screen\",\"level\":\"overlay\",\"line_alpha\":1.0,\"line_color\":\"black\",\"line_dash\":[4,4],\"line_width\":2,\"right_units\":\"screen\",\"top_units\":\"screen\"},\"id\":\"157123\",\"type\":\"BoxAnnotation\"},{\"attributes\":{},\"id\":\"157306\",\"type\":\"BasicTickFormatter\"},{\"attributes\":{\"active_drag\":\"auto\",\"active_inspect\":\"auto\",\"active_multi\":null,\"active_scroll\":\"auto\",\"active_tap\":\"auto\",\"tools\":[{\"id\":\"157117\"},{\"id\":\"157118\"},{\"id\":\"157119\"},{\"id\":\"157120\"},{\"id\":\"157121\"},{\"id\":\"157122\"}]},\"id\":\"157124\",\"type\":\"Toolbar\"},{\"attributes\":{\"formatter\":{\"id\":\"157304\"},\"ticker\":{\"id\":\"157148\"}},\"id\":\"157147\",\"type\":\"CategoricalAxis\"},{\"attributes\":{\"formatter\":{\"id\":\"157331\"},\"ticker\":{\"id\":\"157259\"}},\"id\":\"157258\",\"type\":\"CategoricalAxis\"},{\"attributes\":{\"toolbar\":{\"id\":\"157339\"},\"toolbar_location\":\"above\"},\"id\":\"157340\",\"type\":\"ToolbarBox\"},{\"attributes\":{},\"id\":\"157145\",\"type\":\"LinearScale\"},{\"attributes\":{\"fill_alpha\":{\"value\":0.1},\"fill_color\":{\"value\":\"#00AAAE\"},\"line_alpha\":{\"value\":0.1},\"line_color\":{\"value\":\"#00AAAE\"},\"top\":{\"field\":\"top\"},\"width\":{\"value\":0.75},\"x\":{\"field\":\"x\"}},\"id\":\"157281\",\"type\":\"VBar\"},{\"attributes\":{},\"id\":\"157270\",\"type\":\"HelpTool\"},{\"attributes\":{},\"id\":\"157108\",\"type\":\"LinearScale\"},{\"attributes\":{\"axis\":{\"id\":\"157221\"},\"ticker\":null},\"id\":\"157223\",\"type\":\"Grid\"},{\"attributes\":{},\"id\":\"157158\",\"type\":\"ResetTool\"},{\"attributes\":{\"bottom_units\":\"screen\",\"fill_alpha\":0.5,\"fill_color\":\"lightgrey\",\"left_units\":\"screen\",\"level\":\"overlay\",\"line_alpha\":1.0,\"line_color\":\"black\",\"line_dash\":[4,4],\"line_width\":2,\"right_units\":\"screen\",\"top_units\":\"screen\"},\"id\":\"157271\",\"type\":\"BoxAnnotation\"},{\"attributes\":{},\"id\":\"157335\",\"type\":\"UnionRenderers\"},{\"attributes\":{},\"id\":\"157265\",\"type\":\"PanTool\"}],\"root_ids\":[\"157341\"]},\"title\":\"Bokeh Application\",\"version\":\"2.2.3\"}};\n",
       "  var render_items = [{\"docid\":\"cd95fe7f-cd30-44e3-83a6-d86041382fb3\",\"root_ids\":[\"157341\"],\"roots\":{\"157341\":\"a49c732a-5a0f-4b66-9391-583d757eb051\"}}];\n",
       "  root.Bokeh.embed.embed_items_notebook(docs_json, render_items);\n",
       "\n",
       "  }\n",
       "  if (root.Bokeh !== undefined) {\n",
       "    embed_document(root);\n",
       "  } else {\n",
       "    var attempts = 0;\n",
       "    var timer = setInterval(function(root) {\n",
       "      if (root.Bokeh !== undefined) {\n",
       "        clearInterval(timer);\n",
       "        embed_document(root);\n",
       "      } else {\n",
       "        attempts++;\n",
       "        if (attempts > 100) {\n",
       "          clearInterval(timer);\n",
       "          console.log(\"Bokeh: ERROR: Unable to run BokehJS code because BokehJS library is missing\");\n",
       "        }\n",
       "      }\n",
       "    }, 10, root)\n",
       "  }\n",
       "})(window);"
      ],
      "application/vnd.bokehjs_exec.v0+json": ""
     },
     "metadata": {
      "application/vnd.bokehjs_exec.v0+json": {
       "id": "157341"
      }
     },
     "output_type": "display_data"
    }
   ],
   "source": [
    "vbars = {sentiment: None for sentiment in sentiments}\n",
    "x = [str(q) for q in qr_factor_returns_df.index]\n",
    "for n, sentiment in enumerate(sentiments):\n",
    "    vbars[sentiment] = figure(x_range=x, title=sentiment)\n",
    "    vbars[sentiment].vbar(\n",
    "        x=x,\n",
    "        top=qr_factor_returns_df[sentiment],\n",
    "        color=palette[6][n],   \n",
    "        width=.75,\n",
    "    \n",
    "    )\n",
    "    \n",
    "grid = gridplot(\n",
    "    [\n",
    "        [\n",
    "            vbars['negative'],vbars['positive'],vbars['uncertainty']\n",
    "        ],\n",
    "        [\n",
    "            vbars['litigious'],vbars['constraining'],vbars['interesting']\n",
    "        ]\n",
    "    ],\n",
    "    plot_width=300,\n",
    "    plot_height=250\n",
    ")\n",
    "\n",
    "show(grid)\n",
    "# export_png(grid, filename='quantiles.png')"
   ]
  },
  {
   "cell_type": "markdown",
   "metadata": {},
   "source": [
    "![img](img/grid/bokeh_plot.png)"
   ]
  },
  {
   "cell_type": "markdown",
   "metadata": {},
   "source": [
    "![img](img/grid/bokeh_plot1.png)"
   ]
  },
  {
   "cell_type": "markdown",
   "metadata": {},
   "source": [
    "![](img/grid/bokeh_plot2.png)"
   ]
  },
  {
   "cell_type": "markdown",
   "metadata": {},
   "source": [
    "![](img/grid/bokeh_plot3.png)"
   ]
  },
  {
   "cell_type": "markdown",
   "metadata": {},
   "source": [
    "![](img/grid/bokeh_plot4.png)"
   ]
  },
  {
   "cell_type": "markdown",
   "metadata": {},
   "source": [
    "![](img/grid/bokeh_plot5.png)"
   ]
  },
  {
   "cell_type": "markdown",
   "metadata": {},
   "source": [
    "[&#9650;back to top](#NLP-Financial-Statements)\n",
    "\n",
    "---"
   ]
  },
  {
   "cell_type": "markdown",
   "metadata": {},
   "source": [
    "### Turnover Analysis"
   ]
  },
  {
   "cell_type": "code",
   "execution_count": 136,
   "metadata": {},
   "outputs": [],
   "source": [
    "ls_FRA = pd.DataFrame()\n",
    "\n",
    "for factor, data in unixt_factor_data.items():\n",
    "    ls_FRA[factor] = al.performance.factor_rank_autocorrelation(data)"
   ]
  },
  {
   "cell_type": "code",
   "execution_count": 139,
   "metadata": {},
   "outputs": [
    {
     "data": {
      "text/html": [
       "\n",
       "\n",
       "\n",
       "\n",
       "\n",
       "\n",
       "  <div class=\"bk-root\" id=\"d9949f96-acec-4f78-a368-6fce10e6adba\" data-root-id=\"145540\"></div>\n"
      ]
     },
     "metadata": {},
     "output_type": "display_data"
    },
    {
     "data": {
      "application/javascript": [
       "(function(root) {\n",
       "  function embed_document(root) {\n",
       "    \n",
       "  var docs_json = {\"05e2844f-cf15-4187-bd1e-ad0fb5b60e49\":{\"roots\":{\"references\":[{\"attributes\":{\"below\":[{\"id\":\"145551\"}],\"center\":[{\"id\":\"145554\"},{\"id\":\"145558\"},{\"id\":\"145598\"}],\"left\":[{\"id\":\"145555\"}],\"plot_height\":200,\"plot_width\":1000,\"renderers\":[{\"id\":\"145576\"},{\"id\":\"145603\"},{\"id\":\"145631\"},{\"id\":\"145661\"},{\"id\":\"145693\"},{\"id\":\"145727\"}],\"title\":{\"id\":\"145541\"},\"toolbar\":{\"id\":\"145566\"},\"x_range\":{\"id\":\"145543\"},\"x_scale\":{\"id\":\"145547\"},\"y_range\":{\"id\":\"145545\"},\"y_scale\":{\"id\":\"145549\"}},\"id\":\"145540\",\"subtype\":\"Figure\",\"type\":\"Plot\"},{\"attributes\":{\"data_source\":{\"id\":\"145724\"},\"glyph\":{\"id\":\"145725\"},\"hover_glyph\":null,\"muted_glyph\":null,\"nonselection_glyph\":{\"id\":\"145726\"},\"selection_glyph\":null,\"view\":{\"id\":\"145728\"}},\"id\":\"145727\",\"type\":\"GlyphRenderer\"},{\"attributes\":{\"line_alpha\":0.1,\"line_color\":\"#20B254\",\"line_width\":2,\"x\":{\"field\":\"x\"},\"y\":{\"field\":\"y\"}},\"id\":\"145692\",\"type\":\"Line\"},{\"attributes\":{\"base\":24,\"mantissas\":[1,2,4,6,8,12],\"max_interval\":43200000.0,\"min_interval\":3600000.0,\"num_minor_ticks\":0},\"id\":\"145586\",\"type\":\"AdaptiveTicker\"},{\"attributes\":{},\"id\":\"145655\",\"type\":\"UnionRenderers\"},{\"attributes\":{\"label\":{\"value\":\"litigious\"},\"renderers\":[{\"id\":\"145661\"}]},\"id\":\"145689\",\"type\":\"LegendItem\"},{\"attributes\":{},\"id\":\"145582\",\"type\":\"BasicTickFormatter\"},{\"attributes\":{\"label\":{\"value\":\"negative\"},\"renderers\":[{\"id\":\"145576\"}]},\"id\":\"145599\",\"type\":\"LegendItem\"},{\"attributes\":{\"data\":{\"x\":{\"__ndarray__\":\"AAAAwKE2zEEAAABA5CfNQQAAAAB+GM5BAAAAwBcJz0EAAACAsfnPQQAAAAB6ddBBAAAA4Mbt0EEAAADAE2bRQQAAAKBg3tFBAAAA4AFX0kEAAADATs/SQQAAAKCbR9NBAAAAgOi/00EAAADAiTjUQQAAAKDWsNRBAAAAgCMp1UEAAABgcKHVQQAAAKARGtZBAAAAgF6S1kEAAABgqwrXQQAAAED4gtdB\",\"dtype\":\"float64\",\"order\":\"little\",\"shape\":[21]},\"y\":{\"__ndarray__\":\"AAAAAAAA+H+Q6PO9uVLSv+4RjSSsJeA/XAEDbX7h2z+F5+1hSHjeP0aVlUxmVNk/hJclNkF42T/iD5OKH/7gP9mvIIC33dA/fdpWD7Kn3T/tUO140Q7VP6OY7aouitk/663DcKDe2j/jiWV7MCa8PyLdsqq3SMM/MSwU/vP02j+nUX5VlmvgP5XDLP4az9Q/zqkYmmHy3T/5kvkEeC/ZP+ByrTUKXew/\",\"dtype\":\"float64\",\"order\":\"little\",\"shape\":[21]}},\"selected\":{\"id\":\"145656\"},\"selection_policy\":{\"id\":\"145655\"}},\"id\":\"145628\",\"type\":\"ColumnDataSource\"},{\"attributes\":{\"source\":{\"id\":\"145600\"}},\"id\":\"145604\",\"type\":\"CDSView\"},{\"attributes\":{\"source\":{\"id\":\"145628\"}},\"id\":\"145632\",\"type\":\"CDSView\"},{\"attributes\":{\"source\":{\"id\":\"145724\"}},\"id\":\"145728\",\"type\":\"CDSView\"},{\"attributes\":{\"mantissas\":[1,2,5],\"max_interval\":500.0,\"num_minor_ticks\":0},\"id\":\"145584\",\"type\":\"AdaptiveTicker\"},{\"attributes\":{},\"id\":\"145722\",\"type\":\"Selection\"},{\"attributes\":{},\"id\":\"145656\",\"type\":\"Selection\"},{\"attributes\":{},\"id\":\"145545\",\"type\":\"DataRange1d\"},{\"attributes\":{\"line_color\":\"#F05223\",\"line_width\":2,\"x\":{\"field\":\"x\"},\"y\":{\"field\":\"y\"}},\"id\":\"145601\",\"type\":\"Line\"},{\"attributes\":{},\"id\":\"145721\",\"type\":\"UnionRenderers\"},{\"attributes\":{\"data\":{\"x\":{\"__ndarray__\":\"AAAAwKE2zEEAAABA5CfNQQAAAAB+GM5BAAAAwBcJz0EAAACAsfnPQQAAAAB6ddBBAAAA4Mbt0EEAAADAE2bRQQAAAKBg3tFBAAAA4AFX0kEAAADATs/SQQAAAKCbR9NBAAAAgOi/00EAAADAiTjUQQAAAKDWsNRBAAAAgCMp1UEAAABgcKHVQQAAAKARGtZBAAAAgF6S1kEAAABgqwrXQQAAAED4gtdB\",\"dtype\":\"float64\",\"order\":\"little\",\"shape\":[21]},\"y\":{\"__ndarray__\":\"AAAAAAAA+H9m69vLKPzoP7dNao1imuc/5UJp/Kkcuz/NQgmY/7TYPzdpBOC3RtU/NOQtUE222T/gDwePAVTmPyGD4NF/7N4/2hKlmaEt0T/vFcua7l7hPwxSte2+INU/XeLU77kl3j/op1CUL3rWPwc6BLR+8d4/LiX1yLS24j8+pzubMBbhPz/1746wAuQ/zx/wTqe/5j8pG294ebLhP/7//////+8/\",\"dtype\":\"float64\",\"order\":\"little\",\"shape\":[21]}},\"selected\":{\"id\":\"145688\"},\"selection_policy\":{\"id\":\"145687\"}},\"id\":\"145658\",\"type\":\"ColumnDataSource\"},{\"attributes\":{\"label\":{\"value\":\"interesting\"},\"renderers\":[{\"id\":\"145727\"}]},\"id\":\"145759\",\"type\":\"LegendItem\"},{\"attributes\":{\"line_color\":\"#F6A91B\",\"line_width\":2,\"x\":{\"field\":\"x\"},\"y\":{\"field\":\"y\"}},\"id\":\"145629\",\"type\":\"Line\"},{\"attributes\":{\"data\":{\"x\":{\"__ndarray__\":\"AAAAwKE2zEEAAABA5CfNQQAAAAB+GM5BAAAAwBcJz0EAAACAsfnPQQAAAAB6ddBBAAAA4Mbt0EEAAADAE2bRQQAAAKBg3tFBAAAA4AFX0kEAAADATs/SQQAAAKCbR9NBAAAAgOi/00EAAADAiTjUQQAAAKDWsNRBAAAAgCMp1UEAAABgcKHVQQAAAKARGtZBAAAAgF6S1kEAAABgqwrXQQAAAED4gtdB\",\"dtype\":\"float64\",\"order\":\"little\",\"shape\":[21]},\"y\":{\"__ndarray__\":\"AAAAAAAA+H81i0Y7/YupPzYka/4M2Ns/NggPV03g1T+z7pRoqEveP6wZaNZZyJK/uG7ct27c1z+hsNiCSkbSPzfM4a8eYds/NhHINRHI1T8wxCSlS0vQP6YcNTQ5y7I/3QBYCyPn0z8vE5dFi2XJP1leFelkSNY/ItSLLxTN3j/KTb3+ntzUP8ENF5MP3OA/jMa/vI0S2T8sOV0AwZLTPwAAAAAAAPh/\",\"dtype\":\"float64\",\"order\":\"little\",\"shape\":[21]}},\"selected\":{\"id\":\"145722\"},\"selection_policy\":{\"id\":\"145721\"}},\"id\":\"145690\",\"type\":\"ColumnDataSource\"},{\"attributes\":{},\"id\":\"145543\",\"type\":\"DataRange1d\"},{\"attributes\":{\"text\":\"Factor Rank Autocorrelation\"},\"id\":\"145541\",\"type\":\"Title\"},{\"attributes\":{\"formatter\":{\"id\":\"145582\"},\"ticker\":{\"id\":\"145556\"}},\"id\":\"145555\",\"type\":\"LinearAxis\"},{\"attributes\":{\"label\":{\"value\":\"positive\"},\"renderers\":[{\"id\":\"145603\"}]},\"id\":\"145627\",\"type\":\"LegendItem\"},{\"attributes\":{},\"id\":\"145757\",\"type\":\"UnionRenderers\"},{\"attributes\":{\"data_source\":{\"id\":\"145628\"},\"glyph\":{\"id\":\"145629\"},\"hover_glyph\":null,\"muted_glyph\":null,\"nonselection_glyph\":{\"id\":\"145630\"},\"selection_glyph\":null,\"view\":{\"id\":\"145632\"}},\"id\":\"145631\",\"type\":\"GlyphRenderer\"},{\"attributes\":{\"data\":{\"x\":{\"__ndarray__\":\"AAAAwKE2zEEAAABA5CfNQQAAAAB+GM5BAAAAwBcJz0EAAACAsfnPQQAAAAB6ddBBAAAA4Mbt0EEAAADAE2bRQQAAAKBg3tFBAAAA4AFX0kEAAADATs/SQQAAAKCbR9NBAAAAgOi/00EAAADAiTjUQQAAAKDWsNRBAAAAgCMp1UEAAABgcKHVQQAAAKARGtZBAAAAgF6S1kEAAABgqwrXQQAAAED4gtdB\",\"dtype\":\"float64\",\"order\":\"little\",\"shape\":[21]},\"y\":{\"__ndarray__\":\"AAAAAAAA+H+cc/wlaAGkPzeisJpADOY/ZyTzX5S06j8B8/ixbVnbP8woYjy66tE/r05dj/bq1D/c9e1rwV3fPzJesoiKEeM/H5spH3+A2T/hqXaHvqLjP5/pY6rOmd4/KIc8NGxy2D+8T9jy4VblP13cetnoSOE/3j0cyojw2D8K3YvQvQjdPynr8BQ2xeM/ZMD5nHMG3D8jxfP4FVLcP7oTWygp7+w/\",\"dtype\":\"float64\",\"order\":\"little\",\"shape\":[21]}},\"selected\":{\"id\":\"145597\"},\"selection_policy\":{\"id\":\"145596\"}},\"id\":\"145573\",\"type\":\"ColumnDataSource\"},{\"attributes\":{\"days\":[1,2,3,4,5,6,7,8,9,10,11,12,13,14,15,16,17,18,19,20,21,22,23,24,25,26,27,28,29,30,31]},\"id\":\"145587\",\"type\":\"DaysTicker\"},{\"attributes\":{},\"id\":\"145580\",\"type\":\"DatetimeTickFormatter\"},{\"attributes\":{\"line_color\":\"#EC1557\",\"line_width\":2,\"x\":{\"field\":\"x\"},\"y\":{\"field\":\"y\"}},\"id\":\"145574\",\"type\":\"Line\"},{\"attributes\":{},\"id\":\"145758\",\"type\":\"Selection\"},{\"attributes\":{\"data\":{\"x\":{\"__ndarray__\":\"AAAAwKE2zEEAAABA5CfNQQAAAAB+GM5BAAAAwBcJz0EAAACAsfnPQQAAAAB6ddBBAAAA4Mbt0EEAAADAE2bRQQAAAKBg3tFBAAAA4AFX0kEAAADATs/SQQAAAKCbR9NBAAAAgOi/00EAAADAiTjUQQAAAKDWsNRBAAAAgCMp1UEAAABgcKHVQQAAAKARGtZBAAAAgF6S1kEAAABgqwrXQQAAAED4gtdB\",\"dtype\":\"float64\",\"order\":\"little\",\"shape\":[21]},\"y\":{\"__ndarray__\":\"AAAAAAAA+H/fOGBi+/PvP+6R1Tnxv+g/uyUztn4v4z/NVTLcPr7hPxDYyj9vjts/IUWOIEWO4D+AIAWsnmHjP4aKejD8XuA/lLgBlLgBxD9AxknIo1rhP/dsg28w4dY/pjo2SZ370j9bbKP31eHcP7ckCG8z3M4/VRbA2zfCsj/gSrVoAq7UP8pNvf6e3NQ/vxyjVWykxD8/WF3r8YPVPwAAAAAAAPh/\",\"dtype\":\"float64\",\"order\":\"little\",\"shape\":[21]}},\"selected\":{\"id\":\"145758\"},\"selection_policy\":{\"id\":\"145757\"}},\"id\":\"145724\",\"type\":\"ColumnDataSource\"},{\"attributes\":{},\"id\":\"145625\",\"type\":\"UnionRenderers\"},{\"attributes\":{},\"id\":\"145688\",\"type\":\"Selection\"},{\"attributes\":{\"line_alpha\":0.1,\"line_color\":\"#00AAAE\",\"line_width\":2,\"x\":{\"field\":\"x\"},\"y\":{\"field\":\"y\"}},\"id\":\"145726\",\"type\":\"Line\"},{\"attributes\":{\"base\":60,\"mantissas\":[1,2,5,10,15,20,30],\"max_interval\":1800000.0,\"min_interval\":1000.0,\"num_minor_ticks\":0},\"id\":\"145585\",\"type\":\"AdaptiveTicker\"},{\"attributes\":{\"label\":{\"value\":\"constraining\"},\"renderers\":[{\"id\":\"145693\"}]},\"id\":\"145723\",\"type\":\"LegendItem\"},{\"attributes\":{},\"id\":\"145626\",\"type\":\"Selection\"},{\"attributes\":{\"line_alpha\":0.1,\"line_color\":\"#F6A91B\",\"line_width\":2,\"x\":{\"field\":\"x\"},\"y\":{\"field\":\"y\"}},\"id\":\"145630\",\"type\":\"Line\"},{\"attributes\":{\"line_color\":\"#A5CD39\",\"line_width\":2,\"x\":{\"field\":\"x\"},\"y\":{\"field\":\"y\"}},\"id\":\"145659\",\"type\":\"Line\"},{\"attributes\":{\"data_source\":{\"id\":\"145658\"},\"glyph\":{\"id\":\"145659\"},\"hover_glyph\":null,\"muted_glyph\":null,\"nonselection_glyph\":{\"id\":\"145660\"},\"selection_glyph\":null,\"view\":{\"id\":\"145662\"}},\"id\":\"145661\",\"type\":\"GlyphRenderer\"},{\"attributes\":{\"line_color\":\"#20B254\",\"line_width\":2,\"x\":{\"field\":\"x\"},\"y\":{\"field\":\"y\"}},\"id\":\"145691\",\"type\":\"Line\"},{\"attributes\":{\"source\":{\"id\":\"145690\"}},\"id\":\"145694\",\"type\":\"CDSView\"},{\"attributes\":{},\"id\":\"145549\",\"type\":\"LinearScale\"},{\"attributes\":{\"label\":{\"value\":\"uncertainty\"},\"renderers\":[{\"id\":\"145631\"}]},\"id\":\"145657\",\"type\":\"LegendItem\"},{\"attributes\":{\"line_alpha\":0.1,\"line_color\":\"#F05223\",\"line_width\":2,\"x\":{\"field\":\"x\"},\"y\":{\"field\":\"y\"}},\"id\":\"145602\",\"type\":\"Line\"},{\"attributes\":{},\"id\":\"145547\",\"type\":\"LinearScale\"},{\"attributes\":{\"source\":{\"id\":\"145658\"}},\"id\":\"145662\",\"type\":\"CDSView\"},{\"attributes\":{\"data_source\":{\"id\":\"145690\"},\"glyph\":{\"id\":\"145691\"},\"hover_glyph\":null,\"muted_glyph\":null,\"nonselection_glyph\":{\"id\":\"145692\"},\"selection_glyph\":null,\"view\":{\"id\":\"145694\"}},\"id\":\"145693\",\"type\":\"GlyphRenderer\"},{\"attributes\":{\"line_alpha\":0.1,\"line_color\":\"#A5CD39\",\"line_width\":2,\"x\":{\"field\":\"x\"},\"y\":{\"field\":\"y\"}},\"id\":\"145660\",\"type\":\"Line\"},{\"attributes\":{\"data_source\":{\"id\":\"145600\"},\"glyph\":{\"id\":\"145601\"},\"hover_glyph\":null,\"muted_glyph\":null,\"nonselection_glyph\":{\"id\":\"145602\"},\"selection_glyph\":null,\"view\":{\"id\":\"145604\"}},\"id\":\"145603\",\"type\":\"GlyphRenderer\"},{\"attributes\":{\"months\":[0,6]},\"id\":\"145594\",\"type\":\"MonthsTicker\"},{\"attributes\":{\"axis\":{\"id\":\"145551\"},\"ticker\":null},\"id\":\"145554\",\"type\":\"Grid\"},{\"attributes\":{\"days\":[1,4,7,10,13,16,19,22,25,28]},\"id\":\"145588\",\"type\":\"DaysTicker\"},{\"attributes\":{},\"id\":\"145564\",\"type\":\"HelpTool\"},{\"attributes\":{\"source\":{\"id\":\"145573\"}},\"id\":\"145577\",\"type\":\"CDSView\"},{\"attributes\":{},\"id\":\"145595\",\"type\":\"YearsTicker\"},{\"attributes\":{},\"id\":\"145563\",\"type\":\"ResetTool\"},{\"attributes\":{\"items\":[{\"id\":\"145599\"},{\"id\":\"145627\"},{\"id\":\"145657\"},{\"id\":\"145689\"},{\"id\":\"145723\"},{\"id\":\"145759\"}],\"label_text_font_size\":\"8pt\",\"location\":\"top_left\",\"spacing\":1},\"id\":\"145598\",\"type\":\"Legend\"},{\"attributes\":{},\"id\":\"145556\",\"type\":\"BasicTicker\"},{\"attributes\":{\"axis\":{\"id\":\"145555\"},\"dimension\":1,\"ticker\":null},\"id\":\"145558\",\"type\":\"Grid\"},{\"attributes\":{},\"id\":\"145596\",\"type\":\"UnionRenderers\"},{\"attributes\":{\"desired_num_ticks\":21,\"num_minor_ticks\":5,\"tickers\":[{\"id\":\"145584\"},{\"id\":\"145585\"},{\"id\":\"145586\"},{\"id\":\"145587\"},{\"id\":\"145588\"},{\"id\":\"145589\"},{\"id\":\"145590\"},{\"id\":\"145591\"},{\"id\":\"145592\"},{\"id\":\"145593\"},{\"id\":\"145594\"},{\"id\":\"145595\"}]},\"id\":\"145552\",\"type\":\"DatetimeTicker\"},{\"attributes\":{\"line_color\":\"#00AAAE\",\"line_width\":2,\"x\":{\"field\":\"x\"},\"y\":{\"field\":\"y\"}},\"id\":\"145725\",\"type\":\"Line\"},{\"attributes\":{\"overlay\":{\"id\":\"145565\"}},\"id\":\"145561\",\"type\":\"BoxZoomTool\"},{\"attributes\":{},\"id\":\"145562\",\"type\":\"SaveTool\"},{\"attributes\":{},\"id\":\"145687\",\"type\":\"UnionRenderers\"},{\"attributes\":{\"months\":[0,1,2,3,4,5,6,7,8,9,10,11]},\"id\":\"145591\",\"type\":\"MonthsTicker\"},{\"attributes\":{\"months\":[0,4,8]},\"id\":\"145593\",\"type\":\"MonthsTicker\"},{\"attributes\":{\"data_source\":{\"id\":\"145573\"},\"glyph\":{\"id\":\"145574\"},\"hover_glyph\":null,\"muted_glyph\":null,\"nonselection_glyph\":{\"id\":\"145575\"},\"selection_glyph\":null,\"view\":{\"id\":\"145577\"}},\"id\":\"145576\",\"type\":\"GlyphRenderer\"},{\"attributes\":{},\"id\":\"145559\",\"type\":\"PanTool\"},{\"attributes\":{\"active_drag\":\"auto\",\"active_inspect\":\"auto\",\"active_multi\":null,\"active_scroll\":\"auto\",\"active_tap\":\"auto\",\"tools\":[{\"id\":\"145559\"},{\"id\":\"145560\"},{\"id\":\"145561\"},{\"id\":\"145562\"},{\"id\":\"145563\"},{\"id\":\"145564\"}]},\"id\":\"145566\",\"type\":\"Toolbar\"},{\"attributes\":{\"data\":{\"x\":{\"__ndarray__\":\"AAAAwKE2zEEAAABA5CfNQQAAAAB+GM5BAAAAwBcJz0EAAACAsfnPQQAAAAB6ddBBAAAA4Mbt0EEAAADAE2bRQQAAAKBg3tFBAAAA4AFX0kEAAADATs/SQQAAAKCbR9NBAAAAgOi/00EAAADAiTjUQQAAAKDWsNRBAAAAgCMp1UEAAABgcKHVQQAAAKARGtZBAAAAgF6S1kEAAABgqwrXQQAAAED4gtdB\",\"dtype\":\"float64\",\"order\":\"little\",\"shape\":[21]},\"y\":{\"__ndarray__\":\"AAAAAAAA+H8AsHgH2ujuP6IMCmrfQ+o/DcP1xgR04D8fyMQMtY7gPwhXLwKGcNU/khJzPCYp4T8lIk+tVyLiP8BmmSd5mOk/q233Bana5j8C4EZr4QHnP2kz2D+ENuM/IjHBtAgS4z8gUAv7AD/lP2BHMScoruM/oc6x/VeM4z8SW2zYO+nkP+GS7/JHG+Q/Yh+GEaQY5T+8A5rjsjvgP1/H1jk7O+s/\",\"dtype\":\"float64\",\"order\":\"little\",\"shape\":[21]}},\"selected\":{\"id\":\"145626\"},\"selection_policy\":{\"id\":\"145625\"}},\"id\":\"145600\",\"type\":\"ColumnDataSource\"},{\"attributes\":{\"formatter\":{\"id\":\"145580\"},\"ticker\":{\"id\":\"145552\"}},\"id\":\"145551\",\"type\":\"DatetimeAxis\"},{\"attributes\":{\"line_alpha\":0.1,\"line_color\":\"#EC1557\",\"line_width\":2,\"x\":{\"field\":\"x\"},\"y\":{\"field\":\"y\"}},\"id\":\"145575\",\"type\":\"Line\"},{\"attributes\":{},\"id\":\"145560\",\"type\":\"WheelZoomTool\"},{\"attributes\":{\"days\":[1,8,15,22]},\"id\":\"145589\",\"type\":\"DaysTicker\"},{\"attributes\":{\"bottom_units\":\"screen\",\"fill_alpha\":0.5,\"fill_color\":\"lightgrey\",\"left_units\":\"screen\",\"level\":\"overlay\",\"line_alpha\":1.0,\"line_color\":\"black\",\"line_dash\":[4,4],\"line_width\":2,\"right_units\":\"screen\",\"top_units\":\"screen\"},\"id\":\"145565\",\"type\":\"BoxAnnotation\"},{\"attributes\":{},\"id\":\"145597\",\"type\":\"Selection\"},{\"attributes\":{\"days\":[1,15]},\"id\":\"145590\",\"type\":\"DaysTicker\"},{\"attributes\":{\"months\":[0,2,4,6,8,10]},\"id\":\"145592\",\"type\":\"MonthsTicker\"}],\"root_ids\":[\"145540\"]},\"title\":\"Bokeh Application\",\"version\":\"2.2.3\"}};\n",
       "  var render_items = [{\"docid\":\"05e2844f-cf15-4187-bd1e-ad0fb5b60e49\",\"root_ids\":[\"145540\"],\"roots\":{\"145540\":\"d9949f96-acec-4f78-a368-6fce10e6adba\"}}];\n",
       "  root.Bokeh.embed.embed_items_notebook(docs_json, render_items);\n",
       "\n",
       "  }\n",
       "  if (root.Bokeh !== undefined) {\n",
       "    embed_document(root);\n",
       "  } else {\n",
       "    var attempts = 0;\n",
       "    var timer = setInterval(function(root) {\n",
       "      if (root.Bokeh !== undefined) {\n",
       "        clearInterval(timer);\n",
       "        embed_document(root);\n",
       "      } else {\n",
       "        attempts++;\n",
       "        if (attempts > 100) {\n",
       "          clearInterval(timer);\n",
       "          console.log(\"Bokeh: ERROR: Unable to run BokehJS code because BokehJS library is missing\");\n",
       "        }\n",
       "      }\n",
       "    }, 10, root)\n",
       "  }\n",
       "})(window);"
      ],
      "application/vnd.bokehjs_exec.v0+json": ""
     },
     "metadata": {
      "application/vnd.bokehjs_exec.v0+json": {
       "id": "145540"
      }
     },
     "output_type": "display_data"
    }
   ],
   "source": [
    "p = figure(\n",
    "    x_axis_type='datetime',\n",
    "    plot_width=1000,\n",
    "    plot_height=200,\n",
    "    title='Factor Rank Autocorrelation'\n",
    ")\n",
    "for n, ticker in enumerate(ls_FRA.columns):\n",
    "    p.line(\n",
    "        ls_FRA.index,\n",
    "        ls_FRA[ticker],\n",
    "        color=palette[6][n],\n",
    "        legend_label=ticker,\n",
    "        line_width=2\n",
    "    )\n",
    "p.xaxis.ticker.desired_num_ticks = len(ls_FRA.index)\n",
    "p.legend.label_text_font_size='8pt'\n",
    "p.legend.location='top_left'\n",
    "p.legend.spacing=1\n",
    "\n",
    "show(p)"
   ]
  },
  {
   "cell_type": "markdown",
   "metadata": {},
   "source": [
    "![](img/fra.png)"
   ]
  },
  {
   "cell_type": "markdown",
   "metadata": {},
   "source": [
    "[&#9650;back to top](#NLP-Financial-Statements)\n",
    "\n",
    "---"
   ]
  },
  {
   "cell_type": "markdown",
   "metadata": {},
   "source": [
    "### Sharpe Ratio of The Alphas"
   ]
  },
  {
   "cell_type": "markdown",
   "metadata": {},
   "source": [
    "Let's see what the sharpe ratio for the factors are. Generally, a Sharpe Ratio of near 1.0 or higher is an acceptable single alpha for this universe."
   ]
  },
  {
   "cell_type": "code",
   "execution_count": 140,
   "metadata": {},
   "outputs": [
    {
     "data": {
      "text/plain": [
       "negative       -1.48\n",
       "positive       -3.12\n",
       "uncertainty    -4.91\n",
       "litigious       0.94\n",
       "constraining    3.86\n",
       "interesting     4.46\n",
       "dtype: float64"
      ]
     },
     "execution_count": 140,
     "metadata": {},
     "output_type": "execute_result"
    }
   ],
   "source": [
    "daily_annualization_factor = np.sqrt(252)\n",
    "\n",
    "(daily_annualization_factor * ls_factor_returns.mean() / ls_factor_returns.std()).round(2)"
   ]
  },
  {
   "cell_type": "code",
   "execution_count": null,
   "metadata": {},
   "outputs": [],
   "source": []
  }
 ],
 "metadata": {
  "kernelspec": {
   "display_name": "Python 3",
   "language": "python",
   "name": "python3"
  },
  "language_info": {
   "codemirror_mode": {
    "name": "ipython",
    "version": 3
   },
   "file_extension": ".py",
   "mimetype": "text/x-python",
   "name": "python",
   "nbconvert_exporter": "python",
   "pygments_lexer": "ipython3",
   "version": "3.7.4"
  }
 },
 "nbformat": 4,
 "nbformat_minor": 4
}
